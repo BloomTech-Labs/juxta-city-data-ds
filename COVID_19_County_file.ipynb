{
  "nbformat": 4,
  "nbformat_minor": 0,
  "metadata": {
    "colab": {
      "name": "COVID-19 County file",
      "provenance": [],
      "authorship_tag": "ABX9TyPIh244gnQdggyzL5Quo3cq",
      "include_colab_link": true
    },
    "kernelspec": {
      "name": "python3",
      "display_name": "Python 3"
    }
  },
  "cells": [
    {
      "cell_type": "markdown",
      "metadata": {
        "id": "view-in-github",
        "colab_type": "text"
      },
      "source": [
        "<a href=\"https://colab.research.google.com/github/Lambda-School-Labs/juxta-city-data-ds/blob/dash-apps/COVID_19_County_file.ipynb\" target=\"_parent\"><img src=\"https://colab.research.google.com/assets/colab-badge.svg\" alt=\"Open In Colab\"/></a>"
      ]
    },
    {
      "cell_type": "code",
      "metadata": {
        "id": "ft5s5C5Q87V2",
        "colab_type": "code",
        "colab": {}
      },
      "source": [
        "import pandas as pd\n",
        "import numpy as np"
      ],
      "execution_count": null,
      "outputs": []
    },
    {
      "cell_type": "code",
      "metadata": {
        "id": "93lBs8bM9G2F",
        "colab_type": "code",
        "colab": {}
      },
      "source": [
        "source = 'https://raw.githubusercontent.com/CSSEGISandData/COVID-19/master/csse_covid_19_data/csse_covid_19_daily_reports/07-27-2020.csv'"
      ],
      "execution_count": null,
      "outputs": []
    },
    {
      "cell_type": "code",
      "metadata": {
        "id": "KSsZIEBo9CnO",
        "colab_type": "code",
        "colab": {}
      },
      "source": [
        "covid19_data = pd.read_csv(source)"
      ],
      "execution_count": null,
      "outputs": []
    },
    {
      "cell_type": "code",
      "metadata": {
        "id": "sCCovfEx9LC0",
        "colab_type": "code",
        "colab": {
          "base_uri": "https://localhost:8080/",
          "height": 660
        },
        "outputId": "e8b2b9c5-3b5e-4496-fd52-76e43e9ec97a"
      },
      "source": [
        "print(covid19_data.shape)\n",
        "covid19_data"
      ],
      "execution_count": null,
      "outputs": [
        {
          "output_type": "stream",
          "text": [
            "(3931, 14)\n"
          ],
          "name": "stdout"
        },
        {
          "output_type": "execute_result",
          "data": {
            "text/html": [
              "<div>\n",
              "<style scoped>\n",
              "    .dataframe tbody tr th:only-of-type {\n",
              "        vertical-align: middle;\n",
              "    }\n",
              "\n",
              "    .dataframe tbody tr th {\n",
              "        vertical-align: top;\n",
              "    }\n",
              "\n",
              "    .dataframe thead th {\n",
              "        text-align: right;\n",
              "    }\n",
              "</style>\n",
              "<table border=\"1\" class=\"dataframe\">\n",
              "  <thead>\n",
              "    <tr style=\"text-align: right;\">\n",
              "      <th></th>\n",
              "      <th>FIPS</th>\n",
              "      <th>Admin2</th>\n",
              "      <th>Province_State</th>\n",
              "      <th>Country_Region</th>\n",
              "      <th>Last_Update</th>\n",
              "      <th>Lat</th>\n",
              "      <th>Long_</th>\n",
              "      <th>Confirmed</th>\n",
              "      <th>Deaths</th>\n",
              "      <th>Recovered</th>\n",
              "      <th>Active</th>\n",
              "      <th>Combined_Key</th>\n",
              "      <th>Incidence_Rate</th>\n",
              "      <th>Case-Fatality_Ratio</th>\n",
              "    </tr>\n",
              "  </thead>\n",
              "  <tbody>\n",
              "    <tr>\n",
              "      <th>0</th>\n",
              "      <td>45001.0</td>\n",
              "      <td>Abbeville</td>\n",
              "      <td>South Carolina</td>\n",
              "      <td>US</td>\n",
              "      <td>2020-07-28 04:58:43</td>\n",
              "      <td>34.223334</td>\n",
              "      <td>-82.461707</td>\n",
              "      <td>272</td>\n",
              "      <td>4</td>\n",
              "      <td>0</td>\n",
              "      <td>268.0</td>\n",
              "      <td>Abbeville, South Carolina, US</td>\n",
              "      <td>1108.981938</td>\n",
              "      <td>1.470588</td>\n",
              "    </tr>\n",
              "    <tr>\n",
              "      <th>1</th>\n",
              "      <td>22001.0</td>\n",
              "      <td>Acadia</td>\n",
              "      <td>Louisiana</td>\n",
              "      <td>US</td>\n",
              "      <td>2020-07-28 04:58:43</td>\n",
              "      <td>30.295065</td>\n",
              "      <td>-92.414197</td>\n",
              "      <td>2215</td>\n",
              "      <td>63</td>\n",
              "      <td>0</td>\n",
              "      <td>2152.0</td>\n",
              "      <td>Acadia, Louisiana, US</td>\n",
              "      <td>3569.989524</td>\n",
              "      <td>2.844244</td>\n",
              "    </tr>\n",
              "    <tr>\n",
              "      <th>2</th>\n",
              "      <td>51001.0</td>\n",
              "      <td>Accomack</td>\n",
              "      <td>Virginia</td>\n",
              "      <td>US</td>\n",
              "      <td>2020-07-28 04:58:43</td>\n",
              "      <td>37.767072</td>\n",
              "      <td>-75.632346</td>\n",
              "      <td>1065</td>\n",
              "      <td>15</td>\n",
              "      <td>0</td>\n",
              "      <td>1050.0</td>\n",
              "      <td>Accomack, Virginia, US</td>\n",
              "      <td>3295.581136</td>\n",
              "      <td>1.408451</td>\n",
              "    </tr>\n",
              "    <tr>\n",
              "      <th>3</th>\n",
              "      <td>16001.0</td>\n",
              "      <td>Ada</td>\n",
              "      <td>Idaho</td>\n",
              "      <td>US</td>\n",
              "      <td>2020-07-28 04:58:43</td>\n",
              "      <td>43.452658</td>\n",
              "      <td>-116.241552</td>\n",
              "      <td>7203</td>\n",
              "      <td>47</td>\n",
              "      <td>0</td>\n",
              "      <td>7156.0</td>\n",
              "      <td>Ada, Idaho, US</td>\n",
              "      <td>1495.679908</td>\n",
              "      <td>0.652506</td>\n",
              "    </tr>\n",
              "    <tr>\n",
              "      <th>4</th>\n",
              "      <td>19001.0</td>\n",
              "      <td>Adair</td>\n",
              "      <td>Iowa</td>\n",
              "      <td>US</td>\n",
              "      <td>2020-07-28 04:58:43</td>\n",
              "      <td>41.330756</td>\n",
              "      <td>-94.471059</td>\n",
              "      <td>20</td>\n",
              "      <td>0</td>\n",
              "      <td>0</td>\n",
              "      <td>20.0</td>\n",
              "      <td>Adair, Iowa, US</td>\n",
              "      <td>279.642058</td>\n",
              "      <td>0.000000</td>\n",
              "    </tr>\n",
              "    <tr>\n",
              "      <th>...</th>\n",
              "      <td>...</td>\n",
              "      <td>...</td>\n",
              "      <td>...</td>\n",
              "      <td>...</td>\n",
              "      <td>...</td>\n",
              "      <td>...</td>\n",
              "      <td>...</td>\n",
              "      <td>...</td>\n",
              "      <td>...</td>\n",
              "      <td>...</td>\n",
              "      <td>...</td>\n",
              "      <td>...</td>\n",
              "      <td>...</td>\n",
              "      <td>...</td>\n",
              "    </tr>\n",
              "    <tr>\n",
              "      <th>3926</th>\n",
              "      <td>NaN</td>\n",
              "      <td>NaN</td>\n",
              "      <td>Unknown</td>\n",
              "      <td>Colombia</td>\n",
              "      <td>2020-07-17 22:34:48</td>\n",
              "      <td>NaN</td>\n",
              "      <td>NaN</td>\n",
              "      <td>0</td>\n",
              "      <td>0</td>\n",
              "      <td>0</td>\n",
              "      <td>0.0</td>\n",
              "      <td>Unknown, Colombia</td>\n",
              "      <td>NaN</td>\n",
              "      <td>NaN</td>\n",
              "    </tr>\n",
              "    <tr>\n",
              "      <th>3927</th>\n",
              "      <td>2070.0</td>\n",
              "      <td>Dillingham</td>\n",
              "      <td>Alaska</td>\n",
              "      <td>US</td>\n",
              "      <td>2020-07-17 18:35:12</td>\n",
              "      <td>59.796037</td>\n",
              "      <td>-158.238194</td>\n",
              "      <td>1</td>\n",
              "      <td>0</td>\n",
              "      <td>0</td>\n",
              "      <td>1.0</td>\n",
              "      <td>Dillingham, Alaska, US</td>\n",
              "      <td>20.341741</td>\n",
              "      <td>0.000000</td>\n",
              "    </tr>\n",
              "    <tr>\n",
              "      <th>3928</th>\n",
              "      <td>NaN</td>\n",
              "      <td>NaN</td>\n",
              "      <td>Grand Princess</td>\n",
              "      <td>Canada</td>\n",
              "      <td>2020-07-13 12:34:33</td>\n",
              "      <td>NaN</td>\n",
              "      <td>NaN</td>\n",
              "      <td>13</td>\n",
              "      <td>0</td>\n",
              "      <td>13</td>\n",
              "      <td>0.0</td>\n",
              "      <td>Grand Princess, Canada</td>\n",
              "      <td>NaN</td>\n",
              "      <td>0.000000</td>\n",
              "    </tr>\n",
              "    <tr>\n",
              "      <th>3929</th>\n",
              "      <td>16061.0</td>\n",
              "      <td>Lewis</td>\n",
              "      <td>Idaho</td>\n",
              "      <td>US</td>\n",
              "      <td>2020-07-10 02:34:22</td>\n",
              "      <td>46.233153</td>\n",
              "      <td>-116.434146</td>\n",
              "      <td>1</td>\n",
              "      <td>0</td>\n",
              "      <td>0</td>\n",
              "      <td>1.0</td>\n",
              "      <td>Lewis, Idaho, US</td>\n",
              "      <td>26.055237</td>\n",
              "      <td>0.000000</td>\n",
              "    </tr>\n",
              "    <tr>\n",
              "      <th>3930</th>\n",
              "      <td>41069.0</td>\n",
              "      <td>Wheeler</td>\n",
              "      <td>Oregon</td>\n",
              "      <td>US</td>\n",
              "      <td>2020-07-06 19:33:59</td>\n",
              "      <td>44.726982</td>\n",
              "      <td>-120.028143</td>\n",
              "      <td>0</td>\n",
              "      <td>0</td>\n",
              "      <td>0</td>\n",
              "      <td>0.0</td>\n",
              "      <td>Wheeler, Oregon, US</td>\n",
              "      <td>0.000000</td>\n",
              "      <td>NaN</td>\n",
              "    </tr>\n",
              "  </tbody>\n",
              "</table>\n",
              "<p>3931 rows × 14 columns</p>\n",
              "</div>"
            ],
            "text/plain": [
              "         FIPS      Admin2  ... Incidence_Rate Case-Fatality_Ratio\n",
              "0     45001.0   Abbeville  ...    1108.981938            1.470588\n",
              "1     22001.0      Acadia  ...    3569.989524            2.844244\n",
              "2     51001.0    Accomack  ...    3295.581136            1.408451\n",
              "3     16001.0         Ada  ...    1495.679908            0.652506\n",
              "4     19001.0       Adair  ...     279.642058            0.000000\n",
              "...       ...         ...  ...            ...                 ...\n",
              "3926      NaN         NaN  ...            NaN                 NaN\n",
              "3927   2070.0  Dillingham  ...      20.341741            0.000000\n",
              "3928      NaN         NaN  ...            NaN            0.000000\n",
              "3929  16061.0       Lewis  ...      26.055237            0.000000\n",
              "3930  41069.0     Wheeler  ...       0.000000                 NaN\n",
              "\n",
              "[3931 rows x 14 columns]"
            ]
          },
          "metadata": {
            "tags": []
          },
          "execution_count": 37
        }
      ]
    },
    {
      "cell_type": "code",
      "metadata": {
        "id": "-zNR5nzc9ND7",
        "colab_type": "code",
        "colab": {
          "base_uri": "https://localhost:8080/",
          "height": 343
        },
        "outputId": "bd81c486-e025-4fa4-a6c8-721504e7bba4"
      },
      "source": [
        "covid = covid19_data.copy()\n",
        "covid.head()"
      ],
      "execution_count": null,
      "outputs": [
        {
          "output_type": "execute_result",
          "data": {
            "text/html": [
              "<div>\n",
              "<style scoped>\n",
              "    .dataframe tbody tr th:only-of-type {\n",
              "        vertical-align: middle;\n",
              "    }\n",
              "\n",
              "    .dataframe tbody tr th {\n",
              "        vertical-align: top;\n",
              "    }\n",
              "\n",
              "    .dataframe thead th {\n",
              "        text-align: right;\n",
              "    }\n",
              "</style>\n",
              "<table border=\"1\" class=\"dataframe\">\n",
              "  <thead>\n",
              "    <tr style=\"text-align: right;\">\n",
              "      <th></th>\n",
              "      <th>FIPS</th>\n",
              "      <th>Admin2</th>\n",
              "      <th>Province_State</th>\n",
              "      <th>Country_Region</th>\n",
              "      <th>Last_Update</th>\n",
              "      <th>Lat</th>\n",
              "      <th>Long_</th>\n",
              "      <th>Confirmed</th>\n",
              "      <th>Deaths</th>\n",
              "      <th>Recovered</th>\n",
              "      <th>Active</th>\n",
              "      <th>Combined_Key</th>\n",
              "      <th>Incidence_Rate</th>\n",
              "      <th>Case-Fatality_Ratio</th>\n",
              "    </tr>\n",
              "  </thead>\n",
              "  <tbody>\n",
              "    <tr>\n",
              "      <th>0</th>\n",
              "      <td>45001.0</td>\n",
              "      <td>Abbeville</td>\n",
              "      <td>South Carolina</td>\n",
              "      <td>US</td>\n",
              "      <td>2020-07-28 04:58:43</td>\n",
              "      <td>34.223334</td>\n",
              "      <td>-82.461707</td>\n",
              "      <td>272</td>\n",
              "      <td>4</td>\n",
              "      <td>0</td>\n",
              "      <td>268.0</td>\n",
              "      <td>Abbeville, South Carolina, US</td>\n",
              "      <td>1108.981938</td>\n",
              "      <td>1.470588</td>\n",
              "    </tr>\n",
              "    <tr>\n",
              "      <th>1</th>\n",
              "      <td>22001.0</td>\n",
              "      <td>Acadia</td>\n",
              "      <td>Louisiana</td>\n",
              "      <td>US</td>\n",
              "      <td>2020-07-28 04:58:43</td>\n",
              "      <td>30.295065</td>\n",
              "      <td>-92.414197</td>\n",
              "      <td>2215</td>\n",
              "      <td>63</td>\n",
              "      <td>0</td>\n",
              "      <td>2152.0</td>\n",
              "      <td>Acadia, Louisiana, US</td>\n",
              "      <td>3569.989524</td>\n",
              "      <td>2.844244</td>\n",
              "    </tr>\n",
              "    <tr>\n",
              "      <th>2</th>\n",
              "      <td>51001.0</td>\n",
              "      <td>Accomack</td>\n",
              "      <td>Virginia</td>\n",
              "      <td>US</td>\n",
              "      <td>2020-07-28 04:58:43</td>\n",
              "      <td>37.767072</td>\n",
              "      <td>-75.632346</td>\n",
              "      <td>1065</td>\n",
              "      <td>15</td>\n",
              "      <td>0</td>\n",
              "      <td>1050.0</td>\n",
              "      <td>Accomack, Virginia, US</td>\n",
              "      <td>3295.581136</td>\n",
              "      <td>1.408451</td>\n",
              "    </tr>\n",
              "    <tr>\n",
              "      <th>3</th>\n",
              "      <td>16001.0</td>\n",
              "      <td>Ada</td>\n",
              "      <td>Idaho</td>\n",
              "      <td>US</td>\n",
              "      <td>2020-07-28 04:58:43</td>\n",
              "      <td>43.452658</td>\n",
              "      <td>-116.241552</td>\n",
              "      <td>7203</td>\n",
              "      <td>47</td>\n",
              "      <td>0</td>\n",
              "      <td>7156.0</td>\n",
              "      <td>Ada, Idaho, US</td>\n",
              "      <td>1495.679908</td>\n",
              "      <td>0.652506</td>\n",
              "    </tr>\n",
              "    <tr>\n",
              "      <th>4</th>\n",
              "      <td>19001.0</td>\n",
              "      <td>Adair</td>\n",
              "      <td>Iowa</td>\n",
              "      <td>US</td>\n",
              "      <td>2020-07-28 04:58:43</td>\n",
              "      <td>41.330756</td>\n",
              "      <td>-94.471059</td>\n",
              "      <td>20</td>\n",
              "      <td>0</td>\n",
              "      <td>0</td>\n",
              "      <td>20.0</td>\n",
              "      <td>Adair, Iowa, US</td>\n",
              "      <td>279.642058</td>\n",
              "      <td>0.000000</td>\n",
              "    </tr>\n",
              "  </tbody>\n",
              "</table>\n",
              "</div>"
            ],
            "text/plain": [
              "      FIPS     Admin2  ... Incidence_Rate Case-Fatality_Ratio\n",
              "0  45001.0  Abbeville  ...    1108.981938            1.470588\n",
              "1  22001.0     Acadia  ...    3569.989524            2.844244\n",
              "2  51001.0   Accomack  ...    3295.581136            1.408451\n",
              "3  16001.0        Ada  ...    1495.679908            0.652506\n",
              "4  19001.0      Adair  ...     279.642058            0.000000\n",
              "\n",
              "[5 rows x 14 columns]"
            ]
          },
          "metadata": {
            "tags": []
          },
          "execution_count": 38
        }
      ]
    },
    {
      "cell_type": "code",
      "metadata": {
        "id": "y8etKadF9gpS",
        "colab_type": "code",
        "colab": {
          "base_uri": "https://localhost:8080/",
          "height": 343
        },
        "outputId": "d3c96e53-9e84-49ae-f9ac-15ae34539009"
      },
      "source": [
        "covid = covid.rename(columns={'Province_State': 'State', 'Lat': 'Latitutde', 'Long_': 'Longitude'})\n",
        "covid.head()"
      ],
      "execution_count": null,
      "outputs": [
        {
          "output_type": "execute_result",
          "data": {
            "text/html": [
              "<div>\n",
              "<style scoped>\n",
              "    .dataframe tbody tr th:only-of-type {\n",
              "        vertical-align: middle;\n",
              "    }\n",
              "\n",
              "    .dataframe tbody tr th {\n",
              "        vertical-align: top;\n",
              "    }\n",
              "\n",
              "    .dataframe thead th {\n",
              "        text-align: right;\n",
              "    }\n",
              "</style>\n",
              "<table border=\"1\" class=\"dataframe\">\n",
              "  <thead>\n",
              "    <tr style=\"text-align: right;\">\n",
              "      <th></th>\n",
              "      <th>FIPS</th>\n",
              "      <th>Admin2</th>\n",
              "      <th>State</th>\n",
              "      <th>Country_Region</th>\n",
              "      <th>Last_Update</th>\n",
              "      <th>Latitutde</th>\n",
              "      <th>Longitude</th>\n",
              "      <th>Confirmed</th>\n",
              "      <th>Deaths</th>\n",
              "      <th>Recovered</th>\n",
              "      <th>Active</th>\n",
              "      <th>Combined_Key</th>\n",
              "      <th>Incidence_Rate</th>\n",
              "      <th>Case-Fatality_Ratio</th>\n",
              "    </tr>\n",
              "  </thead>\n",
              "  <tbody>\n",
              "    <tr>\n",
              "      <th>0</th>\n",
              "      <td>45001.0</td>\n",
              "      <td>Abbeville</td>\n",
              "      <td>South Carolina</td>\n",
              "      <td>US</td>\n",
              "      <td>2020-07-28 04:58:43</td>\n",
              "      <td>34.223334</td>\n",
              "      <td>-82.461707</td>\n",
              "      <td>272</td>\n",
              "      <td>4</td>\n",
              "      <td>0</td>\n",
              "      <td>268.0</td>\n",
              "      <td>Abbeville, South Carolina, US</td>\n",
              "      <td>1108.981938</td>\n",
              "      <td>1.470588</td>\n",
              "    </tr>\n",
              "    <tr>\n",
              "      <th>1</th>\n",
              "      <td>22001.0</td>\n",
              "      <td>Acadia</td>\n",
              "      <td>Louisiana</td>\n",
              "      <td>US</td>\n",
              "      <td>2020-07-28 04:58:43</td>\n",
              "      <td>30.295065</td>\n",
              "      <td>-92.414197</td>\n",
              "      <td>2215</td>\n",
              "      <td>63</td>\n",
              "      <td>0</td>\n",
              "      <td>2152.0</td>\n",
              "      <td>Acadia, Louisiana, US</td>\n",
              "      <td>3569.989524</td>\n",
              "      <td>2.844244</td>\n",
              "    </tr>\n",
              "    <tr>\n",
              "      <th>2</th>\n",
              "      <td>51001.0</td>\n",
              "      <td>Accomack</td>\n",
              "      <td>Virginia</td>\n",
              "      <td>US</td>\n",
              "      <td>2020-07-28 04:58:43</td>\n",
              "      <td>37.767072</td>\n",
              "      <td>-75.632346</td>\n",
              "      <td>1065</td>\n",
              "      <td>15</td>\n",
              "      <td>0</td>\n",
              "      <td>1050.0</td>\n",
              "      <td>Accomack, Virginia, US</td>\n",
              "      <td>3295.581136</td>\n",
              "      <td>1.408451</td>\n",
              "    </tr>\n",
              "    <tr>\n",
              "      <th>3</th>\n",
              "      <td>16001.0</td>\n",
              "      <td>Ada</td>\n",
              "      <td>Idaho</td>\n",
              "      <td>US</td>\n",
              "      <td>2020-07-28 04:58:43</td>\n",
              "      <td>43.452658</td>\n",
              "      <td>-116.241552</td>\n",
              "      <td>7203</td>\n",
              "      <td>47</td>\n",
              "      <td>0</td>\n",
              "      <td>7156.0</td>\n",
              "      <td>Ada, Idaho, US</td>\n",
              "      <td>1495.679908</td>\n",
              "      <td>0.652506</td>\n",
              "    </tr>\n",
              "    <tr>\n",
              "      <th>4</th>\n",
              "      <td>19001.0</td>\n",
              "      <td>Adair</td>\n",
              "      <td>Iowa</td>\n",
              "      <td>US</td>\n",
              "      <td>2020-07-28 04:58:43</td>\n",
              "      <td>41.330756</td>\n",
              "      <td>-94.471059</td>\n",
              "      <td>20</td>\n",
              "      <td>0</td>\n",
              "      <td>0</td>\n",
              "      <td>20.0</td>\n",
              "      <td>Adair, Iowa, US</td>\n",
              "      <td>279.642058</td>\n",
              "      <td>0.000000</td>\n",
              "    </tr>\n",
              "  </tbody>\n",
              "</table>\n",
              "</div>"
            ],
            "text/plain": [
              "      FIPS     Admin2  ... Incidence_Rate Case-Fatality_Ratio\n",
              "0  45001.0  Abbeville  ...    1108.981938            1.470588\n",
              "1  22001.0     Acadia  ...    3569.989524            2.844244\n",
              "2  51001.0   Accomack  ...    3295.581136            1.408451\n",
              "3  16001.0        Ada  ...    1495.679908            0.652506\n",
              "4  19001.0      Adair  ...     279.642058            0.000000\n",
              "\n",
              "[5 rows x 14 columns]"
            ]
          },
          "metadata": {
            "tags": []
          },
          "execution_count": 39
        }
      ]
    },
    {
      "cell_type": "code",
      "metadata": {
        "id": "BNqD75yd-CGI",
        "colab_type": "code",
        "colab": {
          "base_uri": "https://localhost:8080/",
          "height": 374
        },
        "outputId": "0c0133d1-4ab3-4e8d-ba34-9d80d86b48a0"
      },
      "source": [
        "covid.info()"
      ],
      "execution_count": null,
      "outputs": [
        {
          "output_type": "stream",
          "text": [
            "<class 'pandas.core.frame.DataFrame'>\n",
            "RangeIndex: 3931 entries, 0 to 3930\n",
            "Data columns (total 14 columns):\n",
            " #   Column               Non-Null Count  Dtype  \n",
            "---  ------               --------------  -----  \n",
            " 0   FIPS                 3236 non-null   float64\n",
            " 1   Admin2               3241 non-null   object \n",
            " 2   State                3763 non-null   object \n",
            " 3   Country_Region       3931 non-null   object \n",
            " 4   Last_Update          3931 non-null   object \n",
            " 5   Latitutde            3853 non-null   float64\n",
            " 6   Longitude            3853 non-null   float64\n",
            " 7   Confirmed            3931 non-null   int64  \n",
            " 8   Deaths               3931 non-null   int64  \n",
            " 9   Recovered            3931 non-null   int64  \n",
            " 10  Active               3928 non-null   float64\n",
            " 11  Combined_Key         3931 non-null   object \n",
            " 12  Incidence_Rate       3853 non-null   float64\n",
            " 13  Case-Fatality_Ratio  3880 non-null   float64\n",
            "dtypes: float64(6), int64(3), object(5)\n",
            "memory usage: 430.1+ KB\n"
          ],
          "name": "stdout"
        }
      ]
    },
    {
      "cell_type": "code",
      "metadata": {
        "id": "CwqJg2R-Imd0",
        "colab_type": "code",
        "colab": {}
      },
      "source": [
        "covid_data = covid.copy()"
      ],
      "execution_count": null,
      "outputs": []
    },
    {
      "cell_type": "code",
      "metadata": {
        "id": "fK_uxOrlI-E_",
        "colab_type": "code",
        "colab": {
          "base_uri": "https://localhost:8080/",
          "height": 391
        },
        "outputId": "54c9e883-0361-4bcf-8f20-5939afcb55aa"
      },
      "source": [
        "covid_data['Date'] = covid_data['Last_Update']\n",
        "covid_data.info()"
      ],
      "execution_count": null,
      "outputs": [
        {
          "output_type": "stream",
          "text": [
            "<class 'pandas.core.frame.DataFrame'>\n",
            "RangeIndex: 3931 entries, 0 to 3930\n",
            "Data columns (total 15 columns):\n",
            " #   Column               Non-Null Count  Dtype  \n",
            "---  ------               --------------  -----  \n",
            " 0   FIPS                 3236 non-null   float64\n",
            " 1   Admin2               3241 non-null   object \n",
            " 2   State                3763 non-null   object \n",
            " 3   Country_Region       3931 non-null   object \n",
            " 4   Last_Update          3931 non-null   object \n",
            " 5   Latitutde            3853 non-null   float64\n",
            " 6   Longitude            3853 non-null   float64\n",
            " 7   Confirmed            3931 non-null   int64  \n",
            " 8   Deaths               3931 non-null   int64  \n",
            " 9   Recovered            3931 non-null   int64  \n",
            " 10  Active               3928 non-null   float64\n",
            " 11  Combined_Key         3931 non-null   object \n",
            " 12  Incidence_Rate       3853 non-null   float64\n",
            " 13  Case-Fatality_Ratio  3880 non-null   float64\n",
            " 14  Date                 3931 non-null   object \n",
            "dtypes: float64(6), int64(3), object(6)\n",
            "memory usage: 460.8+ KB\n"
          ],
          "name": "stdout"
        }
      ]
    },
    {
      "cell_type": "code",
      "metadata": {
        "id": "XwIaDXaEJFpH",
        "colab_type": "code",
        "colab": {}
      },
      "source": [
        "covid_data['Date'] = pd.to_datetime(covid_data['Date'])"
      ],
      "execution_count": null,
      "outputs": []
    },
    {
      "cell_type": "code",
      "metadata": {
        "id": "DUiZqTGEJTBH",
        "colab_type": "code",
        "colab": {
          "base_uri": "https://localhost:8080/",
          "height": 391
        },
        "outputId": "542b4c0a-b78b-4af8-db9c-d0b70e91d00e"
      },
      "source": [
        "covid_data.info()"
      ],
      "execution_count": null,
      "outputs": [
        {
          "output_type": "stream",
          "text": [
            "<class 'pandas.core.frame.DataFrame'>\n",
            "RangeIndex: 3931 entries, 0 to 3930\n",
            "Data columns (total 15 columns):\n",
            " #   Column               Non-Null Count  Dtype         \n",
            "---  ------               --------------  -----         \n",
            " 0   FIPS                 3236 non-null   float64       \n",
            " 1   Admin2               3241 non-null   object        \n",
            " 2   State                3763 non-null   object        \n",
            " 3   Country_Region       3931 non-null   object        \n",
            " 4   Last_Update          3931 non-null   object        \n",
            " 5   Latitutde            3853 non-null   float64       \n",
            " 6   Longitude            3853 non-null   float64       \n",
            " 7   Confirmed            3931 non-null   int64         \n",
            " 8   Deaths               3931 non-null   int64         \n",
            " 9   Recovered            3931 non-null   int64         \n",
            " 10  Active               3928 non-null   float64       \n",
            " 11  Combined_Key         3931 non-null   object        \n",
            " 12  Incidence_Rate       3853 non-null   float64       \n",
            " 13  Case-Fatality_Ratio  3880 non-null   float64       \n",
            " 14  Date                 3931 non-null   datetime64[ns]\n",
            "dtypes: datetime64[ns](1), float64(6), int64(3), object(5)\n",
            "memory usage: 460.8+ KB\n"
          ],
          "name": "stdout"
        }
      ]
    },
    {
      "cell_type": "code",
      "metadata": {
        "id": "JXGENuoVeNal",
        "colab_type": "code",
        "colab": {}
      },
      "source": [
        "def rm_time(time):\n",
        "    return time.strip('\"')[:-8]\n",
        "\n",
        "covid_data['Last_Update'] = covid_data['Last_Update'].apply(rm_time)"
      ],
      "execution_count": null,
      "outputs": []
    },
    {
      "cell_type": "code",
      "metadata": {
        "id": "ABNdk-joJf6P",
        "colab_type": "code",
        "colab": {
          "base_uri": "https://localhost:8080/",
          "height": 796
        },
        "outputId": "5a8c11ec-d57b-4ebc-c550-3ed9a3ef5711"
      },
      "source": [
        "covid_data[]"
      ],
      "execution_count": null,
      "outputs": [
        {
          "output_type": "execute_result",
          "data": {
            "text/html": [
              "<div>\n",
              "<style scoped>\n",
              "    .dataframe tbody tr th:only-of-type {\n",
              "        vertical-align: middle;\n",
              "    }\n",
              "\n",
              "    .dataframe tbody tr th {\n",
              "        vertical-align: top;\n",
              "    }\n",
              "\n",
              "    .dataframe thead th {\n",
              "        text-align: right;\n",
              "    }\n",
              "</style>\n",
              "<table border=\"1\" class=\"dataframe\">\n",
              "  <thead>\n",
              "    <tr style=\"text-align: right;\">\n",
              "      <th></th>\n",
              "      <th>FIPS</th>\n",
              "      <th>Admin2</th>\n",
              "      <th>State</th>\n",
              "      <th>Country_Region</th>\n",
              "      <th>Last_Update</th>\n",
              "      <th>Latitutde</th>\n",
              "      <th>Longitude</th>\n",
              "      <th>Confirmed</th>\n",
              "      <th>Deaths</th>\n",
              "      <th>Recovered</th>\n",
              "      <th>Active</th>\n",
              "      <th>Combined_Key</th>\n",
              "      <th>Incidence_Rate</th>\n",
              "      <th>Case-Fatality_Ratio</th>\n",
              "      <th>Date</th>\n",
              "    </tr>\n",
              "  </thead>\n",
              "  <tbody>\n",
              "    <tr>\n",
              "      <th>0</th>\n",
              "      <td>45001.0</td>\n",
              "      <td>Abbeville</td>\n",
              "      <td>South Carolina</td>\n",
              "      <td>US</td>\n",
              "      <td>2020-07-28</td>\n",
              "      <td>34.223334</td>\n",
              "      <td>-82.461707</td>\n",
              "      <td>272</td>\n",
              "      <td>4</td>\n",
              "      <td>0</td>\n",
              "      <td>268.0</td>\n",
              "      <td>Abbeville, South Carolina, US</td>\n",
              "      <td>1108.981938</td>\n",
              "      <td>1.470588</td>\n",
              "      <td>2020-07-28 04:58:43</td>\n",
              "    </tr>\n",
              "    <tr>\n",
              "      <th>1</th>\n",
              "      <td>22001.0</td>\n",
              "      <td>Acadia</td>\n",
              "      <td>Louisiana</td>\n",
              "      <td>US</td>\n",
              "      <td>2020-07-28</td>\n",
              "      <td>30.295065</td>\n",
              "      <td>-92.414197</td>\n",
              "      <td>2215</td>\n",
              "      <td>63</td>\n",
              "      <td>0</td>\n",
              "      <td>2152.0</td>\n",
              "      <td>Acadia, Louisiana, US</td>\n",
              "      <td>3569.989524</td>\n",
              "      <td>2.844244</td>\n",
              "      <td>2020-07-28 04:58:43</td>\n",
              "    </tr>\n",
              "    <tr>\n",
              "      <th>2</th>\n",
              "      <td>51001.0</td>\n",
              "      <td>Accomack</td>\n",
              "      <td>Virginia</td>\n",
              "      <td>US</td>\n",
              "      <td>2020-07-28</td>\n",
              "      <td>37.767072</td>\n",
              "      <td>-75.632346</td>\n",
              "      <td>1065</td>\n",
              "      <td>15</td>\n",
              "      <td>0</td>\n",
              "      <td>1050.0</td>\n",
              "      <td>Accomack, Virginia, US</td>\n",
              "      <td>3295.581136</td>\n",
              "      <td>1.408451</td>\n",
              "      <td>2020-07-28 04:58:43</td>\n",
              "    </tr>\n",
              "    <tr>\n",
              "      <th>3</th>\n",
              "      <td>16001.0</td>\n",
              "      <td>Ada</td>\n",
              "      <td>Idaho</td>\n",
              "      <td>US</td>\n",
              "      <td>2020-07-28</td>\n",
              "      <td>43.452658</td>\n",
              "      <td>-116.241552</td>\n",
              "      <td>7203</td>\n",
              "      <td>47</td>\n",
              "      <td>0</td>\n",
              "      <td>7156.0</td>\n",
              "      <td>Ada, Idaho, US</td>\n",
              "      <td>1495.679908</td>\n",
              "      <td>0.652506</td>\n",
              "      <td>2020-07-28 04:58:43</td>\n",
              "    </tr>\n",
              "    <tr>\n",
              "      <th>4</th>\n",
              "      <td>19001.0</td>\n",
              "      <td>Adair</td>\n",
              "      <td>Iowa</td>\n",
              "      <td>US</td>\n",
              "      <td>2020-07-28</td>\n",
              "      <td>41.330756</td>\n",
              "      <td>-94.471059</td>\n",
              "      <td>20</td>\n",
              "      <td>0</td>\n",
              "      <td>0</td>\n",
              "      <td>20.0</td>\n",
              "      <td>Adair, Iowa, US</td>\n",
              "      <td>279.642058</td>\n",
              "      <td>0.000000</td>\n",
              "      <td>2020-07-28 04:58:43</td>\n",
              "    </tr>\n",
              "    <tr>\n",
              "      <th>...</th>\n",
              "      <td>...</td>\n",
              "      <td>...</td>\n",
              "      <td>...</td>\n",
              "      <td>...</td>\n",
              "      <td>...</td>\n",
              "      <td>...</td>\n",
              "      <td>...</td>\n",
              "      <td>...</td>\n",
              "      <td>...</td>\n",
              "      <td>...</td>\n",
              "      <td>...</td>\n",
              "      <td>...</td>\n",
              "      <td>...</td>\n",
              "      <td>...</td>\n",
              "      <td>...</td>\n",
              "    </tr>\n",
              "    <tr>\n",
              "      <th>3926</th>\n",
              "      <td>NaN</td>\n",
              "      <td>NaN</td>\n",
              "      <td>Unknown</td>\n",
              "      <td>Colombia</td>\n",
              "      <td>2020-07-17</td>\n",
              "      <td>NaN</td>\n",
              "      <td>NaN</td>\n",
              "      <td>0</td>\n",
              "      <td>0</td>\n",
              "      <td>0</td>\n",
              "      <td>0.0</td>\n",
              "      <td>Unknown, Colombia</td>\n",
              "      <td>NaN</td>\n",
              "      <td>NaN</td>\n",
              "      <td>2020-07-17 22:34:48</td>\n",
              "    </tr>\n",
              "    <tr>\n",
              "      <th>3927</th>\n",
              "      <td>2070.0</td>\n",
              "      <td>Dillingham</td>\n",
              "      <td>Alaska</td>\n",
              "      <td>US</td>\n",
              "      <td>2020-07-17</td>\n",
              "      <td>59.796037</td>\n",
              "      <td>-158.238194</td>\n",
              "      <td>1</td>\n",
              "      <td>0</td>\n",
              "      <td>0</td>\n",
              "      <td>1.0</td>\n",
              "      <td>Dillingham, Alaska, US</td>\n",
              "      <td>20.341741</td>\n",
              "      <td>0.000000</td>\n",
              "      <td>2020-07-17 18:35:12</td>\n",
              "    </tr>\n",
              "    <tr>\n",
              "      <th>3928</th>\n",
              "      <td>NaN</td>\n",
              "      <td>NaN</td>\n",
              "      <td>Grand Princess</td>\n",
              "      <td>Canada</td>\n",
              "      <td>2020-07-13</td>\n",
              "      <td>NaN</td>\n",
              "      <td>NaN</td>\n",
              "      <td>13</td>\n",
              "      <td>0</td>\n",
              "      <td>13</td>\n",
              "      <td>0.0</td>\n",
              "      <td>Grand Princess, Canada</td>\n",
              "      <td>NaN</td>\n",
              "      <td>0.000000</td>\n",
              "      <td>2020-07-13 12:34:33</td>\n",
              "    </tr>\n",
              "    <tr>\n",
              "      <th>3929</th>\n",
              "      <td>16061.0</td>\n",
              "      <td>Lewis</td>\n",
              "      <td>Idaho</td>\n",
              "      <td>US</td>\n",
              "      <td>2020-07-10</td>\n",
              "      <td>46.233153</td>\n",
              "      <td>-116.434146</td>\n",
              "      <td>1</td>\n",
              "      <td>0</td>\n",
              "      <td>0</td>\n",
              "      <td>1.0</td>\n",
              "      <td>Lewis, Idaho, US</td>\n",
              "      <td>26.055237</td>\n",
              "      <td>0.000000</td>\n",
              "      <td>2020-07-10 02:34:22</td>\n",
              "    </tr>\n",
              "    <tr>\n",
              "      <th>3930</th>\n",
              "      <td>41069.0</td>\n",
              "      <td>Wheeler</td>\n",
              "      <td>Oregon</td>\n",
              "      <td>US</td>\n",
              "      <td>2020-07-06</td>\n",
              "      <td>44.726982</td>\n",
              "      <td>-120.028143</td>\n",
              "      <td>0</td>\n",
              "      <td>0</td>\n",
              "      <td>0</td>\n",
              "      <td>0.0</td>\n",
              "      <td>Wheeler, Oregon, US</td>\n",
              "      <td>0.000000</td>\n",
              "      <td>NaN</td>\n",
              "      <td>2020-07-06 19:33:59</td>\n",
              "    </tr>\n",
              "  </tbody>\n",
              "</table>\n",
              "<p>3931 rows × 15 columns</p>\n",
              "</div>"
            ],
            "text/plain": [
              "         FIPS      Admin2  ... Case-Fatality_Ratio                Date\n",
              "0     45001.0   Abbeville  ...            1.470588 2020-07-28 04:58:43\n",
              "1     22001.0      Acadia  ...            2.844244 2020-07-28 04:58:43\n",
              "2     51001.0    Accomack  ...            1.408451 2020-07-28 04:58:43\n",
              "3     16001.0         Ada  ...            0.652506 2020-07-28 04:58:43\n",
              "4     19001.0       Adair  ...            0.000000 2020-07-28 04:58:43\n",
              "...       ...         ...  ...                 ...                 ...\n",
              "3926      NaN         NaN  ...                 NaN 2020-07-17 22:34:48\n",
              "3927   2070.0  Dillingham  ...            0.000000 2020-07-17 18:35:12\n",
              "3928      NaN         NaN  ...            0.000000 2020-07-13 12:34:33\n",
              "3929  16061.0       Lewis  ...            0.000000 2020-07-10 02:34:22\n",
              "3930  41069.0     Wheeler  ...                 NaN 2020-07-06 19:33:59\n",
              "\n",
              "[3931 rows x 15 columns]"
            ]
          },
          "metadata": {
            "tags": []
          },
          "execution_count": 56
        }
      ]
    },
    {
      "cell_type": "code",
      "metadata": {
        "id": "UWl4QdmOLZ2G",
        "colab_type": "code",
        "colab": {}
      },
      "source": [
        "from datetime import date\n",
        "from datetime import timedelta\n",
        "\n",
        "today = date.today()\n",
        "yesterday = today - timedelta(days = 1)\n",
        "yesterday = yesterday.strftime('%m-%d-%y')"
      ],
      "execution_count": null,
      "outputs": []
    },
    {
      "cell_type": "code",
      "metadata": {
        "id": "6MYCNM949bvY",
        "colab_type": "code",
        "colab": {
          "base_uri": "https://localhost:8080/",
          "height": 35
        },
        "outputId": "aa52c3c7-8960-4537-fb85-dfe9f7e60a32"
      },
      "source": [
        "yesterday"
      ],
      "execution_count": null,
      "outputs": [
        {
          "output_type": "execute_result",
          "data": {
            "application/vnd.google.colaboratory.intrinsic+json": {
              "type": "string"
            },
            "text/plain": [
              "'08-08-20'"
            ]
          },
          "metadata": {
            "tags": []
          },
          "execution_count": 6
        }
      ]
    },
    {
      "cell_type": "code",
      "metadata": {
        "id": "9VmqdY2B5Qi9",
        "colab_type": "code",
        "colab": {}
      },
      "source": [
        "import pandas as pd\n",
        "from datetime import date\n",
        "from datetime import timedelta"
      ],
      "execution_count": null,
      "outputs": []
    },
    {
      "cell_type": "code",
      "metadata": {
        "id": "2kVW0NAg5Uen",
        "colab_type": "code",
        "colab": {}
      },
      "source": [
        "covid_url = 'https://github.com/CSSEGISandData/COVID-19/tree/master/csse_covid_19_data/csse_covid_19_daily_reports_us'"
      ],
      "execution_count": null,
      "outputs": []
    },
    {
      "cell_type": "code",
      "metadata": {
        "id": "OKQx4MdwFlIJ",
        "colab_type": "code",
        "colab": {}
      },
      "source": [
        "today = date.today()\n",
        "# yesterday = today - timedelta(days = 1)\n",
        "# yesterday = yesterday.strftime('%m-%d-%y')"
      ],
      "execution_count": null,
      "outputs": []
    },
    {
      "cell_type": "code",
      "metadata": {
        "id": "Wlc28Xn9eAIS",
        "colab_type": "code",
        "colab": {}
      },
      "source": [
        "yesterday = (date.today() - timedelta(days=1)).strftime(\"%m-%d-%Y\")"
      ],
      "execution_count": null,
      "outputs": []
    },
    {
      "cell_type": "code",
      "metadata": {
        "id": "uFwzQSjj5Z9e",
        "colab_type": "code",
        "colab": {}
      },
      "source": [
        "today = date.today()\n",
        "yesterday = today - timedelta(days = 2)\n",
        "yesterday = yesterday.strftime('%m-%d-%y')"
      ],
      "execution_count": null,
      "outputs": []
    },
    {
      "cell_type": "code",
      "metadata": {
        "id": "Yep2exIdFFFK",
        "colab_type": "code",
        "colab": {
          "base_uri": "https://localhost:8080/",
          "height": 34
        },
        "outputId": "917303b1-d0d5-4a11-e9f5-ee64e040fbc7"
      },
      "source": [
        "print(yesterday)"
      ],
      "execution_count": null,
      "outputs": [
        {
          "output_type": "stream",
          "text": [
            "08-09-20\n"
          ],
          "name": "stdout"
        }
      ]
    },
    {
      "cell_type": "code",
      "metadata": {
        "id": "6qFvbJdAdhwm",
        "colab_type": "code",
        "colab": {}
      },
      "source": [
        "yesterday = (date.today() - timedelta(days=1)).strftime(\"%m-%d-%Y\")"
      ],
      "execution_count": null,
      "outputs": []
    },
    {
      "cell_type": "code",
      "metadata": {
        "id": "ukLr62IjdAQc",
        "colab_type": "code",
        "colab": {}
      },
      "source": [
        "import pandas as pd\n",
        "from datetime import date, timedelta\n",
        "yesterday = (date.today() - timedelta(days=1)).strftime(\"%m-%d-%Y\")\n",
        "#jhu_filepath = f'https://raw.githubusercontent.com/CSSEGISandData/COVID-19/master/csse_covid_19_data/csse_covid_19_daily_reports/{yesterday}.csv'\n",
        "#covid = pd.read_csv(jhu_filepath)\n",
        "#print(covid.head())"
      ],
      "execution_count": null,
      "outputs": []
    },
    {
      "cell_type": "code",
      "metadata": {
        "id": "bHInHH_7vey7",
        "colab_type": "code",
        "colab": {}
      },
      "source": [
        "df = pd.read_csv('https://raw.githubusercontent.com/CSSEGISandData/COVID-19/master/csse_covid_19_data/csse_covid_19_daily_reports/08-10-2020.csv')"
      ],
      "execution_count": null,
      "outputs": []
    },
    {
      "cell_type": "code",
      "metadata": {
        "id": "uejpMkmmvj6k",
        "colab_type": "code",
        "colab": {
          "base_uri": "https://localhost:8080/",
          "height": 343
        },
        "outputId": "4078c1a5-4e08-454e-9d05-d378f6b6244a"
      },
      "source": [
        "df.head()"
      ],
      "execution_count": null,
      "outputs": [
        {
          "output_type": "execute_result",
          "data": {
            "text/html": [
              "<div>\n",
              "<style scoped>\n",
              "    .dataframe tbody tr th:only-of-type {\n",
              "        vertical-align: middle;\n",
              "    }\n",
              "\n",
              "    .dataframe tbody tr th {\n",
              "        vertical-align: top;\n",
              "    }\n",
              "\n",
              "    .dataframe thead th {\n",
              "        text-align: right;\n",
              "    }\n",
              "</style>\n",
              "<table border=\"1\" class=\"dataframe\">\n",
              "  <thead>\n",
              "    <tr style=\"text-align: right;\">\n",
              "      <th></th>\n",
              "      <th>FIPS</th>\n",
              "      <th>Admin2</th>\n",
              "      <th>Province_State</th>\n",
              "      <th>Country_Region</th>\n",
              "      <th>Last_Update</th>\n",
              "      <th>Lat</th>\n",
              "      <th>Long_</th>\n",
              "      <th>Confirmed</th>\n",
              "      <th>Deaths</th>\n",
              "      <th>Recovered</th>\n",
              "      <th>Active</th>\n",
              "      <th>Combined_Key</th>\n",
              "      <th>Incidence_Rate</th>\n",
              "      <th>Case-Fatality_Ratio</th>\n",
              "    </tr>\n",
              "  </thead>\n",
              "  <tbody>\n",
              "    <tr>\n",
              "      <th>0</th>\n",
              "      <td>45001.0</td>\n",
              "      <td>Abbeville</td>\n",
              "      <td>South Carolina</td>\n",
              "      <td>US</td>\n",
              "      <td>2020-08-11 04:35:08</td>\n",
              "      <td>34.223334</td>\n",
              "      <td>-82.461707</td>\n",
              "      <td>335</td>\n",
              "      <td>9</td>\n",
              "      <td>0</td>\n",
              "      <td>326.0</td>\n",
              "      <td>Abbeville, South Carolina, US</td>\n",
              "      <td>1365.841725</td>\n",
              "      <td>2.686567</td>\n",
              "    </tr>\n",
              "    <tr>\n",
              "      <th>1</th>\n",
              "      <td>22001.0</td>\n",
              "      <td>Acadia</td>\n",
              "      <td>Louisiana</td>\n",
              "      <td>US</td>\n",
              "      <td>2020-08-11 04:35:08</td>\n",
              "      <td>30.295065</td>\n",
              "      <td>-92.414197</td>\n",
              "      <td>2601</td>\n",
              "      <td>85</td>\n",
              "      <td>0</td>\n",
              "      <td>2516.0</td>\n",
              "      <td>Acadia, Louisiana, US</td>\n",
              "      <td>4192.118624</td>\n",
              "      <td>3.267974</td>\n",
              "    </tr>\n",
              "    <tr>\n",
              "      <th>2</th>\n",
              "      <td>51001.0</td>\n",
              "      <td>Accomack</td>\n",
              "      <td>Virginia</td>\n",
              "      <td>US</td>\n",
              "      <td>2020-08-11 04:35:08</td>\n",
              "      <td>37.767072</td>\n",
              "      <td>-75.632346</td>\n",
              "      <td>1102</td>\n",
              "      <td>16</td>\n",
              "      <td>0</td>\n",
              "      <td>1086.0</td>\n",
              "      <td>Accomack, Virginia, US</td>\n",
              "      <td>3410.075504</td>\n",
              "      <td>1.451906</td>\n",
              "    </tr>\n",
              "    <tr>\n",
              "      <th>3</th>\n",
              "      <td>16001.0</td>\n",
              "      <td>Ada</td>\n",
              "      <td>Idaho</td>\n",
              "      <td>US</td>\n",
              "      <td>2020-08-11 04:35:08</td>\n",
              "      <td>43.452658</td>\n",
              "      <td>-116.241552</td>\n",
              "      <td>9144</td>\n",
              "      <td>83</td>\n",
              "      <td>0</td>\n",
              "      <td>9061.0</td>\n",
              "      <td>Ada, Idaho, US</td>\n",
              "      <td>1898.722349</td>\n",
              "      <td>0.907699</td>\n",
              "    </tr>\n",
              "    <tr>\n",
              "      <th>4</th>\n",
              "      <td>19001.0</td>\n",
              "      <td>Adair</td>\n",
              "      <td>Iowa</td>\n",
              "      <td>US</td>\n",
              "      <td>2020-08-11 04:35:08</td>\n",
              "      <td>41.330756</td>\n",
              "      <td>-94.471059</td>\n",
              "      <td>30</td>\n",
              "      <td>0</td>\n",
              "      <td>0</td>\n",
              "      <td>30.0</td>\n",
              "      <td>Adair, Iowa, US</td>\n",
              "      <td>419.463087</td>\n",
              "      <td>0.000000</td>\n",
              "    </tr>\n",
              "  </tbody>\n",
              "</table>\n",
              "</div>"
            ],
            "text/plain": [
              "      FIPS     Admin2  ... Incidence_Rate Case-Fatality_Ratio\n",
              "0  45001.0  Abbeville  ...    1365.841725            2.686567\n",
              "1  22001.0     Acadia  ...    4192.118624            3.267974\n",
              "2  51001.0   Accomack  ...    3410.075504            1.451906\n",
              "3  16001.0        Ada  ...    1898.722349            0.907699\n",
              "4  19001.0      Adair  ...     419.463087            0.000000\n",
              "\n",
              "[5 rows x 14 columns]"
            ]
          },
          "metadata": {
            "tags": []
          },
          "execution_count": 4
        }
      ]
    },
    {
      "cell_type": "code",
      "metadata": {
        "id": "28xUEzZhzVCR",
        "colab_type": "code",
        "colab": {}
      },
      "source": [
        "def remove_last_num(num):\n",
        "  return num.strip('\"')[:-15]"
      ],
      "execution_count": null,
      "outputs": []
    },
    {
      "cell_type": "code",
      "metadata": {
        "id": "OWpRSLLszReQ",
        "colab_type": "code",
        "colab": {
          "base_uri": "https://localhost:8080/",
          "height": 221
        },
        "outputId": "a129b7eb-f872-4a2a-dfa8-000d83ad30e5"
      },
      "source": [
        "df['Last_Update'].apply(remove_last_num)"
      ],
      "execution_count": null,
      "outputs": [
        {
          "output_type": "execute_result",
          "data": {
            "text/plain": [
              "0       2020\n",
              "1       2020\n",
              "2       2020\n",
              "3       2020\n",
              "4       2020\n",
              "        ... \n",
              "3935    2020\n",
              "3936    2020\n",
              "3937    2020\n",
              "3938    2020\n",
              "3939    2020\n",
              "Name: Last_Update, Length: 3940, dtype: object"
            ]
          },
          "metadata": {
            "tags": []
          },
          "execution_count": 6
        }
      ]
    },
    {
      "cell_type": "code",
      "metadata": {
        "id": "ctRR6Cah_sIP",
        "colab_type": "code",
        "colab": {
          "base_uri": "https://localhost:8080/",
          "height": 221
        },
        "outputId": "af848a35-b6c2-496a-c308-a7d2a1d489ba"
      },
      "source": [
        "df['Confirmed'].sort_values()"
      ],
      "execution_count": null,
      "outputs": [
        {
          "output_type": "execute_result",
          "data": {
            "text/plain": [
              "3939         0\n",
              "2922         0\n",
              "754          0\n",
              "2918         0\n",
              "2916         0\n",
              "         ...  \n",
              "3683    302815\n",
              "3839    328844\n",
              "3508    524513\n",
              "3907    563598\n",
              "3647    628415\n",
              "Name: Confirmed, Length: 3940, dtype: int64"
            ]
          },
          "metadata": {
            "tags": []
          },
          "execution_count": 7
        }
      ]
    },
    {
      "cell_type": "code",
      "metadata": {
        "id": "OpX4LPDFGLBQ",
        "colab_type": "code",
        "colab": {
          "base_uri": "https://localhost:8080/",
          "height": 513
        },
        "outputId": "da171ab1-90da-4965-e7b8-4f9776c01306"
      },
      "source": [
        "!pip install geopandas\n",
        "!pip install plotly"
      ],
      "execution_count": null,
      "outputs": [
        {
          "output_type": "stream",
          "text": [
            "Collecting geopandas\n",
            "\u001b[?25l  Downloading https://files.pythonhosted.org/packages/f7/a4/e66aafbefcbb717813bf3a355c8c4fc3ed04ea1dd7feb2920f2f4f868921/geopandas-0.8.1-py2.py3-none-any.whl (962kB)\n",
            "\u001b[K     |████████████████████████████████| 972kB 2.8MB/s \n",
            "\u001b[?25hCollecting fiona\n",
            "\u001b[?25l  Downloading https://files.pythonhosted.org/packages/ec/20/4e63bc5c6e62df889297b382c3ccd4a7a488b00946aaaf81a118158c6f09/Fiona-1.8.13.post1-cp36-cp36m-manylinux1_x86_64.whl (14.7MB)\n",
            "\u001b[K     |████████████████████████████████| 14.7MB 245kB/s \n",
            "\u001b[?25hRequirement already satisfied: shapely in /usr/local/lib/python3.6/dist-packages (from geopandas) (1.7.0)\n",
            "Collecting pyproj>=2.2.0\n",
            "\u001b[?25l  Downloading https://files.pythonhosted.org/packages/e5/c3/071e080230ac4b6c64f1a2e2f9161c9737a2bc7b683d2c90b024825000c0/pyproj-2.6.1.post1-cp36-cp36m-manylinux2010_x86_64.whl (10.9MB)\n",
            "\u001b[K     |████████████████████████████████| 10.9MB 46.6MB/s \n",
            "\u001b[?25hRequirement already satisfied: pandas>=0.23.0 in /usr/local/lib/python3.6/dist-packages (from geopandas) (1.0.5)\n",
            "Collecting cligj>=0.5\n",
            "  Downloading https://files.pythonhosted.org/packages/e4/be/30a58b4b0733850280d01f8bd132591b4668ed5c7046761098d665ac2174/cligj-0.5.0-py3-none-any.whl\n",
            "Collecting click-plugins>=1.0\n",
            "  Downloading https://files.pythonhosted.org/packages/e9/da/824b92d9942f4e472702488857914bdd50f73021efea15b4cad9aca8ecef/click_plugins-1.1.1-py2.py3-none-any.whl\n",
            "Requirement already satisfied: attrs>=17 in /usr/local/lib/python3.6/dist-packages (from fiona->geopandas) (19.3.0)\n",
            "Requirement already satisfied: click<8,>=4.0 in /usr/local/lib/python3.6/dist-packages (from fiona->geopandas) (7.1.2)\n",
            "Collecting munch\n",
            "  Downloading https://files.pythonhosted.org/packages/cc/ab/85d8da5c9a45e072301beb37ad7f833cd344e04c817d97e0cc75681d248f/munch-2.5.0-py2.py3-none-any.whl\n",
            "Requirement already satisfied: six>=1.7 in /usr/local/lib/python3.6/dist-packages (from fiona->geopandas) (1.15.0)\n",
            "Requirement already satisfied: python-dateutil>=2.6.1 in /usr/local/lib/python3.6/dist-packages (from pandas>=0.23.0->geopandas) (2.8.1)\n",
            "Requirement already satisfied: numpy>=1.13.3 in /usr/local/lib/python3.6/dist-packages (from pandas>=0.23.0->geopandas) (1.18.5)\n",
            "Requirement already satisfied: pytz>=2017.2 in /usr/local/lib/python3.6/dist-packages (from pandas>=0.23.0->geopandas) (2018.9)\n",
            "Installing collected packages: cligj, click-plugins, munch, fiona, pyproj, geopandas\n",
            "Successfully installed click-plugins-1.1.1 cligj-0.5.0 fiona-1.8.13.post1 geopandas-0.8.1 munch-2.5.0 pyproj-2.6.1.post1\n",
            "Requirement already satisfied: plotly in /usr/local/lib/python3.6/dist-packages (4.4.1)\n",
            "Requirement already satisfied: retrying>=1.3.3 in /usr/local/lib/python3.6/dist-packages (from plotly) (1.3.3)\n",
            "Requirement already satisfied: six in /usr/local/lib/python3.6/dist-packages (from plotly) (1.15.0)\n"
          ],
          "name": "stdout"
        }
      ]
    },
    {
      "cell_type": "code",
      "metadata": {
        "id": "KVRB3YGEFxOi",
        "colab_type": "code",
        "colab": {}
      },
      "source": [
        "import plotly.offline as py\n",
        "import plotly.graph_objs as graph_objs\n",
        "import geopandas as gpd\n",
        "import numpy as np\n",
        "\n",
        "mapbox_access_token = \"pk.eyJ1IjoiamFja3AiLCJhIjoidGpzN0lXVSJ9.7YK6eRwUNFwd3ODZff6JvA\""
      ],
      "execution_count": null,
      "outputs": []
    },
    {
      "cell_type": "code",
      "metadata": {
        "id": "umse5oi1GJtT",
        "colab_type": "code",
        "colab": {}
      },
      "source": [
        "dfg = gpd.read_file('https://raw.githubusercontent.com/jackparmer/mapbox-counties/master/us-counties.json')"
      ],
      "execution_count": null,
      "outputs": []
    },
    {
      "cell_type": "code",
      "metadata": {
        "id": "Cz6FpcKEGgCg",
        "colab_type": "code",
        "colab": {}
      },
      "source": [
        "dfg['id'] = dfg['id'].apply(lambda x: x.zfill(5))"
      ],
      "execution_count": null,
      "outputs": []
    },
    {
      "cell_type": "code",
      "metadata": {
        "id": "tOlwdx0JGlsI",
        "colab_type": "code",
        "colab": {
          "base_uri": "https://localhost:8080/",
          "height": 204
        },
        "outputId": "fc54fc75-8edf-4616-c6ab-cc5a81936f31"
      },
      "source": [
        "dfg.head()"
      ],
      "execution_count": null,
      "outputs": [
        {
          "output_type": "execute_result",
          "data": {
            "text/html": [
              "<div>\n",
              "<style scoped>\n",
              "    .dataframe tbody tr th:only-of-type {\n",
              "        vertical-align: middle;\n",
              "    }\n",
              "\n",
              "    .dataframe tbody tr th {\n",
              "        vertical-align: top;\n",
              "    }\n",
              "\n",
              "    .dataframe thead th {\n",
              "        text-align: right;\n",
              "    }\n",
              "</style>\n",
              "<table border=\"1\" class=\"dataframe\">\n",
              "  <thead>\n",
              "    <tr style=\"text-align: right;\">\n",
              "      <th></th>\n",
              "      <th>id</th>\n",
              "      <th>name</th>\n",
              "      <th>geometry</th>\n",
              "    </tr>\n",
              "  </thead>\n",
              "  <tbody>\n",
              "    <tr>\n",
              "      <th>0</th>\n",
              "      <td>01001</td>\n",
              "      <td>Autauga</td>\n",
              "      <td>POLYGON ((-86.41179 32.70634, -86.41179 32.410...</td>\n",
              "    </tr>\n",
              "    <tr>\n",
              "      <th>1</th>\n",
              "      <td>01003</td>\n",
              "      <td>Baldwin</td>\n",
              "      <td>POLYGON ((-87.76459 31.29877, -87.61671 31.244...</td>\n",
              "    </tr>\n",
              "    <tr>\n",
              "      <th>2</th>\n",
              "      <td>01005</td>\n",
              "      <td>Barbour</td>\n",
              "      <td>POLYGON ((-85.35474 32.14769, -85.05350 32.065...</td>\n",
              "    </tr>\n",
              "    <tr>\n",
              "      <th>3</th>\n",
              "      <td>01007</td>\n",
              "      <td>Bibb</td>\n",
              "      <td>POLYGON ((-87.06354 33.24856, -87.02520 33.248...</td>\n",
              "    </tr>\n",
              "    <tr>\n",
              "      <th>4</th>\n",
              "      <td>01009</td>\n",
              "      <td>Blount</td>\n",
              "      <td>POLYGON ((-86.48846 34.26179, -86.45560 34.261...</td>\n",
              "    </tr>\n",
              "  </tbody>\n",
              "</table>\n",
              "</div>"
            ],
            "text/plain": [
              "      id     name                                           geometry\n",
              "0  01001  Autauga  POLYGON ((-86.41179 32.70634, -86.41179 32.410...\n",
              "1  01003  Baldwin  POLYGON ((-87.76459 31.29877, -87.61671 31.244...\n",
              "2  01005  Barbour  POLYGON ((-85.35474 32.14769, -85.05350 32.065...\n",
              "3  01007     Bibb  POLYGON ((-87.06354 33.24856, -87.02520 33.248...\n",
              "4  01009   Blount  POLYGON ((-86.48846 34.26179, -86.45560 34.261..."
            ]
          },
          "metadata": {
            "tags": []
          },
          "execution_count": 11
        }
      ]
    },
    {
      "cell_type": "code",
      "metadata": {
        "id": "HSnYe9r4FnWY",
        "colab_type": "code",
        "colab": {
          "base_uri": "https://localhost:8080/",
          "height": 170
        },
        "outputId": "5a0d574a-b481-4861-c5f1-5aad7b532fba"
      },
      "source": [
        "df['Confirmed'].describe()"
      ],
      "execution_count": null,
      "outputs": [
        {
          "output_type": "execute_result",
          "data": {
            "text/plain": [
              "count      3940.00000\n",
              "mean       5098.88934\n",
              "std       26064.43719\n",
              "min           0.00000\n",
              "25%          74.00000\n",
              "50%         303.00000\n",
              "75%        1408.00000\n",
              "max      628415.00000\n",
              "Name: Confirmed, dtype: float64"
            ]
          },
          "metadata": {
            "tags": []
          },
          "execution_count": 12
        }
      ]
    },
    {
      "cell_type": "code",
      "metadata": {
        "id": "l0NFwVg7IlaZ",
        "colab_type": "code",
        "colab": {
          "base_uri": "https://localhost:8080/",
          "height": 34
        },
        "outputId": "25daaf82-7371-4462-ba6e-4a529460fad9"
      },
      "source": [
        "df['Confirmed'].isna().any()"
      ],
      "execution_count": null,
      "outputs": [
        {
          "output_type": "execute_result",
          "data": {
            "text/plain": [
              "False"
            ]
          },
          "metadata": {
            "tags": []
          },
          "execution_count": 13
        }
      ]
    },
    {
      "cell_type": "code",
      "metadata": {
        "id": "D3iLVHQ-GnOw",
        "colab_type": "code",
        "colab": {}
      },
      "source": [
        "BINS = [\n",
        "    \"0-100\",\n",
        "    \"100.1-150\",\n",
        "    \"150.1-300\",\n",
        "    \"300.1-500\",\n",
        "    \"500.1-1000\",\n",
        "    \"1000.1-1500\",\n",
        "    \"1500.1-2000\",\n",
        "    \"2000.1-2500\",\n",
        "    \"2500.1-5000\",\n",
        "    \"5000.1-7500\",\n",
        "    \"7500.1-10000\",\n",
        "    \"10000.1-20000\",\n",
        "    \"20000.1-30000\",\n",
        "    \"30000.1-40000\",\n",
        "    \"40000.1-50000\",\n",
        "    \">50000.1\",\n",
        "]"
      ],
      "execution_count": null,
      "outputs": []
    },
    {
      "cell_type": "code",
      "metadata": {
        "id": "0j06C4VoIfDJ",
        "colab_type": "code",
        "colab": {}
      },
      "source": [
        "def matchRange(bins):\n",
        "  if bins in range(0,100):\n",
        "    return \"0-100\"\n",
        "  elif bins in range(101,150):\n",
        "    return \"101-150\"\n",
        "  elif bins in range(151,300):\n",
        "    return \"151-300\"\n",
        "  elif bins in range(301,500):\n",
        "    return \"301-500\"\n",
        "  elif bins in range(501,1000):\n",
        "    return \"501-1000\"\n",
        "  elif bins in range(1001,1500):\n",
        "    return \"1001-1500\"\n",
        "  elif bins in range(1501,2000):\n",
        "    return \"1501-2000\"\n",
        "  elif bins in range(2001,2500):\n",
        "    return \"2001-2500\"\n",
        "  elif bins in range(2501,5000):\n",
        "    return \"2501-5000\"\n",
        "  elif bins in range(5001,7500):\n",
        "    return \"5001-7500\"\n",
        "  elif bins in range(7501,10000):\n",
        "    return \"7501-10000\"\n",
        "  elif bins in range(10001,20000):\n",
        "    return \"10001-20000\"\n",
        "  elif bins in range(20001,30000):\n",
        "    return \"20001-30000\"\n",
        "  elif bins in range(30001,40000):\n",
        "    return \"30001-40000\"\n",
        "  elif bins in range(40001,50000):\n",
        "    return \"40001-50000\"\n",
        "  else:\n",
        "    return \">50001\""
      ],
      "execution_count": null,
      "outputs": []
    },
    {
      "cell_type": "code",
      "metadata": {
        "id": "b2h-Pd9VJm3O",
        "colab_type": "code",
        "colab": {
          "base_uri": "https://localhost:8080/",
          "height": 643
        },
        "outputId": "519add03-a9be-4eb2-f85c-a5878b3df7be"
      },
      "source": [
        "df['Match_range'] = df['Confirmed'].apply(matchRange)\n",
        "df"
      ],
      "execution_count": null,
      "outputs": [
        {
          "output_type": "execute_result",
          "data": {
            "text/html": [
              "<div>\n",
              "<style scoped>\n",
              "    .dataframe tbody tr th:only-of-type {\n",
              "        vertical-align: middle;\n",
              "    }\n",
              "\n",
              "    .dataframe tbody tr th {\n",
              "        vertical-align: top;\n",
              "    }\n",
              "\n",
              "    .dataframe thead th {\n",
              "        text-align: right;\n",
              "    }\n",
              "</style>\n",
              "<table border=\"1\" class=\"dataframe\">\n",
              "  <thead>\n",
              "    <tr style=\"text-align: right;\">\n",
              "      <th></th>\n",
              "      <th>FIPS</th>\n",
              "      <th>Admin2</th>\n",
              "      <th>Province_State</th>\n",
              "      <th>Country_Region</th>\n",
              "      <th>Last_Update</th>\n",
              "      <th>Lat</th>\n",
              "      <th>Long_</th>\n",
              "      <th>Confirmed</th>\n",
              "      <th>Deaths</th>\n",
              "      <th>Recovered</th>\n",
              "      <th>Active</th>\n",
              "      <th>Combined_Key</th>\n",
              "      <th>Incidence_Rate</th>\n",
              "      <th>Case-Fatality_Ratio</th>\n",
              "      <th>Match_range</th>\n",
              "    </tr>\n",
              "  </thead>\n",
              "  <tbody>\n",
              "    <tr>\n",
              "      <th>0</th>\n",
              "      <td>45001.0</td>\n",
              "      <td>Abbeville</td>\n",
              "      <td>South Carolina</td>\n",
              "      <td>US</td>\n",
              "      <td>2020-08-11 04:35:08</td>\n",
              "      <td>34.223334</td>\n",
              "      <td>-82.461707</td>\n",
              "      <td>335</td>\n",
              "      <td>9</td>\n",
              "      <td>0</td>\n",
              "      <td>326.0</td>\n",
              "      <td>Abbeville, South Carolina, US</td>\n",
              "      <td>1365.841725</td>\n",
              "      <td>2.686567</td>\n",
              "      <td>301-500</td>\n",
              "    </tr>\n",
              "    <tr>\n",
              "      <th>1</th>\n",
              "      <td>22001.0</td>\n",
              "      <td>Acadia</td>\n",
              "      <td>Louisiana</td>\n",
              "      <td>US</td>\n",
              "      <td>2020-08-11 04:35:08</td>\n",
              "      <td>30.295065</td>\n",
              "      <td>-92.414197</td>\n",
              "      <td>2601</td>\n",
              "      <td>85</td>\n",
              "      <td>0</td>\n",
              "      <td>2516.0</td>\n",
              "      <td>Acadia, Louisiana, US</td>\n",
              "      <td>4192.118624</td>\n",
              "      <td>3.267974</td>\n",
              "      <td>2501-5000</td>\n",
              "    </tr>\n",
              "    <tr>\n",
              "      <th>2</th>\n",
              "      <td>51001.0</td>\n",
              "      <td>Accomack</td>\n",
              "      <td>Virginia</td>\n",
              "      <td>US</td>\n",
              "      <td>2020-08-11 04:35:08</td>\n",
              "      <td>37.767072</td>\n",
              "      <td>-75.632346</td>\n",
              "      <td>1102</td>\n",
              "      <td>16</td>\n",
              "      <td>0</td>\n",
              "      <td>1086.0</td>\n",
              "      <td>Accomack, Virginia, US</td>\n",
              "      <td>3410.075504</td>\n",
              "      <td>1.451906</td>\n",
              "      <td>1001-1500</td>\n",
              "    </tr>\n",
              "    <tr>\n",
              "      <th>3</th>\n",
              "      <td>16001.0</td>\n",
              "      <td>Ada</td>\n",
              "      <td>Idaho</td>\n",
              "      <td>US</td>\n",
              "      <td>2020-08-11 04:35:08</td>\n",
              "      <td>43.452658</td>\n",
              "      <td>-116.241552</td>\n",
              "      <td>9144</td>\n",
              "      <td>83</td>\n",
              "      <td>0</td>\n",
              "      <td>9061.0</td>\n",
              "      <td>Ada, Idaho, US</td>\n",
              "      <td>1898.722349</td>\n",
              "      <td>0.907699</td>\n",
              "      <td>7501-10000</td>\n",
              "    </tr>\n",
              "    <tr>\n",
              "      <th>4</th>\n",
              "      <td>19001.0</td>\n",
              "      <td>Adair</td>\n",
              "      <td>Iowa</td>\n",
              "      <td>US</td>\n",
              "      <td>2020-08-11 04:35:08</td>\n",
              "      <td>41.330756</td>\n",
              "      <td>-94.471059</td>\n",
              "      <td>30</td>\n",
              "      <td>0</td>\n",
              "      <td>0</td>\n",
              "      <td>30.0</td>\n",
              "      <td>Adair, Iowa, US</td>\n",
              "      <td>419.463087</td>\n",
              "      <td>0.000000</td>\n",
              "      <td>0-100</td>\n",
              "    </tr>\n",
              "    <tr>\n",
              "      <th>...</th>\n",
              "      <td>...</td>\n",
              "      <td>...</td>\n",
              "      <td>...</td>\n",
              "      <td>...</td>\n",
              "      <td>...</td>\n",
              "      <td>...</td>\n",
              "      <td>...</td>\n",
              "      <td>...</td>\n",
              "      <td>...</td>\n",
              "      <td>...</td>\n",
              "      <td>...</td>\n",
              "      <td>...</td>\n",
              "      <td>...</td>\n",
              "      <td>...</td>\n",
              "      <td>...</td>\n",
              "    </tr>\n",
              "    <tr>\n",
              "      <th>3935</th>\n",
              "      <td>90023.0</td>\n",
              "      <td>Unassigned</td>\n",
              "      <td>Maine</td>\n",
              "      <td>US</td>\n",
              "      <td>2020-08-04 12:34:49</td>\n",
              "      <td>NaN</td>\n",
              "      <td>NaN</td>\n",
              "      <td>2</td>\n",
              "      <td>0</td>\n",
              "      <td>0</td>\n",
              "      <td>2.0</td>\n",
              "      <td>Unassigned, Maine, US</td>\n",
              "      <td>NaN</td>\n",
              "      <td>0.000000</td>\n",
              "      <td>0-100</td>\n",
              "    </tr>\n",
              "    <tr>\n",
              "      <th>3936</th>\n",
              "      <td>NaN</td>\n",
              "      <td>NaN</td>\n",
              "      <td>Unknown</td>\n",
              "      <td>Colombia</td>\n",
              "      <td>2020-07-17 22:34:48</td>\n",
              "      <td>NaN</td>\n",
              "      <td>NaN</td>\n",
              "      <td>0</td>\n",
              "      <td>0</td>\n",
              "      <td>0</td>\n",
              "      <td>0.0</td>\n",
              "      <td>Unknown, Colombia</td>\n",
              "      <td>NaN</td>\n",
              "      <td>NaN</td>\n",
              "      <td>0-100</td>\n",
              "    </tr>\n",
              "    <tr>\n",
              "      <th>3937</th>\n",
              "      <td>NaN</td>\n",
              "      <td>NaN</td>\n",
              "      <td>Grand Princess</td>\n",
              "      <td>Canada</td>\n",
              "      <td>2020-07-13 12:34:33</td>\n",
              "      <td>NaN</td>\n",
              "      <td>NaN</td>\n",
              "      <td>13</td>\n",
              "      <td>0</td>\n",
              "      <td>13</td>\n",
              "      <td>0.0</td>\n",
              "      <td>Grand Princess, Canada</td>\n",
              "      <td>NaN</td>\n",
              "      <td>0.000000</td>\n",
              "      <td>0-100</td>\n",
              "    </tr>\n",
              "    <tr>\n",
              "      <th>3938</th>\n",
              "      <td>16061.0</td>\n",
              "      <td>Lewis</td>\n",
              "      <td>Idaho</td>\n",
              "      <td>US</td>\n",
              "      <td>2020-07-10 02:34:22</td>\n",
              "      <td>46.233153</td>\n",
              "      <td>-116.434146</td>\n",
              "      <td>1</td>\n",
              "      <td>0</td>\n",
              "      <td>0</td>\n",
              "      <td>1.0</td>\n",
              "      <td>Lewis, Idaho, US</td>\n",
              "      <td>26.055237</td>\n",
              "      <td>0.000000</td>\n",
              "      <td>0-100</td>\n",
              "    </tr>\n",
              "    <tr>\n",
              "      <th>3939</th>\n",
              "      <td>41069.0</td>\n",
              "      <td>Wheeler</td>\n",
              "      <td>Oregon</td>\n",
              "      <td>US</td>\n",
              "      <td>2020-07-06 19:33:59</td>\n",
              "      <td>44.726982</td>\n",
              "      <td>-120.028143</td>\n",
              "      <td>0</td>\n",
              "      <td>0</td>\n",
              "      <td>0</td>\n",
              "      <td>0.0</td>\n",
              "      <td>Wheeler, Oregon, US</td>\n",
              "      <td>0.000000</td>\n",
              "      <td>NaN</td>\n",
              "      <td>0-100</td>\n",
              "    </tr>\n",
              "  </tbody>\n",
              "</table>\n",
              "<p>3940 rows × 15 columns</p>\n",
              "</div>"
            ],
            "text/plain": [
              "         FIPS      Admin2  ... Case-Fatality_Ratio Match_range\n",
              "0     45001.0   Abbeville  ...            2.686567     301-500\n",
              "1     22001.0      Acadia  ...            3.267974   2501-5000\n",
              "2     51001.0    Accomack  ...            1.451906   1001-1500\n",
              "3     16001.0         Ada  ...            0.907699  7501-10000\n",
              "4     19001.0       Adair  ...            0.000000       0-100\n",
              "...       ...         ...  ...                 ...         ...\n",
              "3935  90023.0  Unassigned  ...            0.000000       0-100\n",
              "3936      NaN         NaN  ...                 NaN       0-100\n",
              "3937      NaN         NaN  ...            0.000000       0-100\n",
              "3938  16061.0       Lewis  ...            0.000000       0-100\n",
              "3939  41069.0     Wheeler  ...                 NaN       0-100\n",
              "\n",
              "[3940 rows x 15 columns]"
            ]
          },
          "metadata": {
            "tags": []
          },
          "execution_count": 16
        }
      ]
    },
    {
      "cell_type": "code",
      "metadata": {
        "id": "bBMmmVPzMHcc",
        "colab_type": "code",
        "colab": {
          "base_uri": "https://localhost:8080/",
          "height": 289
        },
        "outputId": "311c3431-2bb2-4f21-aa3b-c9634f2b695e"
      },
      "source": [
        "bins = sorted(df['Match_range'].unique().tolist())\n",
        "bins"
      ],
      "execution_count": null,
      "outputs": [
        {
          "output_type": "execute_result",
          "data": {
            "text/plain": [
              "['0-100',\n",
              " '10001-20000',\n",
              " '1001-1500',\n",
              " '101-150',\n",
              " '1501-2000',\n",
              " '151-300',\n",
              " '20001-30000',\n",
              " '2001-2500',\n",
              " '2501-5000',\n",
              " '30001-40000',\n",
              " '301-500',\n",
              " '40001-50000',\n",
              " '5001-7500',\n",
              " '501-1000',\n",
              " '7501-10000',\n",
              " '>50001']"
            ]
          },
          "metadata": {
            "tags": []
          },
          "execution_count": 17
        }
      ]
    },
    {
      "cell_type": "code",
      "metadata": {
        "id": "bViBA0aiMrZM",
        "colab_type": "code",
        "colab": {}
      },
      "source": [
        "covid_df = df.copy()"
      ],
      "execution_count": null,
      "outputs": []
    },
    {
      "cell_type": "code",
      "metadata": {
        "id": "xIXQbNIOM52A",
        "colab_type": "code",
        "colab": {
          "base_uri": "https://localhost:8080/",
          "height": 170
        },
        "outputId": "e9459536-ef1e-4457-9cd4-0f737fcca255"
      },
      "source": [
        "Last_Update = sorted(covid_df['Last_Update'].unique().tolist())\n",
        "Last_Update"
      ],
      "execution_count": null,
      "outputs": [
        {
          "output_type": "execute_result",
          "data": {
            "text/plain": [
              "['2020-07-06 19:33:59',\n",
              " '2020-07-10 02:34:22',\n",
              " '2020-07-13 12:34:33',\n",
              " '2020-07-17 22:34:48',\n",
              " '2020-08-04 12:34:49',\n",
              " '2020-08-05 23:35:35',\n",
              " '2020-08-10 23:35:06',\n",
              " '2020-08-11 03:35:01',\n",
              " '2020-08-11 04:35:08']"
            ]
          },
          "metadata": {
            "tags": []
          },
          "execution_count": 19
        }
      ]
    },
    {
      "cell_type": "code",
      "metadata": {
        "id": "g4I_Y38QNA1p",
        "colab_type": "code",
        "colab": {
          "base_uri": "https://localhost:8080/",
          "height": 1000
        },
        "outputId": "aa4cc8a2-4acc-489f-e15e-98b63815ecde"
      },
      "source": [
        "for yr in Last_Update:\n",
        "    df_single_year = covid_df[(covid_df.Last_Update == yr)]\n",
        "    #merged = dfg.merge(df_single_year, on='FIPS')\n",
        "    for bin in bins:\n",
        "        print(yr,bin)\n",
        "        geo_layer = df_single_year[(df_single_year['Match_range'] == bin)] # geo\n",
        "        try:\n",
        "            geo_layer.to_file(\"{0}/{1}.geojson\".format(yr, bin), driver='GeoJSON')\n",
        "        except:\n",
        "            print('err')"
      ],
      "execution_count": null,
      "outputs": [
        {
          "output_type": "stream",
          "text": [
            "2020-07-06 19:33:59 0-100\n",
            "err\n",
            "2020-07-06 19:33:59 10001-20000\n",
            "err\n",
            "2020-07-06 19:33:59 1001-1500\n",
            "err\n",
            "2020-07-06 19:33:59 101-150\n",
            "err\n",
            "2020-07-06 19:33:59 1501-2000\n",
            "err\n",
            "2020-07-06 19:33:59 151-300\n",
            "err\n",
            "2020-07-06 19:33:59 20001-30000\n",
            "err\n",
            "2020-07-06 19:33:59 2001-2500\n",
            "err\n",
            "2020-07-06 19:33:59 2501-5000\n",
            "err\n",
            "2020-07-06 19:33:59 30001-40000\n",
            "err\n",
            "2020-07-06 19:33:59 301-500\n",
            "err\n",
            "2020-07-06 19:33:59 40001-50000\n",
            "err\n",
            "2020-07-06 19:33:59 5001-7500\n",
            "err\n",
            "2020-07-06 19:33:59 501-1000\n",
            "err\n",
            "2020-07-06 19:33:59 7501-10000\n",
            "err\n",
            "2020-07-06 19:33:59 >50001\n",
            "err\n",
            "2020-07-10 02:34:22 0-100\n",
            "err\n",
            "2020-07-10 02:34:22 10001-20000\n",
            "err\n",
            "2020-07-10 02:34:22 1001-1500\n",
            "err\n",
            "2020-07-10 02:34:22 101-150\n",
            "err\n",
            "2020-07-10 02:34:22 1501-2000\n",
            "err\n",
            "2020-07-10 02:34:22 151-300\n",
            "err\n",
            "2020-07-10 02:34:22 20001-30000\n",
            "err\n",
            "2020-07-10 02:34:22 2001-2500\n",
            "err\n",
            "2020-07-10 02:34:22 2501-5000\n",
            "err\n",
            "2020-07-10 02:34:22 30001-40000\n",
            "err\n",
            "2020-07-10 02:34:22 301-500\n",
            "err\n",
            "2020-07-10 02:34:22 40001-50000\n",
            "err\n",
            "2020-07-10 02:34:22 5001-7500\n",
            "err\n",
            "2020-07-10 02:34:22 501-1000\n",
            "err\n",
            "2020-07-10 02:34:22 7501-10000\n",
            "err\n",
            "2020-07-10 02:34:22 >50001\n",
            "err\n",
            "2020-07-13 12:34:33 0-100\n",
            "err\n",
            "2020-07-13 12:34:33 10001-20000\n",
            "err\n",
            "2020-07-13 12:34:33 1001-1500\n",
            "err\n",
            "2020-07-13 12:34:33 101-150\n",
            "err\n",
            "2020-07-13 12:34:33 1501-2000\n",
            "err\n",
            "2020-07-13 12:34:33 151-300\n",
            "err\n",
            "2020-07-13 12:34:33 20001-30000\n",
            "err\n",
            "2020-07-13 12:34:33 2001-2500\n",
            "err\n",
            "2020-07-13 12:34:33 2501-5000\n",
            "err\n",
            "2020-07-13 12:34:33 30001-40000\n",
            "err\n",
            "2020-07-13 12:34:33 301-500\n",
            "err\n",
            "2020-07-13 12:34:33 40001-50000\n",
            "err\n",
            "2020-07-13 12:34:33 5001-7500\n",
            "err\n",
            "2020-07-13 12:34:33 501-1000\n",
            "err\n",
            "2020-07-13 12:34:33 7501-10000\n",
            "err\n",
            "2020-07-13 12:34:33 >50001\n",
            "err\n",
            "2020-07-17 22:34:48 0-100\n",
            "err\n",
            "2020-07-17 22:34:48 10001-20000\n",
            "err\n",
            "2020-07-17 22:34:48 1001-1500\n",
            "err\n",
            "2020-07-17 22:34:48 101-150\n",
            "err\n",
            "2020-07-17 22:34:48 1501-2000\n",
            "err\n",
            "2020-07-17 22:34:48 151-300\n",
            "err\n",
            "2020-07-17 22:34:48 20001-30000\n",
            "err\n",
            "2020-07-17 22:34:48 2001-2500\n",
            "err\n",
            "2020-07-17 22:34:48 2501-5000\n",
            "err\n",
            "2020-07-17 22:34:48 30001-40000\n",
            "err\n",
            "2020-07-17 22:34:48 301-500\n",
            "err\n",
            "2020-07-17 22:34:48 40001-50000\n",
            "err\n",
            "2020-07-17 22:34:48 5001-7500\n",
            "err\n",
            "2020-07-17 22:34:48 501-1000\n",
            "err\n",
            "2020-07-17 22:34:48 7501-10000\n",
            "err\n",
            "2020-07-17 22:34:48 >50001\n",
            "err\n",
            "2020-08-04 12:34:49 0-100\n",
            "err\n",
            "2020-08-04 12:34:49 10001-20000\n",
            "err\n",
            "2020-08-04 12:34:49 1001-1500\n",
            "err\n",
            "2020-08-04 12:34:49 101-150\n",
            "err\n",
            "2020-08-04 12:34:49 1501-2000\n",
            "err\n",
            "2020-08-04 12:34:49 151-300\n",
            "err\n",
            "2020-08-04 12:34:49 20001-30000\n",
            "err\n",
            "2020-08-04 12:34:49 2001-2500\n",
            "err\n",
            "2020-08-04 12:34:49 2501-5000\n",
            "err\n",
            "2020-08-04 12:34:49 30001-40000\n",
            "err\n",
            "2020-08-04 12:34:49 301-500\n",
            "err\n",
            "2020-08-04 12:34:49 40001-50000\n",
            "err\n",
            "2020-08-04 12:34:49 5001-7500\n",
            "err\n",
            "2020-08-04 12:34:49 501-1000\n",
            "err\n",
            "2020-08-04 12:34:49 7501-10000\n",
            "err\n",
            "2020-08-04 12:34:49 >50001\n",
            "err\n",
            "2020-08-05 23:35:35 0-100\n",
            "err\n",
            "2020-08-05 23:35:35 10001-20000\n",
            "err\n",
            "2020-08-05 23:35:35 1001-1500\n",
            "err\n",
            "2020-08-05 23:35:35 101-150\n",
            "err\n",
            "2020-08-05 23:35:35 1501-2000\n",
            "err\n",
            "2020-08-05 23:35:35 151-300\n",
            "err\n",
            "2020-08-05 23:35:35 20001-30000\n",
            "err\n",
            "2020-08-05 23:35:35 2001-2500\n",
            "err\n",
            "2020-08-05 23:35:35 2501-5000\n",
            "err\n",
            "2020-08-05 23:35:35 30001-40000\n",
            "err\n",
            "2020-08-05 23:35:35 301-500\n",
            "err\n",
            "2020-08-05 23:35:35 40001-50000\n",
            "err\n",
            "2020-08-05 23:35:35 5001-7500\n",
            "err\n",
            "2020-08-05 23:35:35 501-1000\n",
            "err\n",
            "2020-08-05 23:35:35 7501-10000\n",
            "err\n",
            "2020-08-05 23:35:35 >50001\n",
            "err\n",
            "2020-08-10 23:35:06 0-100\n",
            "err\n",
            "2020-08-10 23:35:06 10001-20000\n",
            "err\n",
            "2020-08-10 23:35:06 1001-1500\n",
            "err\n",
            "2020-08-10 23:35:06 101-150\n",
            "err\n",
            "2020-08-10 23:35:06 1501-2000\n",
            "err\n",
            "2020-08-10 23:35:06 151-300\n",
            "err\n",
            "2020-08-10 23:35:06 20001-30000\n",
            "err\n",
            "2020-08-10 23:35:06 2001-2500\n",
            "err\n",
            "2020-08-10 23:35:06 2501-5000\n",
            "err\n",
            "2020-08-10 23:35:06 30001-40000\n",
            "err\n",
            "2020-08-10 23:35:06 301-500\n",
            "err\n",
            "2020-08-10 23:35:06 40001-50000\n",
            "err\n",
            "2020-08-10 23:35:06 5001-7500\n",
            "err\n",
            "2020-08-10 23:35:06 501-1000\n",
            "err\n",
            "2020-08-10 23:35:06 7501-10000\n",
            "err\n",
            "2020-08-10 23:35:06 >50001\n",
            "err\n",
            "2020-08-11 03:35:01 0-100\n",
            "err\n",
            "2020-08-11 03:35:01 10001-20000\n",
            "err\n",
            "2020-08-11 03:35:01 1001-1500\n",
            "err\n",
            "2020-08-11 03:35:01 101-150\n",
            "err\n",
            "2020-08-11 03:35:01 1501-2000\n",
            "err\n",
            "2020-08-11 03:35:01 151-300\n",
            "err\n",
            "2020-08-11 03:35:01 20001-30000\n",
            "err\n",
            "2020-08-11 03:35:01 2001-2500\n",
            "err\n",
            "2020-08-11 03:35:01 2501-5000\n",
            "err\n",
            "2020-08-11 03:35:01 30001-40000\n",
            "err\n",
            "2020-08-11 03:35:01 301-500\n",
            "err\n",
            "2020-08-11 03:35:01 40001-50000\n",
            "err\n",
            "2020-08-11 03:35:01 5001-7500\n",
            "err\n",
            "2020-08-11 03:35:01 501-1000\n",
            "err\n",
            "2020-08-11 03:35:01 7501-10000\n",
            "err\n",
            "2020-08-11 03:35:01 >50001\n",
            "err\n",
            "2020-08-11 04:35:08 0-100\n",
            "err\n",
            "2020-08-11 04:35:08 10001-20000\n",
            "err\n",
            "2020-08-11 04:35:08 1001-1500\n",
            "err\n",
            "2020-08-11 04:35:08 101-150\n",
            "err\n",
            "2020-08-11 04:35:08 1501-2000\n",
            "err\n",
            "2020-08-11 04:35:08 151-300\n",
            "err\n",
            "2020-08-11 04:35:08 20001-30000\n",
            "err\n",
            "2020-08-11 04:35:08 2001-2500\n",
            "err\n",
            "2020-08-11 04:35:08 2501-5000\n",
            "err\n",
            "2020-08-11 04:35:08 30001-40000\n",
            "err\n",
            "2020-08-11 04:35:08 301-500\n",
            "err\n",
            "2020-08-11 04:35:08 40001-50000\n",
            "err\n",
            "2020-08-11 04:35:08 5001-7500\n",
            "err\n",
            "2020-08-11 04:35:08 501-1000\n",
            "err\n",
            "2020-08-11 04:35:08 7501-10000\n",
            "err\n",
            "2020-08-11 04:35:08 >50001\n",
            "err\n"
          ],
          "name": "stdout"
        }
      ]
    },
    {
      "cell_type": "code",
      "metadata": {
        "id": "tQgR1yakNZoH",
        "colab_type": "code",
        "colab": {}
      },
      "source": [
        "dfg2 = dfg.copy()"
      ],
      "execution_count": null,
      "outputs": []
    },
    {
      "cell_type": "code",
      "metadata": {
        "id": "E7qRDGD3OG8t",
        "colab_type": "code",
        "colab": {
          "base_uri": "https://localhost:8080/",
          "height": 419
        },
        "outputId": "7541633a-7a99-4526-8d58-9ab70be95f35"
      },
      "source": [
        "dfg2"
      ],
      "execution_count": null,
      "outputs": [
        {
          "output_type": "execute_result",
          "data": {
            "text/html": [
              "<div>\n",
              "<style scoped>\n",
              "    .dataframe tbody tr th:only-of-type {\n",
              "        vertical-align: middle;\n",
              "    }\n",
              "\n",
              "    .dataframe tbody tr th {\n",
              "        vertical-align: top;\n",
              "    }\n",
              "\n",
              "    .dataframe thead th {\n",
              "        text-align: right;\n",
              "    }\n",
              "</style>\n",
              "<table border=\"1\" class=\"dataframe\">\n",
              "  <thead>\n",
              "    <tr style=\"text-align: right;\">\n",
              "      <th></th>\n",
              "      <th>id</th>\n",
              "      <th>name</th>\n",
              "      <th>geometry</th>\n",
              "    </tr>\n",
              "  </thead>\n",
              "  <tbody>\n",
              "    <tr>\n",
              "      <th>0</th>\n",
              "      <td>01001</td>\n",
              "      <td>Autauga</td>\n",
              "      <td>POLYGON ((-86.41179 32.70634, -86.41179 32.410...</td>\n",
              "    </tr>\n",
              "    <tr>\n",
              "      <th>1</th>\n",
              "      <td>01003</td>\n",
              "      <td>Baldwin</td>\n",
              "      <td>POLYGON ((-87.76459 31.29877, -87.61671 31.244...</td>\n",
              "    </tr>\n",
              "    <tr>\n",
              "      <th>2</th>\n",
              "      <td>01005</td>\n",
              "      <td>Barbour</td>\n",
              "      <td>POLYGON ((-85.35474 32.14769, -85.05350 32.065...</td>\n",
              "    </tr>\n",
              "    <tr>\n",
              "      <th>3</th>\n",
              "      <td>01007</td>\n",
              "      <td>Bibb</td>\n",
              "      <td>POLYGON ((-87.06354 33.24856, -87.02520 33.248...</td>\n",
              "    </tr>\n",
              "    <tr>\n",
              "      <th>4</th>\n",
              "      <td>01009</td>\n",
              "      <td>Blount</td>\n",
              "      <td>POLYGON ((-86.48846 34.26179, -86.45560 34.261...</td>\n",
              "    </tr>\n",
              "    <tr>\n",
              "      <th>...</th>\n",
              "      <td>...</td>\n",
              "      <td>...</td>\n",
              "      <td>...</td>\n",
              "    </tr>\n",
              "    <tr>\n",
              "      <th>3103</th>\n",
              "      <td>56037</td>\n",
              "      <td>Sweetwater</td>\n",
              "      <td>POLYGON ((-110.05574 42.26908, -109.04250 42.2...</td>\n",
              "    </tr>\n",
              "    <tr>\n",
              "      <th>3104</th>\n",
              "      <td>56039</td>\n",
              "      <td>Teton</td>\n",
              "      <td>POLYGON ((-111.05802 44.66798, -110.37340 44.5...</td>\n",
              "    </tr>\n",
              "    <tr>\n",
              "      <th>3105</th>\n",
              "      <td>56041</td>\n",
              "      <td>Uinta</td>\n",
              "      <td>POLYGON ((-111.04706 41.57899, -110.05026 41.5...</td>\n",
              "    </tr>\n",
              "    <tr>\n",
              "      <th>3106</th>\n",
              "      <td>56043</td>\n",
              "      <td>Washakie</td>\n",
              "      <td>POLYGON ((-107.14748 44.16410, -107.10914 43.5...</td>\n",
              "    </tr>\n",
              "    <tr>\n",
              "      <th>3107</th>\n",
              "      <td>56045</td>\n",
              "      <td>Weston</td>\n",
              "      <td>POLYGON ((-104.39258 44.18053, -104.05301 44.1...</td>\n",
              "    </tr>\n",
              "  </tbody>\n",
              "</table>\n",
              "<p>3108 rows × 3 columns</p>\n",
              "</div>"
            ],
            "text/plain": [
              "         id        name                                           geometry\n",
              "0     01001     Autauga  POLYGON ((-86.41179 32.70634, -86.41179 32.410...\n",
              "1     01003     Baldwin  POLYGON ((-87.76459 31.29877, -87.61671 31.244...\n",
              "2     01005     Barbour  POLYGON ((-85.35474 32.14769, -85.05350 32.065...\n",
              "3     01007        Bibb  POLYGON ((-87.06354 33.24856, -87.02520 33.248...\n",
              "4     01009      Blount  POLYGON ((-86.48846 34.26179, -86.45560 34.261...\n",
              "...     ...         ...                                                ...\n",
              "3103  56037  Sweetwater  POLYGON ((-110.05574 42.26908, -109.04250 42.2...\n",
              "3104  56039       Teton  POLYGON ((-111.05802 44.66798, -110.37340 44.5...\n",
              "3105  56041       Uinta  POLYGON ((-111.04706 41.57899, -110.05026 41.5...\n",
              "3106  56043    Washakie  POLYGON ((-107.14748 44.16410, -107.10914 43.5...\n",
              "3107  56045      Weston  POLYGON ((-104.39258 44.18053, -104.05301 44.1...\n",
              "\n",
              "[3108 rows x 3 columns]"
            ]
          },
          "metadata": {
            "tags": []
          },
          "execution_count": 28
        }
      ]
    },
    {
      "cell_type": "code",
      "metadata": {
        "id": "wKmDz-LJN3iq",
        "colab_type": "code",
        "colab": {}
      },
      "source": [
        "dfg2['name'] = dfg2['name'] + ' County'\n",
        "dfg2 = dfg2.rename(columns={'name': 'County'})"
      ],
      "execution_count": null,
      "outputs": []
    },
    {
      "cell_type": "code",
      "metadata": {
        "id": "gGoRvx5L_7Kq",
        "colab_type": "code",
        "colab": {}
      },
      "source": [
        "covid_df.rename(columns={'Admin2': 'County'}, inplace=True)"
      ],
      "execution_count": null,
      "outputs": []
    },
    {
      "cell_type": "code",
      "metadata": {
        "id": "mGunpAsQAQ0c",
        "colab_type": "code",
        "colab": {}
      },
      "source": [
        "covid_df['County'] = covid_df['County'] + ' County'"
      ],
      "execution_count": null,
      "outputs": []
    },
    {
      "cell_type": "code",
      "metadata": {
        "id": "uuG5AA-YAWhO",
        "colab_type": "code",
        "colab": {
          "base_uri": "https://localhost:8080/",
          "height": 343
        },
        "outputId": "7314cdef-4e79-45fe-bc55-3bbd9b50016d"
      },
      "source": [
        "covid_df.head()"
      ],
      "execution_count": null,
      "outputs": [
        {
          "output_type": "execute_result",
          "data": {
            "text/html": [
              "<div>\n",
              "<style scoped>\n",
              "    .dataframe tbody tr th:only-of-type {\n",
              "        vertical-align: middle;\n",
              "    }\n",
              "\n",
              "    .dataframe tbody tr th {\n",
              "        vertical-align: top;\n",
              "    }\n",
              "\n",
              "    .dataframe thead th {\n",
              "        text-align: right;\n",
              "    }\n",
              "</style>\n",
              "<table border=\"1\" class=\"dataframe\">\n",
              "  <thead>\n",
              "    <tr style=\"text-align: right;\">\n",
              "      <th></th>\n",
              "      <th>FIPS</th>\n",
              "      <th>County</th>\n",
              "      <th>Province_State</th>\n",
              "      <th>Country_Region</th>\n",
              "      <th>Last_Update</th>\n",
              "      <th>Lat</th>\n",
              "      <th>Long_</th>\n",
              "      <th>Confirmed</th>\n",
              "      <th>Deaths</th>\n",
              "      <th>Recovered</th>\n",
              "      <th>Active</th>\n",
              "      <th>Combined_Key</th>\n",
              "      <th>Incidence_Rate</th>\n",
              "      <th>Case-Fatality_Ratio</th>\n",
              "      <th>Match_range</th>\n",
              "    </tr>\n",
              "  </thead>\n",
              "  <tbody>\n",
              "    <tr>\n",
              "      <th>0</th>\n",
              "      <td>45001.0</td>\n",
              "      <td>Abbeville County</td>\n",
              "      <td>South Carolina</td>\n",
              "      <td>US</td>\n",
              "      <td>2020-08-11 04:35:08</td>\n",
              "      <td>34.223334</td>\n",
              "      <td>-82.461707</td>\n",
              "      <td>335</td>\n",
              "      <td>9</td>\n",
              "      <td>0</td>\n",
              "      <td>326.0</td>\n",
              "      <td>Abbeville, South Carolina, US</td>\n",
              "      <td>1365.841725</td>\n",
              "      <td>2.686567</td>\n",
              "      <td>301-500</td>\n",
              "    </tr>\n",
              "    <tr>\n",
              "      <th>1</th>\n",
              "      <td>22001.0</td>\n",
              "      <td>Acadia County</td>\n",
              "      <td>Louisiana</td>\n",
              "      <td>US</td>\n",
              "      <td>2020-08-11 04:35:08</td>\n",
              "      <td>30.295065</td>\n",
              "      <td>-92.414197</td>\n",
              "      <td>2601</td>\n",
              "      <td>85</td>\n",
              "      <td>0</td>\n",
              "      <td>2516.0</td>\n",
              "      <td>Acadia, Louisiana, US</td>\n",
              "      <td>4192.118624</td>\n",
              "      <td>3.267974</td>\n",
              "      <td>2501-5000</td>\n",
              "    </tr>\n",
              "    <tr>\n",
              "      <th>2</th>\n",
              "      <td>51001.0</td>\n",
              "      <td>Accomack County</td>\n",
              "      <td>Virginia</td>\n",
              "      <td>US</td>\n",
              "      <td>2020-08-11 04:35:08</td>\n",
              "      <td>37.767072</td>\n",
              "      <td>-75.632346</td>\n",
              "      <td>1102</td>\n",
              "      <td>16</td>\n",
              "      <td>0</td>\n",
              "      <td>1086.0</td>\n",
              "      <td>Accomack, Virginia, US</td>\n",
              "      <td>3410.075504</td>\n",
              "      <td>1.451906</td>\n",
              "      <td>1001-1500</td>\n",
              "    </tr>\n",
              "    <tr>\n",
              "      <th>3</th>\n",
              "      <td>16001.0</td>\n",
              "      <td>Ada County</td>\n",
              "      <td>Idaho</td>\n",
              "      <td>US</td>\n",
              "      <td>2020-08-11 04:35:08</td>\n",
              "      <td>43.452658</td>\n",
              "      <td>-116.241552</td>\n",
              "      <td>9144</td>\n",
              "      <td>83</td>\n",
              "      <td>0</td>\n",
              "      <td>9061.0</td>\n",
              "      <td>Ada, Idaho, US</td>\n",
              "      <td>1898.722349</td>\n",
              "      <td>0.907699</td>\n",
              "      <td>7501-10000</td>\n",
              "    </tr>\n",
              "    <tr>\n",
              "      <th>4</th>\n",
              "      <td>19001.0</td>\n",
              "      <td>Adair County</td>\n",
              "      <td>Iowa</td>\n",
              "      <td>US</td>\n",
              "      <td>2020-08-11 04:35:08</td>\n",
              "      <td>41.330756</td>\n",
              "      <td>-94.471059</td>\n",
              "      <td>30</td>\n",
              "      <td>0</td>\n",
              "      <td>0</td>\n",
              "      <td>30.0</td>\n",
              "      <td>Adair, Iowa, US</td>\n",
              "      <td>419.463087</td>\n",
              "      <td>0.000000</td>\n",
              "      <td>0-100</td>\n",
              "    </tr>\n",
              "  </tbody>\n",
              "</table>\n",
              "</div>"
            ],
            "text/plain": [
              "      FIPS            County  ... Case-Fatality_Ratio Match_range\n",
              "0  45001.0  Abbeville County  ...            2.686567     301-500\n",
              "1  22001.0     Acadia County  ...            3.267974   2501-5000\n",
              "2  51001.0   Accomack County  ...            1.451906   1001-1500\n",
              "3  16001.0        Ada County  ...            0.907699  7501-10000\n",
              "4  19001.0      Adair County  ...            0.000000       0-100\n",
              "\n",
              "[5 rows x 15 columns]"
            ]
          },
          "metadata": {
            "tags": []
          },
          "execution_count": 35
        }
      ]
    },
    {
      "cell_type": "code",
      "metadata": {
        "id": "9aqudqqcN70q",
        "colab_type": "code",
        "colab": {}
      },
      "source": [
        "merged = dfg2.merge(covid_df, on='County')"
      ],
      "execution_count": null,
      "outputs": []
    },
    {
      "cell_type": "code",
      "metadata": {
        "id": "8K8j2xLS_yoV",
        "colab_type": "code",
        "colab": {
          "base_uri": "https://localhost:8080/",
          "height": 34
        },
        "outputId": "940d8cad-fdea-4c67-833d-2e2a27046479"
      },
      "source": [
        "type(merged), type(dfg)"
      ],
      "execution_count": null,
      "outputs": [
        {
          "output_type": "execute_result",
          "data": {
            "text/plain": [
              "(geopandas.geodataframe.GeoDataFrame, geopandas.geodataframe.GeoDataFrame)"
            ]
          },
          "metadata": {
            "tags": []
          },
          "execution_count": 37
        }
      ]
    },
    {
      "cell_type": "code",
      "metadata": {
        "id": "t7tVzFKDAe3h",
        "colab_type": "code",
        "colab": {
          "base_uri": "https://localhost:8080/",
          "height": 581
        },
        "outputId": "39fd42f8-6bec-4093-ccae-0a424c51877e"
      },
      "source": [
        "merged.head()"
      ],
      "execution_count": null,
      "outputs": [
        {
          "output_type": "execute_result",
          "data": {
            "text/html": [
              "<div>\n",
              "<style scoped>\n",
              "    .dataframe tbody tr th:only-of-type {\n",
              "        vertical-align: middle;\n",
              "    }\n",
              "\n",
              "    .dataframe tbody tr th {\n",
              "        vertical-align: top;\n",
              "    }\n",
              "\n",
              "    .dataframe thead th {\n",
              "        text-align: right;\n",
              "    }\n",
              "</style>\n",
              "<table border=\"1\" class=\"dataframe\">\n",
              "  <thead>\n",
              "    <tr style=\"text-align: right;\">\n",
              "      <th></th>\n",
              "      <th>id</th>\n",
              "      <th>County</th>\n",
              "      <th>geometry</th>\n",
              "      <th>FIPS</th>\n",
              "      <th>Province_State</th>\n",
              "      <th>Country_Region</th>\n",
              "      <th>Last_Update</th>\n",
              "      <th>Lat</th>\n",
              "      <th>Long_</th>\n",
              "      <th>Confirmed</th>\n",
              "      <th>Deaths</th>\n",
              "      <th>Recovered</th>\n",
              "      <th>Active</th>\n",
              "      <th>Combined_Key</th>\n",
              "      <th>Incidence_Rate</th>\n",
              "      <th>Case-Fatality_Ratio</th>\n",
              "      <th>Match_range</th>\n",
              "    </tr>\n",
              "  </thead>\n",
              "  <tbody>\n",
              "    <tr>\n",
              "      <th>0</th>\n",
              "      <td>01001</td>\n",
              "      <td>Autauga County</td>\n",
              "      <td>POLYGON ((-86.41179 32.70634, -86.41179 32.410...</td>\n",
              "      <td>1001.0</td>\n",
              "      <td>Alabama</td>\n",
              "      <td>US</td>\n",
              "      <td>2020-08-11 04:35:08</td>\n",
              "      <td>32.539527</td>\n",
              "      <td>-86.644082</td>\n",
              "      <td>1174</td>\n",
              "      <td>21</td>\n",
              "      <td>0</td>\n",
              "      <td>1153.0</td>\n",
              "      <td>Autauga, Alabama, US</td>\n",
              "      <td>2101.344216</td>\n",
              "      <td>1.788756</td>\n",
              "      <td>1001-1500</td>\n",
              "    </tr>\n",
              "    <tr>\n",
              "      <th>1</th>\n",
              "      <td>01003</td>\n",
              "      <td>Baldwin County</td>\n",
              "      <td>POLYGON ((-87.76459 31.29877, -87.61671 31.244...</td>\n",
              "      <td>1003.0</td>\n",
              "      <td>Alabama</td>\n",
              "      <td>US</td>\n",
              "      <td>2020-08-11 04:35:08</td>\n",
              "      <td>30.727750</td>\n",
              "      <td>-87.722071</td>\n",
              "      <td>3651</td>\n",
              "      <td>25</td>\n",
              "      <td>0</td>\n",
              "      <td>3626.0</td>\n",
              "      <td>Baldwin, Alabama, US</td>\n",
              "      <td>1635.503552</td>\n",
              "      <td>0.684744</td>\n",
              "      <td>2501-5000</td>\n",
              "    </tr>\n",
              "    <tr>\n",
              "      <th>2</th>\n",
              "      <td>01003</td>\n",
              "      <td>Baldwin County</td>\n",
              "      <td>POLYGON ((-87.76459 31.29877, -87.61671 31.244...</td>\n",
              "      <td>13009.0</td>\n",
              "      <td>Georgia</td>\n",
              "      <td>US</td>\n",
              "      <td>2020-08-11 04:35:08</td>\n",
              "      <td>33.068823</td>\n",
              "      <td>-83.247017</td>\n",
              "      <td>1051</td>\n",
              "      <td>39</td>\n",
              "      <td>0</td>\n",
              "      <td>1012.0</td>\n",
              "      <td>Baldwin, Georgia, US</td>\n",
              "      <td>2341.278681</td>\n",
              "      <td>3.710752</td>\n",
              "      <td>1001-1500</td>\n",
              "    </tr>\n",
              "    <tr>\n",
              "      <th>3</th>\n",
              "      <td>13009</td>\n",
              "      <td>Baldwin County</td>\n",
              "      <td>POLYGON ((-83.27350 33.18831, -83.05442 33.078...</td>\n",
              "      <td>1003.0</td>\n",
              "      <td>Alabama</td>\n",
              "      <td>US</td>\n",
              "      <td>2020-08-11 04:35:08</td>\n",
              "      <td>30.727750</td>\n",
              "      <td>-87.722071</td>\n",
              "      <td>3651</td>\n",
              "      <td>25</td>\n",
              "      <td>0</td>\n",
              "      <td>3626.0</td>\n",
              "      <td>Baldwin, Alabama, US</td>\n",
              "      <td>1635.503552</td>\n",
              "      <td>0.684744</td>\n",
              "      <td>2501-5000</td>\n",
              "    </tr>\n",
              "    <tr>\n",
              "      <th>4</th>\n",
              "      <td>13009</td>\n",
              "      <td>Baldwin County</td>\n",
              "      <td>POLYGON ((-83.27350 33.18831, -83.05442 33.078...</td>\n",
              "      <td>13009.0</td>\n",
              "      <td>Georgia</td>\n",
              "      <td>US</td>\n",
              "      <td>2020-08-11 04:35:08</td>\n",
              "      <td>33.068823</td>\n",
              "      <td>-83.247017</td>\n",
              "      <td>1051</td>\n",
              "      <td>39</td>\n",
              "      <td>0</td>\n",
              "      <td>1012.0</td>\n",
              "      <td>Baldwin, Georgia, US</td>\n",
              "      <td>2341.278681</td>\n",
              "      <td>3.710752</td>\n",
              "      <td>1001-1500</td>\n",
              "    </tr>\n",
              "  </tbody>\n",
              "</table>\n",
              "</div>"
            ],
            "text/plain": [
              "      id          County  ... Case-Fatality_Ratio  Match_range\n",
              "0  01001  Autauga County  ...            1.788756    1001-1500\n",
              "1  01003  Baldwin County  ...            0.684744    2501-5000\n",
              "2  01003  Baldwin County  ...            3.710752    1001-1500\n",
              "3  13009  Baldwin County  ...            0.684744    2501-5000\n",
              "4  13009  Baldwin County  ...            3.710752    1001-1500\n",
              "\n",
              "[5 rows x 17 columns]"
            ]
          },
          "metadata": {
            "tags": []
          },
          "execution_count": 38
        }
      ]
    },
    {
      "cell_type": "code",
      "metadata": {
        "id": "dlKdGXIqAiWx",
        "colab_type": "code",
        "colab": {}
      },
      "source": [
        "merged.to_csv('lat_lonCOVID.csv', index=False)"
      ],
      "execution_count": null,
      "outputs": []
    },
    {
      "cell_type": "code",
      "metadata": {
        "id": "ruMOX-sFAtYO",
        "colab_type": "code",
        "colab": {}
      },
      "source": [
        "for bin in bins:\n",
        "    geo_layer = merged[(merged['Match_range'] == bin)] # geo\n",
        "    geo_layer.to_file(\"{0}.geojson\".format(bin), driver='GeoJSON')"
      ],
      "execution_count": null,
      "outputs": []
    },
    {
      "cell_type": "code",
      "metadata": {
        "id": "luRgN6uhAwSc",
        "colab_type": "code",
        "colab": {
          "base_uri": "https://localhost:8080/",
          "height": 204
        },
        "outputId": "19ac2767-55be-49b6-b3c0-c358b4b72d1f"
      },
      "source": [
        "data = graph_objs.Data([\n",
        "    graph_objs.Scattermapbox(\n",
        "        lat=['45.5017'],\n",
        "        lon=['-73.5673'],\n",
        "        mode='markers',        \n",
        "    )\n",
        "])\n",
        "\n",
        "layout = dict(\n",
        "    height=600,\n",
        "    autosize=True,\n",
        "    hovermode='closest',\n",
        "    margin=dict(t=0,r=0,l=0,b=0),\n",
        "    mapbox=dict(\n",
        "        layers=[\n",
        "            dict(\n",
        "                sourcetype = 'geojson',\n",
        "                source = 'https://raw.githubusercontent.com/python-visualization/folium/master/tests/us-counties.json',\n",
        "                type = 'fill',\n",
        "                color = 'rgba(163,22,19,0.8)'\n",
        "            )\n",
        "        ],\n",
        "        accesstoken=mapbox_access_token,\n",
        "        bearing=0,\n",
        "        center=dict(\n",
        "            lat=27.8,\n",
        "            lon=-83\n",
        "        ),\n",
        "        pitch=0,\n",
        "        zoom=5.2,\n",
        "        style='light'        \n",
        "    )\n",
        ")    \n",
        "\n",
        "fig = dict(data=data, layout=layout)"
      ],
      "execution_count": null,
      "outputs": [
        {
          "output_type": "stream",
          "text": [
            "/usr/local/lib/python3.6/dist-packages/plotly/graph_objs/_deprecations.py:40: DeprecationWarning:\n",
            "\n",
            "plotly.graph_objs.Data is deprecated.\n",
            "Please replace it with a list or tuple of instances of the following types\n",
            "  - plotly.graph_objs.Scatter\n",
            "  - plotly.graph_objs.Bar\n",
            "  - plotly.graph_objs.Area\n",
            "  - plotly.graph_objs.Histogram\n",
            "  - etc.\n",
            "\n",
            "\n"
          ],
          "name": "stderr"
        }
      ]
    },
    {
      "cell_type": "code",
      "metadata": {
        "id": "KlazMiwmAzj1",
        "colab_type": "code",
        "colab": {
          "base_uri": "https://localhost:8080/",
          "height": 35
        },
        "outputId": "8c156c01-bab2-4c75-8a71-a76db390664b"
      },
      "source": [
        "py.plot(fig, filename='county-level-choropleths-python.html')"
      ],
      "execution_count": null,
      "outputs": [
        {
          "output_type": "execute_result",
          "data": {
            "application/vnd.google.colaboratory.intrinsic+json": {
              "type": "string"
            },
            "text/plain": [
              "'county-level-choropleths-python.html'"
            ]
          },
          "metadata": {
            "tags": []
          },
          "execution_count": 44
        }
      ]
    },
    {
      "cell_type": "code",
      "metadata": {
        "id": "PkV7dDOxA3et",
        "colab_type": "code",
        "colab": {
          "base_uri": "https://localhost:8080/",
          "height": 412
        },
        "outputId": "6d1ce9d8-6f50-4070-e16b-b39774533682"
      },
      "source": [
        "df_lat_lon = pd.read_csv('us_county_lat_lon.rtf', sep = '\\t+', dtype = str, index_col = False)"
      ],
      "execution_count": null,
      "outputs": [
        {
          "output_type": "stream",
          "text": [
            "/usr/local/lib/python3.6/dist-packages/ipykernel_launcher.py:1: ParserWarning:\n",
            "\n",
            "Falling back to the 'python' engine because the 'c' engine does not support regex separators (separators > 1 char and different from '\\s+' are interpreted as regex); you can avoid this warning by specifying engine='python'.\n",
            "\n"
          ],
          "name": "stderr"
        },
        {
          "output_type": "error",
          "ename": "FileNotFoundError",
          "evalue": "ignored",
          "traceback": [
            "\u001b[0;31m---------------------------------------------------------------------------\u001b[0m",
            "\u001b[0;31mFileNotFoundError\u001b[0m                         Traceback (most recent call last)",
            "\u001b[0;32m<ipython-input-45-0904dc85b37a>\u001b[0m in \u001b[0;36m<module>\u001b[0;34m()\u001b[0m\n\u001b[0;32m----> 1\u001b[0;31m \u001b[0mdf_lat_lon\u001b[0m \u001b[0;34m=\u001b[0m \u001b[0mpd\u001b[0m\u001b[0;34m.\u001b[0m\u001b[0mread_csv\u001b[0m\u001b[0;34m(\u001b[0m\u001b[0;34m'us_county_lat_lon.rtf'\u001b[0m\u001b[0;34m,\u001b[0m \u001b[0msep\u001b[0m \u001b[0;34m=\u001b[0m \u001b[0;34m'\\t+'\u001b[0m\u001b[0;34m,\u001b[0m \u001b[0mdtype\u001b[0m \u001b[0;34m=\u001b[0m \u001b[0mstr\u001b[0m\u001b[0;34m,\u001b[0m \u001b[0mindex_col\u001b[0m \u001b[0;34m=\u001b[0m \u001b[0;32mFalse\u001b[0m\u001b[0;34m)\u001b[0m\u001b[0;34m\u001b[0m\u001b[0;34m\u001b[0m\u001b[0m\n\u001b[0m",
            "\u001b[0;32m/usr/local/lib/python3.6/dist-packages/pandas/io/parsers.py\u001b[0m in \u001b[0;36mparser_f\u001b[0;34m(filepath_or_buffer, sep, delimiter, header, names, index_col, usecols, squeeze, prefix, mangle_dupe_cols, dtype, engine, converters, true_values, false_values, skipinitialspace, skiprows, skipfooter, nrows, na_values, keep_default_na, na_filter, verbose, skip_blank_lines, parse_dates, infer_datetime_format, keep_date_col, date_parser, dayfirst, cache_dates, iterator, chunksize, compression, thousands, decimal, lineterminator, quotechar, quoting, doublequote, escapechar, comment, encoding, dialect, error_bad_lines, warn_bad_lines, delim_whitespace, low_memory, memory_map, float_precision)\u001b[0m\n\u001b[1;32m    674\u001b[0m         )\n\u001b[1;32m    675\u001b[0m \u001b[0;34m\u001b[0m\u001b[0m\n\u001b[0;32m--> 676\u001b[0;31m         \u001b[0;32mreturn\u001b[0m \u001b[0m_read\u001b[0m\u001b[0;34m(\u001b[0m\u001b[0mfilepath_or_buffer\u001b[0m\u001b[0;34m,\u001b[0m \u001b[0mkwds\u001b[0m\u001b[0;34m)\u001b[0m\u001b[0;34m\u001b[0m\u001b[0;34m\u001b[0m\u001b[0m\n\u001b[0m\u001b[1;32m    677\u001b[0m \u001b[0;34m\u001b[0m\u001b[0m\n\u001b[1;32m    678\u001b[0m     \u001b[0mparser_f\u001b[0m\u001b[0;34m.\u001b[0m\u001b[0m__name__\u001b[0m \u001b[0;34m=\u001b[0m \u001b[0mname\u001b[0m\u001b[0;34m\u001b[0m\u001b[0;34m\u001b[0m\u001b[0m\n",
            "\u001b[0;32m/usr/local/lib/python3.6/dist-packages/pandas/io/parsers.py\u001b[0m in \u001b[0;36m_read\u001b[0;34m(filepath_or_buffer, kwds)\u001b[0m\n\u001b[1;32m    446\u001b[0m \u001b[0;34m\u001b[0m\u001b[0m\n\u001b[1;32m    447\u001b[0m     \u001b[0;31m# Create the parser.\u001b[0m\u001b[0;34m\u001b[0m\u001b[0;34m\u001b[0m\u001b[0;34m\u001b[0m\u001b[0m\n\u001b[0;32m--> 448\u001b[0;31m     \u001b[0mparser\u001b[0m \u001b[0;34m=\u001b[0m \u001b[0mTextFileReader\u001b[0m\u001b[0;34m(\u001b[0m\u001b[0mfp_or_buf\u001b[0m\u001b[0;34m,\u001b[0m \u001b[0;34m**\u001b[0m\u001b[0mkwds\u001b[0m\u001b[0;34m)\u001b[0m\u001b[0;34m\u001b[0m\u001b[0;34m\u001b[0m\u001b[0m\n\u001b[0m\u001b[1;32m    449\u001b[0m \u001b[0;34m\u001b[0m\u001b[0m\n\u001b[1;32m    450\u001b[0m     \u001b[0;32mif\u001b[0m \u001b[0mchunksize\u001b[0m \u001b[0;32mor\u001b[0m \u001b[0miterator\u001b[0m\u001b[0;34m:\u001b[0m\u001b[0;34m\u001b[0m\u001b[0;34m\u001b[0m\u001b[0m\n",
            "\u001b[0;32m/usr/local/lib/python3.6/dist-packages/pandas/io/parsers.py\u001b[0m in \u001b[0;36m__init__\u001b[0;34m(self, f, engine, **kwds)\u001b[0m\n\u001b[1;32m    878\u001b[0m             \u001b[0mself\u001b[0m\u001b[0;34m.\u001b[0m\u001b[0moptions\u001b[0m\u001b[0;34m[\u001b[0m\u001b[0;34m\"has_index_names\"\u001b[0m\u001b[0;34m]\u001b[0m \u001b[0;34m=\u001b[0m \u001b[0mkwds\u001b[0m\u001b[0;34m[\u001b[0m\u001b[0;34m\"has_index_names\"\u001b[0m\u001b[0;34m]\u001b[0m\u001b[0;34m\u001b[0m\u001b[0;34m\u001b[0m\u001b[0m\n\u001b[1;32m    879\u001b[0m \u001b[0;34m\u001b[0m\u001b[0m\n\u001b[0;32m--> 880\u001b[0;31m         \u001b[0mself\u001b[0m\u001b[0;34m.\u001b[0m\u001b[0m_make_engine\u001b[0m\u001b[0;34m(\u001b[0m\u001b[0mself\u001b[0m\u001b[0;34m.\u001b[0m\u001b[0mengine\u001b[0m\u001b[0;34m)\u001b[0m\u001b[0;34m\u001b[0m\u001b[0;34m\u001b[0m\u001b[0m\n\u001b[0m\u001b[1;32m    881\u001b[0m \u001b[0;34m\u001b[0m\u001b[0m\n\u001b[1;32m    882\u001b[0m     \u001b[0;32mdef\u001b[0m \u001b[0mclose\u001b[0m\u001b[0;34m(\u001b[0m\u001b[0mself\u001b[0m\u001b[0;34m)\u001b[0m\u001b[0;34m:\u001b[0m\u001b[0;34m\u001b[0m\u001b[0;34m\u001b[0m\u001b[0m\n",
            "\u001b[0;32m/usr/local/lib/python3.6/dist-packages/pandas/io/parsers.py\u001b[0m in \u001b[0;36m_make_engine\u001b[0;34m(self, engine)\u001b[0m\n\u001b[1;32m   1124\u001b[0m                     \u001b[0;34m'\"python-fwf\")'\u001b[0m\u001b[0;34m\u001b[0m\u001b[0;34m\u001b[0m\u001b[0m\n\u001b[1;32m   1125\u001b[0m                 )\n\u001b[0;32m-> 1126\u001b[0;31m             \u001b[0mself\u001b[0m\u001b[0;34m.\u001b[0m\u001b[0m_engine\u001b[0m \u001b[0;34m=\u001b[0m \u001b[0mklass\u001b[0m\u001b[0;34m(\u001b[0m\u001b[0mself\u001b[0m\u001b[0;34m.\u001b[0m\u001b[0mf\u001b[0m\u001b[0;34m,\u001b[0m \u001b[0;34m**\u001b[0m\u001b[0mself\u001b[0m\u001b[0;34m.\u001b[0m\u001b[0moptions\u001b[0m\u001b[0;34m)\u001b[0m\u001b[0;34m\u001b[0m\u001b[0;34m\u001b[0m\u001b[0m\n\u001b[0m\u001b[1;32m   1127\u001b[0m \u001b[0;34m\u001b[0m\u001b[0m\n\u001b[1;32m   1128\u001b[0m     \u001b[0;32mdef\u001b[0m \u001b[0m_failover_to_python\u001b[0m\u001b[0;34m(\u001b[0m\u001b[0mself\u001b[0m\u001b[0;34m)\u001b[0m\u001b[0;34m:\u001b[0m\u001b[0;34m\u001b[0m\u001b[0;34m\u001b[0m\u001b[0m\n",
            "\u001b[0;32m/usr/local/lib/python3.6/dist-packages/pandas/io/parsers.py\u001b[0m in \u001b[0;36m__init__\u001b[0;34m(self, f, **kwds)\u001b[0m\n\u001b[1;32m   2267\u001b[0m             \u001b[0mencoding\u001b[0m\u001b[0;34m=\u001b[0m\u001b[0mself\u001b[0m\u001b[0;34m.\u001b[0m\u001b[0mencoding\u001b[0m\u001b[0;34m,\u001b[0m\u001b[0;34m\u001b[0m\u001b[0;34m\u001b[0m\u001b[0m\n\u001b[1;32m   2268\u001b[0m             \u001b[0mcompression\u001b[0m\u001b[0;34m=\u001b[0m\u001b[0mself\u001b[0m\u001b[0;34m.\u001b[0m\u001b[0mcompression\u001b[0m\u001b[0;34m,\u001b[0m\u001b[0;34m\u001b[0m\u001b[0;34m\u001b[0m\u001b[0m\n\u001b[0;32m-> 2269\u001b[0;31m             \u001b[0mmemory_map\u001b[0m\u001b[0;34m=\u001b[0m\u001b[0mself\u001b[0m\u001b[0;34m.\u001b[0m\u001b[0mmemory_map\u001b[0m\u001b[0;34m,\u001b[0m\u001b[0;34m\u001b[0m\u001b[0;34m\u001b[0m\u001b[0m\n\u001b[0m\u001b[1;32m   2270\u001b[0m         )\n\u001b[1;32m   2271\u001b[0m         \u001b[0mself\u001b[0m\u001b[0;34m.\u001b[0m\u001b[0mhandles\u001b[0m\u001b[0;34m.\u001b[0m\u001b[0mextend\u001b[0m\u001b[0;34m(\u001b[0m\u001b[0mhandles\u001b[0m\u001b[0;34m)\u001b[0m\u001b[0;34m\u001b[0m\u001b[0;34m\u001b[0m\u001b[0m\n",
            "\u001b[0;32m/usr/local/lib/python3.6/dist-packages/pandas/io/common.py\u001b[0m in \u001b[0;36mget_handle\u001b[0;34m(path_or_buf, mode, encoding, compression, memory_map, is_text)\u001b[0m\n\u001b[1;32m    429\u001b[0m         \u001b[0;32melif\u001b[0m \u001b[0mis_text\u001b[0m\u001b[0;34m:\u001b[0m\u001b[0;34m\u001b[0m\u001b[0;34m\u001b[0m\u001b[0m\n\u001b[1;32m    430\u001b[0m             \u001b[0;31m# No explicit encoding\u001b[0m\u001b[0;34m\u001b[0m\u001b[0;34m\u001b[0m\u001b[0;34m\u001b[0m\u001b[0m\n\u001b[0;32m--> 431\u001b[0;31m             \u001b[0mf\u001b[0m \u001b[0;34m=\u001b[0m \u001b[0mopen\u001b[0m\u001b[0;34m(\u001b[0m\u001b[0mpath_or_buf\u001b[0m\u001b[0;34m,\u001b[0m \u001b[0mmode\u001b[0m\u001b[0;34m,\u001b[0m \u001b[0merrors\u001b[0m\u001b[0;34m=\u001b[0m\u001b[0;34m\"replace\"\u001b[0m\u001b[0;34m,\u001b[0m \u001b[0mnewline\u001b[0m\u001b[0;34m=\u001b[0m\u001b[0;34m\"\"\u001b[0m\u001b[0;34m)\u001b[0m\u001b[0;34m\u001b[0m\u001b[0;34m\u001b[0m\u001b[0m\n\u001b[0m\u001b[1;32m    432\u001b[0m         \u001b[0;32melse\u001b[0m\u001b[0;34m:\u001b[0m\u001b[0;34m\u001b[0m\u001b[0;34m\u001b[0m\u001b[0m\n\u001b[1;32m    433\u001b[0m             \u001b[0;31m# Binary mode\u001b[0m\u001b[0;34m\u001b[0m\u001b[0;34m\u001b[0m\u001b[0;34m\u001b[0m\u001b[0m\n",
            "\u001b[0;31mFileNotFoundError\u001b[0m: [Errno 2] No such file or directory: 'us_county_lat_lon.rtf'"
          ]
        }
      ]
    },
    {
      "cell_type": "code",
      "metadata": {
        "id": "mg9pQnDaA9jG",
        "colab_type": "code",
        "colab": {}
      },
      "source": [
        ""
      ],
      "execution_count": null,
      "outputs": []
    }
  ]
}