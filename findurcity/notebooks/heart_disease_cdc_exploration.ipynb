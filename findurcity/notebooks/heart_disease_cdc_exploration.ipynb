{
 "cells": [
  {
   "cell_type": "code",
   "execution_count": 2,
   "metadata": {},
   "outputs": [],
   "source": [
    "import pandas as pd\n",
    "import numpy as np"
   ]
  },
  {
   "cell_type": "code",
   "execution_count": 3,
   "metadata": {},
   "outputs": [],
   "source": [
    "# Column Information:\n",
    "# cnty_fips = Federal Information Processing Standard code for county\n",
    "# Value = Heart Disease-related deaths per 100,000 people"
   ]
  },
  {
   "cell_type": "code",
   "execution_count": 4,
   "metadata": {},
   "outputs": [
    {
     "name": "stdout",
     "output_type": "stream",
     "text": [
      "(3226, 4)\n",
      "-----------------\n",
      "   cnty_fips            display_name  Value          theme_range\n",
      "0       2013  \"Aleutians East, (AK)\"   -1.0                  NaN\n",
      "1       2016  \"Aleutians West, (AK)\"   -1.0                  NaN\n",
      "2       2020       \"Anchorage, (AK)\"  125.4   45.8 - 145.3 (616)\n",
      "3       2050          \"Bethel, (AK)\"  191.4  190.3 - 224.5 (614)\n",
      "4       2060     \"Bristol Bay, (AK)\"   -1.0                  NaN\n"
     ]
    }
   ],
   "source": [
    "county_report = pd.read_csv('..\\\\src\\\\extraneous_datasets\\\\report.csv')\n",
    "print(county_report.shape)\n",
    "print('-----------------')\n",
    "print(county_report.head())"
   ]
  },
  {
   "cell_type": "code",
   "execution_count": 5,
   "metadata": {},
   "outputs": [],
   "source": [
    "subset = county_report[['display_name', 'Value']]"
   ]
  },
  {
   "cell_type": "code",
   "execution_count": 6,
   "metadata": {},
   "outputs": [
    {
     "data": {
      "text/plain": [
       "'Aleutians East'"
      ]
     },
     "execution_count": 6,
     "metadata": {},
     "output_type": "execute_result"
    }
   ],
   "source": [
    "# Write a function to grab the county name\n",
    "\n",
    "def rm_state(display_name):\n",
    "    return display_name.strip('\"')[:-6]\n",
    "\n",
    "\n",
    "rm_state(subset['display_name'][0])"
   ]
  },
  {
   "cell_type": "code",
   "execution_count": 7,
   "metadata": {},
   "outputs": [
    {
     "data": {
      "text/plain": [
       "'AK'"
      ]
     },
     "execution_count": 7,
     "metadata": {},
     "output_type": "execute_result"
    }
   ],
   "source": [
    "# Write a function to grab the state code (abbrev.)\n",
    "\n",
    "def rm_county(display_name):\n",
    "    return display_name.strip('\"')[-4:].strip('()')\n",
    "\n",
    "\n",
    "rm_county(subset['display_name'][0])"
   ]
  },
  {
   "cell_type": "code",
   "execution_count": 8,
   "metadata": {},
   "outputs": [
    {
     "name": "stderr",
     "output_type": "stream",
     "text": [
      "C:\\Users\\James B\\Anaconda3\\envs\\Juxta\\lib\\site-packages\\ipykernel_launcher.py:3: SettingWithCopyWarning: \n",
      "A value is trying to be set on a copy of a slice from a DataFrame.\n",
      "Try using .loc[row_indexer,col_indexer] = value instead\n",
      "\n",
      "See the caveats in the documentation: https://pandas.pydata.org/pandas-docs/stable/user_guide/indexing.html#returning-a-view-versus-a-copy\n",
      "  This is separate from the ipykernel package so we can avoid doing imports until\n"
     ]
    }
   ],
   "source": [
    "# Will result in a warning but no error\n",
    "\n",
    "subset['county'] = subset['display_name'].apply(rm_state)\n",
    "subset['state'] = subset['display_name'].apply(rm_county)"
   ]
  },
  {
   "cell_type": "code",
   "execution_count": 9,
   "metadata": {},
   "outputs": [
    {
     "data": {
      "text/html": [
       "<div>\n",
       "<style scoped>\n",
       "    .dataframe tbody tr th:only-of-type {\n",
       "        vertical-align: middle;\n",
       "    }\n",
       "\n",
       "    .dataframe tbody tr th {\n",
       "        vertical-align: top;\n",
       "    }\n",
       "\n",
       "    .dataframe thead th {\n",
       "        text-align: right;\n",
       "    }\n",
       "</style>\n",
       "<table border=\"1\" class=\"dataframe\">\n",
       "  <thead>\n",
       "    <tr style=\"text-align: right;\">\n",
       "      <th></th>\n",
       "      <th>display_name</th>\n",
       "      <th>Value</th>\n",
       "      <th>county</th>\n",
       "      <th>state</th>\n",
       "    </tr>\n",
       "  </thead>\n",
       "  <tbody>\n",
       "    <tr>\n",
       "      <th>0</th>\n",
       "      <td>\"Aleutians East, (AK)\"</td>\n",
       "      <td>-1.0</td>\n",
       "      <td>Aleutians East</td>\n",
       "      <td>AK</td>\n",
       "    </tr>\n",
       "    <tr>\n",
       "      <th>1</th>\n",
       "      <td>\"Aleutians West, (AK)\"</td>\n",
       "      <td>-1.0</td>\n",
       "      <td>Aleutians West</td>\n",
       "      <td>AK</td>\n",
       "    </tr>\n",
       "    <tr>\n",
       "      <th>2</th>\n",
       "      <td>\"Anchorage, (AK)\"</td>\n",
       "      <td>125.4</td>\n",
       "      <td>Anchorage</td>\n",
       "      <td>AK</td>\n",
       "    </tr>\n",
       "    <tr>\n",
       "      <th>3</th>\n",
       "      <td>\"Bethel, (AK)\"</td>\n",
       "      <td>191.4</td>\n",
       "      <td>Bethel</td>\n",
       "      <td>AK</td>\n",
       "    </tr>\n",
       "    <tr>\n",
       "      <th>4</th>\n",
       "      <td>\"Bristol Bay, (AK)\"</td>\n",
       "      <td>-1.0</td>\n",
       "      <td>Bristol Bay</td>\n",
       "      <td>AK</td>\n",
       "    </tr>\n",
       "  </tbody>\n",
       "</table>\n",
       "</div>"
      ],
      "text/plain": [
       "             display_name  Value          county state\n",
       "0  \"Aleutians East, (AK)\"   -1.0  Aleutians East    AK\n",
       "1  \"Aleutians West, (AK)\"   -1.0  Aleutians West    AK\n",
       "2       \"Anchorage, (AK)\"  125.4       Anchorage    AK\n",
       "3          \"Bethel, (AK)\"  191.4          Bethel    AK\n",
       "4     \"Bristol Bay, (AK)\"   -1.0     Bristol Bay    AK"
      ]
     },
     "execution_count": 9,
     "metadata": {},
     "output_type": "execute_result"
    }
   ],
   "source": [
    "subset.head()"
   ]
  },
  {
   "cell_type": "code",
   "execution_count": 10,
   "metadata": {},
   "outputs": [
    {
     "data": {
      "text/plain": [
       "count    3226.000000\n",
       "mean      177.082238\n",
       "std        63.318414\n",
       "min        -1.000000\n",
       "25%       146.825000\n",
       "50%       176.050000\n",
       "75%       210.700000\n",
       "max       515.400000\n",
       "Name: Value, dtype: float64"
      ]
     },
     "execution_count": 10,
     "metadata": {},
     "output_type": "execute_result"
    }
   ],
   "source": [
    "# Show the dispersion of data for Heart Disease deaths\n",
    "\n",
    "subset['Value'].describe()"
   ]
  },
  {
   "cell_type": "code",
   "execution_count": 11,
   "metadata": {},
   "outputs": [
    {
     "data": {
      "text/html": [
       "<div>\n",
       "<style scoped>\n",
       "    .dataframe tbody tr th:only-of-type {\n",
       "        vertical-align: middle;\n",
       "    }\n",
       "\n",
       "    .dataframe tbody tr th {\n",
       "        vertical-align: top;\n",
       "    }\n",
       "\n",
       "    .dataframe thead th {\n",
       "        text-align: right;\n",
       "    }\n",
       "</style>\n",
       "<table border=\"1\" class=\"dataframe\">\n",
       "  <thead>\n",
       "    <tr style=\"text-align: right;\">\n",
       "      <th></th>\n",
       "      <th>display_name</th>\n",
       "      <th>Value</th>\n",
       "      <th>county</th>\n",
       "      <th>state</th>\n",
       "    </tr>\n",
       "  </thead>\n",
       "  <tbody>\n",
       "    <tr>\n",
       "      <th>0</th>\n",
       "      <td>\"Aleutians East, (AK)\"</td>\n",
       "      <td>0.0</td>\n",
       "      <td>Aleutians East</td>\n",
       "      <td>AK</td>\n",
       "    </tr>\n",
       "    <tr>\n",
       "      <th>1</th>\n",
       "      <td>\"Aleutians West, (AK)\"</td>\n",
       "      <td>0.0</td>\n",
       "      <td>Aleutians West</td>\n",
       "      <td>AK</td>\n",
       "    </tr>\n",
       "    <tr>\n",
       "      <th>2</th>\n",
       "      <td>\"Anchorage, (AK)\"</td>\n",
       "      <td>125.4</td>\n",
       "      <td>Anchorage</td>\n",
       "      <td>AK</td>\n",
       "    </tr>\n",
       "    <tr>\n",
       "      <th>3</th>\n",
       "      <td>\"Bethel, (AK)\"</td>\n",
       "      <td>191.4</td>\n",
       "      <td>Bethel</td>\n",
       "      <td>AK</td>\n",
       "    </tr>\n",
       "    <tr>\n",
       "      <th>4</th>\n",
       "      <td>\"Bristol Bay, (AK)\"</td>\n",
       "      <td>0.0</td>\n",
       "      <td>Bristol Bay</td>\n",
       "      <td>AK</td>\n",
       "    </tr>\n",
       "  </tbody>\n",
       "</table>\n",
       "</div>"
      ],
      "text/plain": [
       "             display_name  Value          county state\n",
       "0  \"Aleutians East, (AK)\"    0.0  Aleutians East    AK\n",
       "1  \"Aleutians West, (AK)\"    0.0  Aleutians West    AK\n",
       "2       \"Anchorage, (AK)\"  125.4       Anchorage    AK\n",
       "3          \"Bethel, (AK)\"  191.4          Bethel    AK\n",
       "4     \"Bristol Bay, (AK)\"    0.0     Bristol Bay    AK"
      ]
     },
     "execution_count": 11,
     "metadata": {},
     "output_type": "execute_result"
    }
   ],
   "source": [
    "# We are going to replace -1 with 0 as it represents insufficient data\n",
    "subset['Value'] = subset['Value'].replace(-1, 0)\n",
    "subset.head()"
   ]
  },
  {
   "cell_type": "code",
   "execution_count": 12,
   "metadata": {},
   "outputs": [
    {
     "data": {
      "text/html": [
       "<div>\n",
       "<style scoped>\n",
       "    .dataframe tbody tr th:only-of-type {\n",
       "        vertical-align: middle;\n",
       "    }\n",
       "\n",
       "    .dataframe tbody tr th {\n",
       "        vertical-align: top;\n",
       "    }\n",
       "\n",
       "    .dataframe thead th {\n",
       "        text-align: right;\n",
       "    }\n",
       "</style>\n",
       "<table border=\"1\" class=\"dataframe\">\n",
       "  <thead>\n",
       "    <tr style=\"text-align: right;\">\n",
       "      <th></th>\n",
       "      <th>display_name</th>\n",
       "      <th>Value</th>\n",
       "      <th>county</th>\n",
       "      <th>state</th>\n",
       "    </tr>\n",
       "  </thead>\n",
       "  <tbody>\n",
       "    <tr>\n",
       "      <th>2783</th>\n",
       "      <td>\"District of Columbia, (DC)\"</td>\n",
       "      <td>195.7</td>\n",
       "      <td>District of Columbia</td>\n",
       "      <td>DC</td>\n",
       "    </tr>\n",
       "  </tbody>\n",
       "</table>\n",
       "</div>"
      ],
      "text/plain": [
       "                      display_name  Value                county state\n",
       "2783  \"District of Columbia, (DC)\"  195.7  District of Columbia    DC"
      ]
     },
     "execution_count": 12,
     "metadata": {},
     "output_type": "execute_result"
    }
   ],
   "source": [
    "# Check special circumstance for Washington, DC\n",
    "\n",
    "subset[subset['county'].str.contains(\"Dis\")]"
   ]
  },
  {
   "cell_type": "code",
   "execution_count": 13,
   "metadata": {},
   "outputs": [
    {
     "data": {
      "text/html": [
       "<div>\n",
       "<style scoped>\n",
       "    .dataframe tbody tr th:only-of-type {\n",
       "        vertical-align: middle;\n",
       "    }\n",
       "\n",
       "    .dataframe tbody tr th {\n",
       "        vertical-align: top;\n",
       "    }\n",
       "\n",
       "    .dataframe thead th {\n",
       "        text-align: right;\n",
       "    }\n",
       "</style>\n",
       "<table border=\"1\" class=\"dataframe\">\n",
       "  <thead>\n",
       "    <tr style=\"text-align: right;\">\n",
       "      <th></th>\n",
       "      <th>Value</th>\n",
       "      <th>county</th>\n",
       "      <th>state</th>\n",
       "    </tr>\n",
       "  </thead>\n",
       "  <tbody>\n",
       "    <tr>\n",
       "      <th>0</th>\n",
       "      <td>0.0</td>\n",
       "      <td>Aleutians East</td>\n",
       "      <td>AK</td>\n",
       "    </tr>\n",
       "    <tr>\n",
       "      <th>1</th>\n",
       "      <td>0.0</td>\n",
       "      <td>Aleutians West</td>\n",
       "      <td>AK</td>\n",
       "    </tr>\n",
       "    <tr>\n",
       "      <th>2</th>\n",
       "      <td>125.4</td>\n",
       "      <td>Anchorage</td>\n",
       "      <td>AK</td>\n",
       "    </tr>\n",
       "    <tr>\n",
       "      <th>3</th>\n",
       "      <td>191.4</td>\n",
       "      <td>Bethel</td>\n",
       "      <td>AK</td>\n",
       "    </tr>\n",
       "    <tr>\n",
       "      <th>4</th>\n",
       "      <td>0.0</td>\n",
       "      <td>Bristol Bay</td>\n",
       "      <td>AK</td>\n",
       "    </tr>\n",
       "  </tbody>\n",
       "</table>\n",
       "</div>"
      ],
      "text/plain": [
       "   Value          county state\n",
       "0    0.0  Aleutians East    AK\n",
       "1    0.0  Aleutians West    AK\n",
       "2  125.4       Anchorage    AK\n",
       "3  191.4          Bethel    AK\n",
       "4    0.0     Bristol Bay    AK"
      ]
     },
     "execution_count": 13,
     "metadata": {},
     "output_type": "execute_result"
    }
   ],
   "source": [
    "# Take one more subset and write to a CSV (Uncomment to creat)\n",
    "\n",
    "final = subset[['Value', 'county', 'state']]\n",
    "final.head()\n",
    "# final.to_csv('heart_disease_data.csv', index=False)"
   ]
  },
  {
   "cell_type": "code",
   "execution_count": 14,
   "metadata": {},
   "outputs": [],
   "source": [
    "# Import this module to work with city/county/state data\n",
    "\n",
    "import geonamescache"
   ]
  },
  {
   "cell_type": "code",
   "execution_count": 15,
   "metadata": {},
   "outputs": [
    {
     "data": {
      "text/plain": [
       "['GeonamesCache',\n",
       " '__author__',\n",
       " '__builtins__',\n",
       " '__cached__',\n",
       " '__doc__',\n",
       " '__file__',\n",
       " '__license__',\n",
       " '__loader__',\n",
       " '__name__',\n",
       " '__package__',\n",
       " '__path__',\n",
       " '__spec__',\n",
       " '__title__',\n",
       " '__version__',\n",
       " 'geonamesdata',\n",
       " 'json',\n",
       " 'os']"
      ]
     },
     "execution_count": 15,
     "metadata": {},
     "output_type": "execute_result"
    }
   ],
   "source": [
    "dir(geonamescache)"
   ]
  },
  {
   "cell_type": "code",
   "execution_count": 16,
   "metadata": {},
   "outputs": [
    {
     "name": "stdout",
     "output_type": "stream",
     "text": [
      "Help on package geonamescache:\n",
      "\n",
      "NAME\n",
      "    geonamescache\n",
      "\n",
      "DESCRIPTION\n",
      "    geonamescache\n",
      "    =============\n",
      "    \n",
      "    :copyright: (c) 2018 by Ramiro Gómez.\n",
      "    :license: ISC, see LICENSE for more details.\n",
      "\n",
      "PACKAGE CONTENTS\n",
      "    geonamesdata\n",
      "    mappers\n",
      "    mappings\n",
      "\n",
      "CLASSES\n",
      "    builtins.object\n",
      "        GeonamesCache\n",
      "    \n",
      "    class GeonamesCache(builtins.object)\n",
      "     |  Methods defined here:\n",
      "     |  \n",
      "     |  get_cities(self)\n",
      "     |      Get a dictionary of cities keyed by geonameid.\n",
      "     |  \n",
      "     |  get_cities_by_name(self, name)\n",
      "     |      Get a list of city dictionaries with the given name.\n",
      "     |      \n",
      "     |      City names cannot be used as keys, as they are not unique.\n",
      "     |  \n",
      "     |  get_continents(self)\n",
      "     |  \n",
      "     |  get_countries(self)\n",
      "     |  \n",
      "     |  get_countries_by_names(self)\n",
      "     |  \n",
      "     |  get_dataset_by_key(self, dataset, key)\n",
      "     |  \n",
      "     |  get_us_counties(self)\n",
      "     |  \n",
      "     |  get_us_states(self)\n",
      "     |  \n",
      "     |  get_us_states_by_names(self)\n",
      "     |  \n",
      "     |  ----------------------------------------------------------------------\n",
      "     |  Data descriptors defined here:\n",
      "     |  \n",
      "     |  __dict__\n",
      "     |      dictionary for instance variables (if defined)\n",
      "     |  \n",
      "     |  __weakref__\n",
      "     |      list of weak references to the object (if defined)\n",
      "     |  \n",
      "     |  ----------------------------------------------------------------------\n",
      "     |  Data and other attributes defined here:\n",
      "     |  \n",
      "     |  cities = None\n",
      "     |  \n",
      "     |  cities_by_names = {}\n",
      "     |  \n",
      "     |  cities_items = None\n",
      "     |  \n",
      "     |  continents = None\n",
      "     |  \n",
      "     |  countries = None\n",
      "     |  \n",
      "     |  datadir = r'C:\\Users\\James B\\Anaconda3\\envs\\Juxta\\lib\\site-packages\\ge...\n",
      "     |  \n",
      "     |  us_counties = None\n",
      "     |  \n",
      "     |  us_states = {'AK': {'code': 'AK', 'fips': '02', 'geonameid': 5879092, ...\n",
      "\n",
      "DATA\n",
      "    __license__ = 'MIT'\n",
      "    __title__ = 'geonamescache'\n",
      "\n",
      "VERSION\n",
      "    1.1.0\n",
      "\n",
      "AUTHOR\n",
      "    Ramiro Gómez\n",
      "\n",
      "FILE\n",
      "    c:\\users\\james b\\anaconda3\\envs\\juxta\\lib\\site-packages\\geonamescache\\__init__.py\n",
      "\n",
      "\n"
     ]
    }
   ],
   "source": [
    "help(geonamescache)"
   ]
  },
  {
   "cell_type": "code",
   "execution_count": 17,
   "metadata": {},
   "outputs": [
    {
     "data": {
      "text/plain": [
       "['__builtins__',\n",
       " '__cached__',\n",
       " '__doc__',\n",
       " '__file__',\n",
       " '__loader__',\n",
       " '__name__',\n",
       " '__package__',\n",
       " '__spec__',\n",
       " 'us_states']"
      ]
     },
     "execution_count": 17,
     "metadata": {},
     "output_type": "execute_result"
    }
   ],
   "source": [
    "dir(geonamescache.geonamesdata)"
   ]
  },
  {
   "cell_type": "code",
   "execution_count": 18,
   "metadata": {},
   "outputs": [],
   "source": [
    "state_list = list(geonamescache.geonamesdata.us_states.keys())"
   ]
  },
  {
   "cell_type": "code",
   "execution_count": 19,
   "metadata": {},
   "outputs": [
    {
     "data": {
      "text/plain": [
       "{'code': 'AK', 'name': 'Alaska', 'fips': '02', 'geonameid': 5879092}"
      ]
     },
     "execution_count": 19,
     "metadata": {},
     "output_type": "execute_result"
    }
   ],
   "source": [
    "list(geonamescache.geonamesdata.us_states.values())[0]"
   ]
  },
  {
   "cell_type": "code",
   "execution_count": 36,
   "metadata": {},
   "outputs": [
    {
     "name": "stdout",
     "output_type": "stream",
     "text": [
      "['__class__', '__delattr__', '__dict__', '__dir__', '__doc__', '__eq__', '__format__', '__ge__', '__getattribute__', '__gt__', '__hash__', '__init__', '__init_subclass__', '__le__', '__lt__', '__module__', '__ne__', '__new__', '__reduce__', '__reduce_ex__', '__repr__', '__setattr__', '__sizeof__', '__str__', '__subclasshook__', '__weakref__', '_load_data', 'cities', 'cities_by_names', 'cities_items', 'continents', 'countries', 'datadir', 'get_cities', 'get_cities_by_name', 'get_continents', 'get_countries', 'get_countries_by_names', 'get_dataset_by_key', 'get_us_counties', 'get_us_states', 'get_us_states_by_names', 'us_counties', 'us_states']\n"
     ]
    }
   ],
   "source": [
    "print(dir(geonamescache.GeonamesCache()))"
   ]
  },
  {
   "cell_type": "code",
   "execution_count": 21,
   "metadata": {},
   "outputs": [],
   "source": [
    "gc = geonamescache.GeonamesCache()\n",
    "c = gc.get_cities()\n",
    "\n",
    "cities = [c[key]['name'] for key in list(c.keys())\n",
    "          if c[key]['countrycode'] == 'US']\n",
    "state = [c[key]['admin1code'] for key in list(c.keys())\n",
    "         if c[key]['countrycode'] == 'US']"
   ]
  },
  {
   "cell_type": "code",
   "execution_count": 22,
   "metadata": {},
   "outputs": [
    {
     "name": "stdout",
     "output_type": "stream",
     "text": [
      "{'geonameid': 3041563, 'name': 'Andorra la Vella', 'latitude': 42.50779, 'longitude': 1.52109, 'countrycode': 'AD', 'population': 20430, 'timezone': 'Europe/Andorra', 'admin1code': '07'}\n"
     ]
    }
   ],
   "source": [
    "# Print an example of the dict object\n",
    "\n",
    "print(c['3041563'])"
   ]
  },
  {
   "cell_type": "code",
   "execution_count": 23,
   "metadata": {},
   "outputs": [
    {
     "data": {
      "text/html": [
       "<div>\n",
       "<style scoped>\n",
       "    .dataframe tbody tr th:only-of-type {\n",
       "        vertical-align: middle;\n",
       "    }\n",
       "\n",
       "    .dataframe tbody tr th {\n",
       "        vertical-align: top;\n",
       "    }\n",
       "\n",
       "    .dataframe thead th {\n",
       "        text-align: right;\n",
       "    }\n",
       "</style>\n",
       "<table border=\"1\" class=\"dataframe\">\n",
       "  <thead>\n",
       "    <tr style=\"text-align: right;\">\n",
       "      <th></th>\n",
       "      <th>city</th>\n",
       "      <th>state</th>\n",
       "    </tr>\n",
       "  </thead>\n",
       "  <tbody>\n",
       "    <tr>\n",
       "      <th>0</th>\n",
       "      <td>Fort Hunt</td>\n",
       "      <td>VA</td>\n",
       "    </tr>\n",
       "    <tr>\n",
       "      <th>1</th>\n",
       "      <td>Bessemer</td>\n",
       "      <td>AL</td>\n",
       "    </tr>\n",
       "    <tr>\n",
       "      <th>2</th>\n",
       "      <td>Paducah</td>\n",
       "      <td>KY</td>\n",
       "    </tr>\n",
       "    <tr>\n",
       "      <th>3</th>\n",
       "      <td>Birmingham</td>\n",
       "      <td>AL</td>\n",
       "    </tr>\n",
       "    <tr>\n",
       "      <th>4</th>\n",
       "      <td>Center Point</td>\n",
       "      <td>AL</td>\n",
       "    </tr>\n",
       "  </tbody>\n",
       "</table>\n",
       "</div>"
      ],
      "text/plain": [
       "           city state\n",
       "0     Fort Hunt    VA\n",
       "1      Bessemer    AL\n",
       "2       Paducah    KY\n",
       "3    Birmingham    AL\n",
       "4  Center Point    AL"
      ]
     },
     "execution_count": 23,
     "metadata": {},
     "output_type": "execute_result"
    }
   ],
   "source": [
    "# Create a DataFrame of cities and states\n",
    "\n",
    "city_state = pd.DataFrame({\"city\": cities, \"state\": state})\n",
    "city_state.head()"
   ]
  },
  {
   "cell_type": "code",
   "execution_count": 24,
   "metadata": {},
   "outputs": [],
   "source": [
    "# Do the same for counties\n",
    "\n",
    "county_names = []\n",
    "for name in gc.get_us_counties():\n",
    "    county_names.append(name['name'][:-7])\n",
    "\n",
    "county_states = []\n",
    "for state in gc.get_us_counties():\n",
    "    county_states.append(state['state'])"
   ]
  },
  {
   "cell_type": "code",
   "execution_count": 25,
   "metadata": {},
   "outputs": [
    {
     "data": {
      "text/html": [
       "<div>\n",
       "<style scoped>\n",
       "    .dataframe tbody tr th:only-of-type {\n",
       "        vertical-align: middle;\n",
       "    }\n",
       "\n",
       "    .dataframe tbody tr th {\n",
       "        vertical-align: top;\n",
       "    }\n",
       "\n",
       "    .dataframe thead th {\n",
       "        text-align: right;\n",
       "    }\n",
       "</style>\n",
       "<table border=\"1\" class=\"dataframe\">\n",
       "  <thead>\n",
       "    <tr style=\"text-align: right;\">\n",
       "      <th></th>\n",
       "      <th>county</th>\n",
       "      <th>state</th>\n",
       "    </tr>\n",
       "  </thead>\n",
       "  <tbody>\n",
       "    <tr>\n",
       "      <th>0</th>\n",
       "      <td>Baldwin</td>\n",
       "      <td>AL</td>\n",
       "    </tr>\n",
       "    <tr>\n",
       "      <th>1</th>\n",
       "      <td>Barbour</td>\n",
       "      <td>AL</td>\n",
       "    </tr>\n",
       "    <tr>\n",
       "      <th>2</th>\n",
       "      <td>Bibb</td>\n",
       "      <td>AL</td>\n",
       "    </tr>\n",
       "    <tr>\n",
       "      <th>3</th>\n",
       "      <td>Blount</td>\n",
       "      <td>AL</td>\n",
       "    </tr>\n",
       "    <tr>\n",
       "      <th>4</th>\n",
       "      <td>Bullock</td>\n",
       "      <td>AL</td>\n",
       "    </tr>\n",
       "  </tbody>\n",
       "</table>\n",
       "</div>"
      ],
      "text/plain": [
       "    county state\n",
       "0  Baldwin    AL\n",
       "1  Barbour    AL\n",
       "2     Bibb    AL\n",
       "3   Blount    AL\n",
       "4  Bullock    AL"
      ]
     },
     "execution_count": 25,
     "metadata": {},
     "output_type": "execute_result"
    }
   ],
   "source": [
    "county_state = pd.DataFrame({\"county\": county_names, \"state\": county_states})\n",
    "county_state.head()"
   ]
  },
  {
   "cell_type": "code",
   "execution_count": 26,
   "metadata": {},
   "outputs": [
    {
     "name": "stdout",
     "output_type": "stream",
     "text": [
      "3249 3234 3234\n"
     ]
    }
   ],
   "source": [
    "# Checking if the lengths match\n",
    "\n",
    "print(len(cities), len(county_names), len(county_states))"
   ]
  },
  {
   "cell_type": "code",
   "execution_count": 27,
   "metadata": {},
   "outputs": [],
   "source": [
    "assert(len(county_names) == len(county_states))"
   ]
  },
  {
   "cell_type": "code",
   "execution_count": 28,
   "metadata": {},
   "outputs": [
    {
     "name": "stdout",
     "output_type": "stream",
     "text": [
      "['AK', 'AL', 'AR', 'AS', 'AZ', 'CA', 'CO', 'CT', 'DC', 'DE', 'FL', 'GA', 'GU', 'HI', 'IA', 'ID', 'IL', 'IN', 'KS', 'KY', 'LA', 'MA', 'MD', 'ME', 'MI', 'MN', 'MO', 'MP', 'MS', 'MT', 'NC', 'ND', 'NE', 'NH', 'NJ', 'NM', 'NV', 'NY', 'OH', 'OK', 'OR', 'PA', 'PR', 'RI', 'SC', 'SD', 'TN', 'TX', 'UM', 'UT', 'VA', 'VI', 'VT', 'WA', 'WI', 'WV', 'WY']\n"
     ]
    }
   ],
   "source": [
    "print(sorted(county_state['state'].unique()))"
   ]
  },
  {
   "cell_type": "code",
   "execution_count": 29,
   "metadata": {},
   "outputs": [],
   "source": [
    "# While these locations are valid US territories and entities, it\n",
    "# is best to stick to the contiguous 50 states + DC for this project\n",
    "\n",
    "not_cont_state = ['AS', 'GU', 'MP', 'PR', 'UM']"
   ]
  },
  {
   "cell_type": "code",
   "execution_count": 30,
   "metadata": {},
   "outputs": [],
   "source": [
    "# There may be a better way to write this by removing instances where\n",
    "# an observation is found in the list not_cont_state\n",
    "\n",
    "county_state_cleaned = county_state[(county_state['state'] != 'AS') |\n",
    "                                    (county_state['state'] != 'GU') |\n",
    "                                    (county_state['state'] != 'MP') |\n",
    "                                    (county_state['state'] != 'PR') |\n",
    "                                    (county_state['state'] != 'UM')]"
   ]
  },
  {
   "cell_type": "code",
   "execution_count": 31,
   "metadata": {},
   "outputs": [
    {
     "name": "stdout",
     "output_type": "stream",
     "text": [
      "(3249, 2) (3234, 2) (3226, 3)\n"
     ]
    }
   ],
   "source": [
    "print(city_state.shape, county_state_cleaned.shape, final.shape)"
   ]
  },
  {
   "cell_type": "code",
   "execution_count": 32,
   "metadata": {},
   "outputs": [
    {
     "data": {
      "text/html": [
       "<div>\n",
       "<style scoped>\n",
       "    .dataframe tbody tr th:only-of-type {\n",
       "        vertical-align: middle;\n",
       "    }\n",
       "\n",
       "    .dataframe tbody tr th {\n",
       "        vertical-align: top;\n",
       "    }\n",
       "\n",
       "    .dataframe thead th {\n",
       "        text-align: right;\n",
       "    }\n",
       "</style>\n",
       "<table border=\"1\" class=\"dataframe\">\n",
       "  <thead>\n",
       "    <tr style=\"text-align: right;\">\n",
       "      <th></th>\n",
       "      <th>county</th>\n",
       "      <th>state</th>\n",
       "      <th>city</th>\n",
       "    </tr>\n",
       "  </thead>\n",
       "  <tbody>\n",
       "    <tr>\n",
       "      <th>0</th>\n",
       "      <td>Baldwin</td>\n",
       "      <td>AL</td>\n",
       "      <td>Bessemer</td>\n",
       "    </tr>\n",
       "    <tr>\n",
       "      <th>1</th>\n",
       "      <td>Baldwin</td>\n",
       "      <td>AL</td>\n",
       "      <td>Birmingham</td>\n",
       "    </tr>\n",
       "    <tr>\n",
       "      <th>2</th>\n",
       "      <td>Baldwin</td>\n",
       "      <td>AL</td>\n",
       "      <td>Center Point</td>\n",
       "    </tr>\n",
       "    <tr>\n",
       "      <th>3</th>\n",
       "      <td>Baldwin</td>\n",
       "      <td>AL</td>\n",
       "      <td>Cullman</td>\n",
       "    </tr>\n",
       "    <tr>\n",
       "      <th>4</th>\n",
       "      <td>Baldwin</td>\n",
       "      <td>AL</td>\n",
       "      <td>Daphne</td>\n",
       "    </tr>\n",
       "  </tbody>\n",
       "</table>\n",
       "</div>"
      ],
      "text/plain": [
       "    county state          city\n",
       "0  Baldwin    AL      Bessemer\n",
       "1  Baldwin    AL    Birmingham\n",
       "2  Baldwin    AL  Center Point\n",
       "3  Baldwin    AL       Cullman\n",
       "4  Baldwin    AL        Daphne"
      ]
     },
     "execution_count": 32,
     "metadata": {},
     "output_type": "execute_result"
    }
   ],
   "source": [
    "# Do an inner merge with the cleaned county and city DataFrames\n",
    "\n",
    "city_county_merged = county_state_cleaned.merge(city_state, on='state')\n",
    "city_county_merged.head()"
   ]
  },
  {
   "cell_type": "code",
   "execution_count": 33,
   "metadata": {},
   "outputs": [
    {
     "data": {
      "text/html": [
       "<div>\n",
       "<style scoped>\n",
       "    .dataframe tbody tr th:only-of-type {\n",
       "        vertical-align: middle;\n",
       "    }\n",
       "\n",
       "    .dataframe tbody tr th {\n",
       "        vertical-align: top;\n",
       "    }\n",
       "\n",
       "    .dataframe thead th {\n",
       "        text-align: right;\n",
       "    }\n",
       "</style>\n",
       "<table border=\"1\" class=\"dataframe\">\n",
       "  <thead>\n",
       "    <tr style=\"text-align: right;\">\n",
       "      <th></th>\n",
       "      <th>Value</th>\n",
       "      <th>county</th>\n",
       "      <th>state</th>\n",
       "      <th>city</th>\n",
       "    </tr>\n",
       "  </thead>\n",
       "  <tbody>\n",
       "    <tr>\n",
       "      <th>0</th>\n",
       "      <td>112.2</td>\n",
       "      <td>Alameda</td>\n",
       "      <td>CA</td>\n",
       "      <td>Fillmore</td>\n",
       "    </tr>\n",
       "    <tr>\n",
       "      <th>1</th>\n",
       "      <td>112.2</td>\n",
       "      <td>Alameda</td>\n",
       "      <td>CA</td>\n",
       "      <td>Adelanto</td>\n",
       "    </tr>\n",
       "    <tr>\n",
       "      <th>2</th>\n",
       "      <td>112.2</td>\n",
       "      <td>Alameda</td>\n",
       "      <td>CA</td>\n",
       "      <td>Agoura</td>\n",
       "    </tr>\n",
       "    <tr>\n",
       "      <th>3</th>\n",
       "      <td>112.2</td>\n",
       "      <td>Alameda</td>\n",
       "      <td>CA</td>\n",
       "      <td>Agoura Hills</td>\n",
       "    </tr>\n",
       "    <tr>\n",
       "      <th>4</th>\n",
       "      <td>112.2</td>\n",
       "      <td>Alameda</td>\n",
       "      <td>CA</td>\n",
       "      <td>Alameda</td>\n",
       "    </tr>\n",
       "  </tbody>\n",
       "</table>\n",
       "</div>"
      ],
      "text/plain": [
       "   Value   county state          city\n",
       "0  112.2  Alameda    CA      Fillmore\n",
       "1  112.2  Alameda    CA      Adelanto\n",
       "2  112.2  Alameda    CA        Agoura\n",
       "3  112.2  Alameda    CA  Agoura Hills\n",
       "4  112.2  Alameda    CA       Alameda"
      ]
     },
     "execution_count": 33,
     "metadata": {},
     "output_type": "execute_result"
    }
   ],
   "source": [
    "# Merge the cleaned heart_disease data with the county/city/state data\n",
    "\n",
    "\n",
    "final_merged = final.merge(city_county_merged, on=['county', 'state'])\n",
    "final_merged.head()"
   ]
  },
  {
   "cell_type": "code",
   "execution_count": 34,
   "metadata": {},
   "outputs": [
    {
     "data": {
      "text/plain": [
       "Value     0\n",
       "county    0\n",
       "state     0\n",
       "city      0\n",
       "dtype: int64"
      ]
     },
     "execution_count": 34,
     "metadata": {},
     "output_type": "execute_result"
    }
   ],
   "source": [
    "# Check for null values\n",
    "\n",
    "final_merged.isna().sum()"
   ]
  },
  {
   "cell_type": "code",
   "execution_count": 35,
   "metadata": {},
   "outputs": [],
   "source": [
    "# Uncomment this code to create a CSV file\n",
    "\n",
    "# final_merged.to_csv('city_county_state.csv')"
   ]
  }
 ],
 "metadata": {
  "kernelspec": {
   "display_name": "juxta (Python3)",
   "language": "python",
   "name": "juxta"
  },
  "language_info": {
   "codemirror_mode": {
    "name": "ipython",
    "version": 3
   },
   "file_extension": ".py",
   "mimetype": "text/x-python",
   "name": "python",
   "nbconvert_exporter": "python",
   "pygments_lexer": "ipython3",
   "version": "3.7.0"
  }
 },
 "nbformat": 4,
 "nbformat_minor": 4
}
