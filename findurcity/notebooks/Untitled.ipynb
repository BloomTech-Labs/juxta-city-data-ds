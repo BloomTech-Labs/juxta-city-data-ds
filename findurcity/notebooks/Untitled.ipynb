{
 "cells": [
  {
   "cell_type": "code",
   "execution_count": 3,
   "metadata": {},
   "outputs": [
    {
     "data": {
      "text/plain": [
       "True"
      ]
     },
     "execution_count": 3,
     "metadata": {},
     "output_type": "execute_result"
    }
   ],
   "source": [
    "import os\n",
    "from dotenv import load_dotenv\n",
    "\n",
    "load_dotenv()"
   ]
  },
  {
   "cell_type": "code",
   "execution_count": 4,
   "metadata": {},
   "outputs": [],
   "source": [
    "FILEPATH = os.getenv(\"repo_filepath\")\n",
    "csv_path = FILEPATH + '/findurcity/src/datasets/'"
   ]
  },
  {
   "cell_type": "code",
   "execution_count": 5,
   "metadata": {},
   "outputs": [],
   "source": [
    "import pandas as pd\n",
    "\n",
    "df = pd.read_csv(csv_path + '07-28-2020.csv')"
   ]
  },
  {
   "cell_type": "code",
   "execution_count": 6,
   "metadata": {},
   "outputs": [
    {
     "data": {
      "text/html": [
       "<div>\n",
       "<style scoped>\n",
       "    .dataframe tbody tr th:only-of-type {\n",
       "        vertical-align: middle;\n",
       "    }\n",
       "\n",
       "    .dataframe tbody tr th {\n",
       "        vertical-align: top;\n",
       "    }\n",
       "\n",
       "    .dataframe thead th {\n",
       "        text-align: right;\n",
       "    }\n",
       "</style>\n",
       "<table border=\"1\" class=\"dataframe\">\n",
       "  <thead>\n",
       "    <tr style=\"text-align: right;\">\n",
       "      <th></th>\n",
       "      <th>FIPS</th>\n",
       "      <th>County</th>\n",
       "      <th>State</th>\n",
       "      <th>Lat</th>\n",
       "      <th>Lon</th>\n",
       "      <th>Confirmed</th>\n",
       "      <th>Deaths</th>\n",
       "      <th>Recovered</th>\n",
       "      <th>Active</th>\n",
       "      <th>Incidence_Rate</th>\n",
       "      <th>Case-Fatality_Ratio</th>\n",
       "      <th>Date</th>\n",
       "    </tr>\n",
       "  </thead>\n",
       "  <tbody>\n",
       "    <tr>\n",
       "      <th>0</th>\n",
       "      <td>45001</td>\n",
       "      <td>Abbeville</td>\n",
       "      <td>South Carolina</td>\n",
       "      <td>34.223334</td>\n",
       "      <td>-82.461707</td>\n",
       "      <td>269</td>\n",
       "      <td>6</td>\n",
       "      <td>0</td>\n",
       "      <td>263</td>\n",
       "      <td>1096.750520</td>\n",
       "      <td>2.230483</td>\n",
       "      <td>2020-07-29</td>\n",
       "    </tr>\n",
       "    <tr>\n",
       "      <th>1</th>\n",
       "      <td>22001</td>\n",
       "      <td>Acadia</td>\n",
       "      <td>Louisiana</td>\n",
       "      <td>30.295065</td>\n",
       "      <td>-92.414197</td>\n",
       "      <td>2229</td>\n",
       "      <td>65</td>\n",
       "      <td>0</td>\n",
       "      <td>2164</td>\n",
       "      <td>3592.553792</td>\n",
       "      <td>2.916106</td>\n",
       "      <td>2020-07-29</td>\n",
       "    </tr>\n",
       "    <tr>\n",
       "      <th>2</th>\n",
       "      <td>51001</td>\n",
       "      <td>Accomack</td>\n",
       "      <td>Virginia</td>\n",
       "      <td>37.767072</td>\n",
       "      <td>-75.632346</td>\n",
       "      <td>1069</td>\n",
       "      <td>15</td>\n",
       "      <td>0</td>\n",
       "      <td>1054</td>\n",
       "      <td>3307.958906</td>\n",
       "      <td>1.403181</td>\n",
       "      <td>2020-07-29</td>\n",
       "    </tr>\n",
       "    <tr>\n",
       "      <th>3</th>\n",
       "      <td>16001</td>\n",
       "      <td>Ada</td>\n",
       "      <td>Idaho</td>\n",
       "      <td>43.452658</td>\n",
       "      <td>-116.241552</td>\n",
       "      <td>7378</td>\n",
       "      <td>50</td>\n",
       "      <td>0</td>\n",
       "      <td>7328</td>\n",
       "      <td>1532.018098</td>\n",
       "      <td>0.677690</td>\n",
       "      <td>2020-07-29</td>\n",
       "    </tr>\n",
       "    <tr>\n",
       "      <th>4</th>\n",
       "      <td>19001</td>\n",
       "      <td>Adair</td>\n",
       "      <td>Iowa</td>\n",
       "      <td>41.330756</td>\n",
       "      <td>-94.471059</td>\n",
       "      <td>20</td>\n",
       "      <td>0</td>\n",
       "      <td>0</td>\n",
       "      <td>20</td>\n",
       "      <td>279.642058</td>\n",
       "      <td>0.000000</td>\n",
       "      <td>2020-07-29</td>\n",
       "    </tr>\n",
       "  </tbody>\n",
       "</table>\n",
       "</div>"
      ],
      "text/plain": [
       "    FIPS     County           State        Lat         Lon  Confirmed  Deaths  \\\n",
       "0  45001  Abbeville  South Carolina  34.223334  -82.461707        269       6   \n",
       "1  22001     Acadia       Louisiana  30.295065  -92.414197       2229      65   \n",
       "2  51001   Accomack        Virginia  37.767072  -75.632346       1069      15   \n",
       "3  16001        Ada           Idaho  43.452658 -116.241552       7378      50   \n",
       "4  19001      Adair            Iowa  41.330756  -94.471059         20       0   \n",
       "\n",
       "   Recovered  Active  Incidence_Rate  Case-Fatality_Ratio        Date  \n",
       "0          0     263     1096.750520             2.230483  2020-07-29  \n",
       "1          0    2164     3592.553792             2.916106  2020-07-29  \n",
       "2          0    1054     3307.958906             1.403181  2020-07-29  \n",
       "3          0    7328     1532.018098             0.677690  2020-07-29  \n",
       "4          0      20      279.642058             0.000000  2020-07-29  "
      ]
     },
     "execution_count": 6,
     "metadata": {},
     "output_type": "execute_result"
    }
   ],
   "source": [
    "df.head()"
   ]
  },
  {
   "cell_type": "code",
   "execution_count": 8,
   "metadata": {},
   "outputs": [],
   "source": [
    "city = pd.read_csv(csv_path + 'reference.csv')"
   ]
  },
  {
   "cell_type": "code",
   "execution_count": null,
   "metadata": {},
   "outputs": [],
   "source": [
    "[i for i in city['City_Name'] ]"
   ]
  }
 ],
 "metadata": {
  "kernelspec": {
   "display_name": "juxta (Python3)",
   "language": "python",
   "name": "juxta"
  },
  "language_info": {
   "codemirror_mode": {
    "name": "ipython",
    "version": 3
   },
   "file_extension": ".py",
   "mimetype": "text/x-python",
   "name": "python",
   "nbconvert_exporter": "python",
   "pygments_lexer": "ipython3",
   "version": "3.7.0"
  }
 },
 "nbformat": 4,
 "nbformat_minor": 4
}
