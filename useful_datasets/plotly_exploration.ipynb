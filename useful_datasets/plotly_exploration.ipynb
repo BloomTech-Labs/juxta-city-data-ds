{
 "cells": [
  {
   "cell_type": "code",
   "execution_count": 1,
   "metadata": {},
   "outputs": [],
   "source": [
    "import plotly\n",
    "from plotly.offline import download_plotlyjs, init_notebook_mode, plot, iplot\n",
    "import plotly.graph_objects as go\n",
    "import pandas as pd"
   ]
  },
  {
   "cell_type": "code",
   "execution_count": 58,
   "metadata": {},
   "outputs": [
    {
     "data": {
      "text/html": [
       "<div>\n",
       "<style scoped>\n",
       "    .dataframe tbody tr th:only-of-type {\n",
       "        vertical-align: middle;\n",
       "    }\n",
       "\n",
       "    .dataframe tbody tr th {\n",
       "        vertical-align: top;\n",
       "    }\n",
       "\n",
       "    .dataframe thead th {\n",
       "        text-align: right;\n",
       "    }\n",
       "</style>\n",
       "<table border=\"1\" class=\"dataframe\">\n",
       "  <thead>\n",
       "    <tr style=\"text-align: right;\">\n",
       "      <th></th>\n",
       "      <th>id</th>\n",
       "      <th>scaled_heart_disease_deaths</th>\n",
       "      <th>normalized_heart_disease</th>\n",
       "    </tr>\n",
       "  </thead>\n",
       "  <tbody>\n",
       "    <tr>\n",
       "      <th>0</th>\n",
       "      <td>0</td>\n",
       "      <td>104.237460</td>\n",
       "      <td>0.2151</td>\n",
       "    </tr>\n",
       "    <tr>\n",
       "      <th>1</th>\n",
       "      <td>1</td>\n",
       "      <td>65.551725</td>\n",
       "      <td>0.2151</td>\n",
       "    </tr>\n",
       "    <tr>\n",
       "      <th>2</th>\n",
       "      <td>2</td>\n",
       "      <td>10.060160</td>\n",
       "      <td>0.1429</td>\n",
       "    </tr>\n",
       "    <tr>\n",
       "      <th>3</th>\n",
       "      <td>3</td>\n",
       "      <td>31.027993</td>\n",
       "      <td>0.2263</td>\n",
       "    </tr>\n",
       "    <tr>\n",
       "      <th>4</th>\n",
       "      <td>4</td>\n",
       "      <td>24.726263</td>\n",
       "      <td>0.1759</td>\n",
       "    </tr>\n",
       "  </tbody>\n",
       "</table>\n",
       "</div>"
      ],
      "text/plain": [
       "   id  scaled_heart_disease_deaths  normalized_heart_disease\n",
       "0   0                   104.237460                    0.2151\n",
       "1   1                    65.551725                    0.2151\n",
       "2   2                    10.060160                    0.1429\n",
       "3   3                    31.027993                    0.2263\n",
       "4   4                    24.726263                    0.1759"
      ]
     },
     "execution_count": 58,
     "metadata": {},
     "output_type": "execute_result"
    }
   ],
   "source": [
    "heart = pd.read_csv('heart_data.csv')\n",
    "population = pd.read_csv('people_stats_data.csv')\n",
    "ref = pd.read_csv('reference.csv')\n",
    "loc = pd.read_csv('location_data.csv')\n",
    "heart.head()"
   ]
  },
  {
   "cell_type": "code",
   "execution_count": 11,
   "metadata": {},
   "outputs": [
    {
     "data": {
      "text/html": [
       "<div>\n",
       "<style scoped>\n",
       "    .dataframe tbody tr th:only-of-type {\n",
       "        vertical-align: middle;\n",
       "    }\n",
       "\n",
       "    .dataframe tbody tr th {\n",
       "        vertical-align: top;\n",
       "    }\n",
       "\n",
       "    .dataframe thead th {\n",
       "        text-align: right;\n",
       "    }\n",
       "</style>\n",
       "<table border=\"1\" class=\"dataframe\">\n",
       "  <thead>\n",
       "    <tr style=\"text-align: right;\">\n",
       "      <th></th>\n",
       "      <th>id</th>\n",
       "      <th>Median_Age</th>\n",
       "      <th>population</th>\n",
       "      <th>population_change</th>\n",
       "      <th>Population_Density</th>\n",
       "      <th>popden_norm</th>\n",
       "    </tr>\n",
       "  </thead>\n",
       "  <tbody>\n",
       "    <tr>\n",
       "      <th>0</th>\n",
       "      <td>0</td>\n",
       "      <td>38.6</td>\n",
       "      <td>48460.0</td>\n",
       "      <td>-12.8</td>\n",
       "      <td>3448.0</td>\n",
       "      <td>49.7</td>\n",
       "    </tr>\n",
       "    <tr>\n",
       "      <th>1</th>\n",
       "      <td>1</td>\n",
       "      <td>44.3</td>\n",
       "      <td>30475.0</td>\n",
       "      <td>-8.4</td>\n",
       "      <td>3017.0</td>\n",
       "      <td>54.7</td>\n",
       "    </tr>\n",
       "    <tr>\n",
       "      <th>2</th>\n",
       "      <td>2</td>\n",
       "      <td>42.1</td>\n",
       "      <td>7040.0</td>\n",
       "      <td>4.5</td>\n",
       "      <td>9143.0</td>\n",
       "      <td>4.6</td>\n",
       "    </tr>\n",
       "    <tr>\n",
       "      <th>3</th>\n",
       "      <td>3</td>\n",
       "      <td>40.8</td>\n",
       "      <td>13711.0</td>\n",
       "      <td>-10.7</td>\n",
       "      <td>2312.0</td>\n",
       "      <td>62.8</td>\n",
       "    </tr>\n",
       "    <tr>\n",
       "      <th>4</th>\n",
       "      <td>4</td>\n",
       "      <td>22.1</td>\n",
       "      <td>14057.0</td>\n",
       "      <td>5.8</td>\n",
       "      <td>3207.0</td>\n",
       "      <td>52.5</td>\n",
       "    </tr>\n",
       "  </tbody>\n",
       "</table>\n",
       "</div>"
      ],
      "text/plain": [
       "   id  Median_Age  population  population_change  Population_Density  \\\n",
       "0   0        38.6     48460.0              -12.8              3448.0   \n",
       "1   1        44.3     30475.0               -8.4              3017.0   \n",
       "2   2        42.1      7040.0                4.5              9143.0   \n",
       "3   3        40.8     13711.0              -10.7              2312.0   \n",
       "4   4        22.1     14057.0                5.8              3207.0   \n",
       "\n",
       "   popden_norm  \n",
       "0         49.7  \n",
       "1         54.7  \n",
       "2          4.6  \n",
       "3         62.8  \n",
       "4         52.5  "
      ]
     },
     "execution_count": 11,
     "metadata": {},
     "output_type": "execute_result"
    }
   ],
   "source": [
    "population.head()"
   ]
  },
  {
   "cell_type": "code",
   "execution_count": 12,
   "metadata": {},
   "outputs": [
    {
     "data": {
      "text/html": [
       "<div>\n",
       "<style scoped>\n",
       "    .dataframe tbody tr th:only-of-type {\n",
       "        vertical-align: middle;\n",
       "    }\n",
       "\n",
       "    .dataframe tbody tr th {\n",
       "        vertical-align: top;\n",
       "    }\n",
       "\n",
       "    .dataframe thead th {\n",
       "        text-align: right;\n",
       "    }\n",
       "</style>\n",
       "<table border=\"1\" class=\"dataframe\">\n",
       "  <thead>\n",
       "    <tr style=\"text-align: right;\">\n",
       "      <th></th>\n",
       "      <th>id</th>\n",
       "      <th>code</th>\n",
       "      <th>fips</th>\n",
       "      <th>county</th>\n",
       "      <th>City_Name</th>\n",
       "    </tr>\n",
       "  </thead>\n",
       "  <tbody>\n",
       "    <tr>\n",
       "      <th>0</th>\n",
       "      <td>0</td>\n",
       "      <td>NY</td>\n",
       "      <td>36063</td>\n",
       "      <td>Niagara</td>\n",
       "      <td>Niagara Falls</td>\n",
       "    </tr>\n",
       "    <tr>\n",
       "      <th>1</th>\n",
       "      <td>1</td>\n",
       "      <td>NY</td>\n",
       "      <td>36063</td>\n",
       "      <td>Niagara</td>\n",
       "      <td>North Tonawanda</td>\n",
       "    </tr>\n",
       "    <tr>\n",
       "      <th>2</th>\n",
       "      <td>2</td>\n",
       "      <td>NY</td>\n",
       "      <td>36087</td>\n",
       "      <td>Rockland</td>\n",
       "      <td>Nyack</td>\n",
       "    </tr>\n",
       "    <tr>\n",
       "      <th>3</th>\n",
       "      <td>3</td>\n",
       "      <td>NY</td>\n",
       "      <td>36009</td>\n",
       "      <td>Cattaraugus</td>\n",
       "      <td>Olean</td>\n",
       "    </tr>\n",
       "    <tr>\n",
       "      <th>4</th>\n",
       "      <td>4</td>\n",
       "      <td>NY</td>\n",
       "      <td>36077</td>\n",
       "      <td>Otsego</td>\n",
       "      <td>Oneonta</td>\n",
       "    </tr>\n",
       "  </tbody>\n",
       "</table>\n",
       "</div>"
      ],
      "text/plain": [
       "   id code   fips       county        City_Name\n",
       "0   0   NY  36063      Niagara    Niagara Falls\n",
       "1   1   NY  36063      Niagara  North Tonawanda\n",
       "2   2   NY  36087     Rockland            Nyack\n",
       "3   3   NY  36009  Cattaraugus            Olean\n",
       "4   4   NY  36077       Otsego          Oneonta"
      ]
     },
     "execution_count": 12,
     "metadata": {},
     "output_type": "execute_result"
    }
   ],
   "source": [
    "ref.head()"
   ]
  },
  {
   "cell_type": "code",
   "execution_count": 66,
   "metadata": {},
   "outputs": [
    {
     "data": {
      "text/html": [
       "<div>\n",
       "<style scoped>\n",
       "    .dataframe tbody tr th:only-of-type {\n",
       "        vertical-align: middle;\n",
       "    }\n",
       "\n",
       "    .dataframe tbody tr th {\n",
       "        vertical-align: top;\n",
       "    }\n",
       "\n",
       "    .dataframe thead th {\n",
       "        text-align: right;\n",
       "    }\n",
       "</style>\n",
       "<table border=\"1\" class=\"dataframe\">\n",
       "  <thead>\n",
       "    <tr style=\"text-align: right;\">\n",
       "      <th></th>\n",
       "      <th>id</th>\n",
       "      <th>scaled_heart_disease_deaths</th>\n",
       "      <th>normalized_heart_disease</th>\n",
       "      <th>Median_Age</th>\n",
       "      <th>population</th>\n",
       "      <th>population_change</th>\n",
       "      <th>Population_Density</th>\n",
       "      <th>popden_norm</th>\n",
       "      <th>code</th>\n",
       "      <th>fips</th>\n",
       "      <th>county</th>\n",
       "      <th>City_Name</th>\n",
       "      <th>Latitude</th>\n",
       "      <th>Longitude</th>\n",
       "    </tr>\n",
       "  </thead>\n",
       "  <tbody>\n",
       "    <tr>\n",
       "      <th>0</th>\n",
       "      <td>0</td>\n",
       "      <td>104.237460</td>\n",
       "      <td>0.2151</td>\n",
       "      <td>38.6</td>\n",
       "      <td>48460.0</td>\n",
       "      <td>-12.8</td>\n",
       "      <td>3448.0</td>\n",
       "      <td>49.7</td>\n",
       "      <td>NY</td>\n",
       "      <td>36063</td>\n",
       "      <td>Niagara</td>\n",
       "      <td>Niagara Falls</td>\n",
       "      <td>43.09</td>\n",
       "      <td>-79.02</td>\n",
       "    </tr>\n",
       "    <tr>\n",
       "      <th>1</th>\n",
       "      <td>1</td>\n",
       "      <td>65.551725</td>\n",
       "      <td>0.2151</td>\n",
       "      <td>44.3</td>\n",
       "      <td>30475.0</td>\n",
       "      <td>-8.4</td>\n",
       "      <td>3017.0</td>\n",
       "      <td>54.7</td>\n",
       "      <td>NY</td>\n",
       "      <td>36063</td>\n",
       "      <td>Niagara</td>\n",
       "      <td>North Tonawanda</td>\n",
       "      <td>43.04</td>\n",
       "      <td>-78.87</td>\n",
       "    </tr>\n",
       "    <tr>\n",
       "      <th>2</th>\n",
       "      <td>2</td>\n",
       "      <td>10.060160</td>\n",
       "      <td>0.1429</td>\n",
       "      <td>42.1</td>\n",
       "      <td>7040.0</td>\n",
       "      <td>4.5</td>\n",
       "      <td>9143.0</td>\n",
       "      <td>4.6</td>\n",
       "      <td>NY</td>\n",
       "      <td>36087</td>\n",
       "      <td>Rockland</td>\n",
       "      <td>Nyack</td>\n",
       "      <td>41.09</td>\n",
       "      <td>-73.92</td>\n",
       "    </tr>\n",
       "    <tr>\n",
       "      <th>3</th>\n",
       "      <td>3</td>\n",
       "      <td>31.027993</td>\n",
       "      <td>0.2263</td>\n",
       "      <td>40.8</td>\n",
       "      <td>13711.0</td>\n",
       "      <td>-10.7</td>\n",
       "      <td>2312.0</td>\n",
       "      <td>62.8</td>\n",
       "      <td>NY</td>\n",
       "      <td>36009</td>\n",
       "      <td>Cattaraugus</td>\n",
       "      <td>Olean</td>\n",
       "      <td>42.08</td>\n",
       "      <td>-78.43</td>\n",
       "    </tr>\n",
       "    <tr>\n",
       "      <th>4</th>\n",
       "      <td>4</td>\n",
       "      <td>24.726263</td>\n",
       "      <td>0.1759</td>\n",
       "      <td>22.1</td>\n",
       "      <td>14057.0</td>\n",
       "      <td>5.8</td>\n",
       "      <td>3207.0</td>\n",
       "      <td>52.5</td>\n",
       "      <td>NY</td>\n",
       "      <td>36077</td>\n",
       "      <td>Otsego</td>\n",
       "      <td>Oneonta</td>\n",
       "      <td>42.46</td>\n",
       "      <td>-75.06</td>\n",
       "    </tr>\n",
       "  </tbody>\n",
       "</table>\n",
       "</div>"
      ],
      "text/plain": [
       "   id  scaled_heart_disease_deaths  normalized_heart_disease  Median_Age  \\\n",
       "0   0                   104.237460                    0.2151        38.6   \n",
       "1   1                    65.551725                    0.2151        44.3   \n",
       "2   2                    10.060160                    0.1429        42.1   \n",
       "3   3                    31.027993                    0.2263        40.8   \n",
       "4   4                    24.726263                    0.1759        22.1   \n",
       "\n",
       "   population  population_change  Population_Density  popden_norm code   fips  \\\n",
       "0     48460.0              -12.8              3448.0         49.7   NY  36063   \n",
       "1     30475.0               -8.4              3017.0         54.7   NY  36063   \n",
       "2      7040.0                4.5              9143.0          4.6   NY  36087   \n",
       "3     13711.0              -10.7              2312.0         62.8   NY  36009   \n",
       "4     14057.0                5.8              3207.0         52.5   NY  36077   \n",
       "\n",
       "        county        City_Name  Latitude  Longitude  \n",
       "0      Niagara    Niagara Falls     43.09     -79.02  \n",
       "1      Niagara  North Tonawanda     43.04     -78.87  \n",
       "2     Rockland            Nyack     41.09     -73.92  \n",
       "3  Cattaraugus            Olean     42.08     -78.43  \n",
       "4       Otsego          Oneonta     42.46     -75.06  "
      ]
     },
     "execution_count": 66,
     "metadata": {},
     "output_type": "execute_result"
    }
   ],
   "source": [
    "merge = heart.merge(population, on='id')\n",
    "merged = merge.merge(ref, on='id')\n",
    "merged = merged.merge(loc, on='id')\n",
    "merged['Longitude'] = merged['Longitude']* -1\n",
    "merged.head()"
   ]
  },
  {
   "cell_type": "code",
   "execution_count": 67,
   "metadata": {},
   "outputs": [],
   "source": [
    "test_ny = merged[merged['code'] == 'NY']"
   ]
  },
  {
   "cell_type": "code",
   "execution_count": 68,
   "metadata": {},
   "outputs": [],
   "source": [
    "lower = merged[merged['scaled_heart_disease_deaths'] < 3000]\n",
    "upper = merged[merged['scaled_heart_disease_deaths'] >= 3000]"
   ]
  },
  {
   "cell_type": "code",
   "execution_count": 71,
   "metadata": {},
   "outputs": [
    {
     "data": {
      "application/vnd.plotly.v1+json": {
       "config": {
        "plotlyServerURL": "https://plot.ly"
       },
       "data": [
        {
         "hovertemplate": "<b>%{hovertext}</b><br><br>county=Niagara<br>Scaled Heart Disease-Related Deaths=%{x}<br>Percentage of Heart Disease Deaths=%{y}<br>population=%{marker.size}<extra></extra>",
         "hovertext": [
          "Niagara Falls",
          "North Tonawanda",
          "Lockport"
         ],
         "legendgroup": "Niagara",
         "marker": {
          "color": "#636efa",
          "size": [
           48460,
           30475,
           20569
          ],
          "sizemode": "area",
          "sizeref": 224.46555555555557,
          "symbol": "circle"
         },
         "mode": "markers",
         "name": "Niagara",
         "orientation": "v",
         "showlegend": true,
         "type": "scatter",
         "x": [
          104.23746,
          65.551725,
          44.24391900000001
         ],
         "xaxis": "x",
         "y": [
          0.2151,
          0.2151,
          0.2151
         ],
         "yaxis": "y"
        },
        {
         "hovertemplate": "<b>%{hovertext}</b><br><br>county=Rockland<br>Scaled Heart Disease-Related Deaths=%{x}<br>Percentage of Heart Disease Deaths=%{y}<br>population=%{marker.size}<extra></extra>",
         "hovertext": [
          "Nyack",
          "Pearl River",
          "Spring Valley",
          "Stony Point",
          "Suffern",
          "Tappan",
          "Valley Cottage",
          "West Haverstraw",
          "Congers",
          "Haverstraw",
          "Monsey",
          "Nanuet",
          "New City"
         ],
         "legendgroup": "Rockland",
         "marker": {
          "color": "#EF553B",
          "size": [
           7040,
           15876,
           32724,
           12147,
           10995,
           6613,
           9107,
           10388,
           8363,
           12216,
           18412,
           17882,
           33559
          ],
          "sizemode": "area",
          "sizeref": 224.46555555555557,
          "symbol": "circle"
         },
         "mode": "markers",
         "name": "Rockland",
         "orientation": "v",
         "showlegend": true,
         "type": "scatter",
         "x": [
          10.060160000000002,
          22.686804,
          46.762596,
          17.358063,
          15.711855000000002,
          9.449977,
          13.013902999999999,
          14.844452000000002,
          11.950727,
          17.456664000000004,
          26.310748000000004,
          25.553378,
          47.955811
         ],
         "xaxis": "x",
         "y": [
          0.14290000000000005,
          0.14290000000000005,
          0.14290000000000005,
          0.14290000000000005,
          0.14290000000000005,
          0.14290000000000005,
          0.14290000000000005,
          0.14290000000000005,
          0.14290000000000005,
          0.14290000000000005,
          0.14290000000000005,
          0.14290000000000005,
          0.14290000000000005
         ],
         "yaxis": "y"
        },
        {
         "hovertemplate": "<b>%{hovertext}</b><br><br>county=Cattaraugus<br>Scaled Heart Disease-Related Deaths=%{x}<br>Percentage of Heart Disease Deaths=%{y}<br>population=%{marker.size}<extra></extra>",
         "hovertext": [
          "Olean"
         ],
         "legendgroup": "Cattaraugus",
         "marker": {
          "color": "#00cc96",
          "size": [
           13711
          ],
          "sizemode": "area",
          "sizeref": 224.46555555555557,
          "symbol": "circle"
         },
         "mode": "markers",
         "name": "Cattaraugus",
         "orientation": "v",
         "showlegend": true,
         "type": "scatter",
         "x": [
          31.027993
         ],
         "xaxis": "x",
         "y": [
          0.22630000000000006
         ],
         "yaxis": "y"
        },
        {
         "hovertemplate": "<b>%{hovertext}</b><br><br>county=Otsego<br>Scaled Heart Disease-Related Deaths=%{x}<br>Percentage of Heart Disease Deaths=%{y}<br>population=%{marker.size}<extra></extra>",
         "hovertext": [
          "Oneonta"
         ],
         "legendgroup": "Otsego",
         "marker": {
          "color": "#ab63fa",
          "size": [
           14057
          ],
          "sizemode": "area",
          "sizeref": 224.46555555555557,
          "symbol": "circle"
         },
         "mode": "markers",
         "name": "Otsego",
         "orientation": "v",
         "showlegend": true,
         "type": "scatter",
         "x": [
          24.726263000000007
         ],
         "xaxis": "x",
         "y": [
          0.1759
         ],
         "yaxis": "y"
        },
        {
         "hovertemplate": "<b>%{hovertext}</b><br><br>county=Westchester<br>Scaled Heart Disease-Related Deaths=%{x}<br>Percentage of Heart Disease Deaths=%{y}<br>population=%{marker.size}<extra></extra>",
         "hovertext": [
          "Ossining",
          "Peekskill",
          "Port Chester",
          "Scarsdale",
          "Tarrytown",
          "White Plains",
          "Yonkers",
          "Briarcliff Manor",
          "Bronxville",
          "Dobbs Ferry",
          "Eastchester",
          "Larchmont",
          "Mamaroneck",
          "Mount Kisco",
          "New Rochelle"
         ],
         "legendgroup": "Westchester",
         "marker": {
          "color": "#FFA15A",
          "size": [
           25403,
           24272,
           29711,
           18079,
           11572,
           59047,
           202019,
           8021,
           6547,
           11147,
           19554,
           6157,
           19423,
           10998,
           79946
          ],
          "sizemode": "area",
          "sizeref": 224.46555555555557,
          "symbol": "circle"
         },
         "mode": "markers",
         "name": "Westchester",
         "orientation": "v",
         "showlegend": true,
         "type": "scatter",
         "x": [
          37.266201,
          35.607023999999996,
          43.586037,
          26.521893,
          16.976124,
          86.621949,
          296.361873,
          11.766807,
          9.604449,
          16.352649,
          28.685717999999998,
          9.032319000000001,
          28.493540999999997,
          16.134066,
          117.280782
         ],
         "xaxis": "x",
         "y": [
          0.1467,
          0.14670000000000002,
          0.1467,
          0.1467,
          0.1467,
          0.1467,
          0.1467,
          0.1467,
          0.14670000000000002,
          0.1467,
          0.1467,
          0.1467,
          0.1467,
          0.1467,
          0.1467
         ],
         "yaxis": "y"
        },
        {
         "hovertemplate": "<b>%{hovertext}</b><br><br>county=Oswego<br>Scaled Heart Disease-Related Deaths=%{x}<br>Percentage of Heart Disease Deaths=%{y}<br>population=%{marker.size}<extra></extra>",
         "hovertext": [
          "Oswego",
          "Fulton",
          "Hastings"
         ],
         "legendgroup": "Oswego",
         "marker": {
          "color": "#19d3f3",
          "size": [
           17465,
           11324,
           9450
          ],
          "sizemode": "area",
          "sizeref": 224.46555555555557,
          "symbol": "circle"
         },
         "mode": "markers",
         "name": "Oswego",
         "orientation": "v",
         "showlegend": true,
         "type": "scatter",
         "x": [
          34.598165,
          22.432844000000006,
          18.72045
         ],
         "xaxis": "x",
         "y": [
          0.1981,
          0.1981,
          0.1981
         ],
         "yaxis": "y"
        },
        {
         "hovertemplate": "<b>%{hovertext}</b><br><br>county=Onondaga<br>Scaled Heart Disease-Related Deaths=%{x}<br>Percentage of Heart Disease Deaths=%{y}<br>population=%{marker.size}<extra></extra>",
         "hovertext": [
          "Pompey",
          "Syracuse",
          "Baldwinsville",
          "Cicero",
          "Clay"
         ],
         "legendgroup": "Onondaga",
         "marker": {
          "color": "#FF6692",
          "size": [
           7080,
           143396,
           7885,
           31632,
           58206
          ],
          "sizemode": "area",
          "sizeref": 224.46555555555557,
          "symbol": "circle"
         },
         "mode": "markers",
         "name": "Onondaga",
         "orientation": "v",
         "showlegend": true,
         "type": "scatter",
         "x": [
          10.88904,
          220.543048,
          12.12713,
          48.650016,
          89.52082800000002
         ],
         "xaxis": "x",
         "y": [
          0.15380000000000002,
          0.15380000000000002,
          0.15380000000000002,
          0.15380000000000002,
          0.15380000000000002
         ],
         "yaxis": "y"
        },
        {
         "hovertemplate": "<b>%{hovertext}</b><br><br>county=St. Lawrence<br>Scaled Heart Disease-Related Deaths=%{x}<br>Percentage of Heart Disease Deaths=%{y}<br>population=%{marker.size}<extra></extra>",
         "hovertext": [
          "Potsdam",
          "Massena"
         ],
         "legendgroup": "St. Lawrence",
         "marker": {
          "color": "#B6E880",
          "size": [
           9688,
           10368
          ],
          "sizemode": "area",
          "sizeref": 224.46555555555557,
          "symbol": "circle"
         },
         "mode": "markers",
         "name": "St. Lawrence",
         "orientation": "v",
         "showlegend": true,
         "type": "scatter",
         "x": [
          18.45564,
          19.75104
         ],
         "xaxis": "x",
         "y": [
          0.1905,
          0.1905
         ],
         "yaxis": "y"
        },
        {
         "hovertemplate": "<b>%{hovertext}</b><br><br>county=Dutchess<br>Scaled Heart Disease-Related Deaths=%{x}<br>Percentage of Heart Disease Deaths=%{y}<br>population=%{marker.size}<extra></extra>",
         "hovertext": [
          "Poughkeepsie",
          "Beacon"
         ],
         "legendgroup": "Dutchess",
         "marker": {
          "color": "#FF97FF",
          "size": [
           30614,
           14289
          ],
          "sizemode": "area",
          "sizeref": 224.46555555555557,
          "symbol": "circle"
         },
         "mode": "markers",
         "name": "Dutchess",
         "orientation": "v",
         "showlegend": true,
         "type": "scatter",
         "x": [
          54.860288,
          25.605888
         ],
         "xaxis": "x",
         "y": [
          0.1792,
          0.1792
         ],
         "yaxis": "y"
        },
        {
         "hovertemplate": "<b>%{hovertext}</b><br><br>county=Rensselaer<br>Scaled Heart Disease-Related Deaths=%{x}<br>Percentage of Heart Disease Deaths=%{y}<br>population=%{marker.size}<extra></extra>",
         "hovertext": [
          "Rensselaer",
          "Sand Lake",
          "Hoosick"
         ],
         "legendgroup": "Rensselaer",
         "marker": {
          "color": "#FECB52",
          "size": [
           9264,
           8530,
           6924
          ],
          "sizemode": "area",
          "sizeref": 224.46555555555557,
          "symbol": "circle"
         },
         "mode": "markers",
         "name": "Rensselaer",
         "orientation": "v",
         "showlegend": true,
         "type": "scatter",
         "x": [
          16.434336,
          15.132220000000002,
          12.283176
         ],
         "xaxis": "x",
         "y": [
          0.17739999999999995,
          0.1774,
          0.1774
         ],
         "yaxis": "y"
        },
        {
         "hovertemplate": "<b>%{hovertext}</b><br><br>county=Ulster<br>Scaled Heart Disease-Related Deaths=%{x}<br>Percentage of Heart Disease Deaths=%{y}<br>population=%{marker.size}<extra></extra>",
         "hovertext": [
          "Rosendale",
          "Wawarsing",
          "Esopus",
          "New Paltz"
         ],
         "legendgroup": "Ulster",
         "marker": {
          "color": "#636efa",
          "size": [
           6075,
           13157,
           9041,
           7031
          ],
          "sizemode": "area",
          "sizeref": 224.46555555555557,
          "symbol": "circle"
         },
         "mode": "markers",
         "name": "Ulster",
         "orientation": "v",
         "showlegend": true,
         "type": "scatter",
         "x": [
          9.981225,
          21.616951,
          14.854363,
          11.551933000000002
         ],
         "xaxis": "x",
         "y": [
          0.1643,
          0.1643,
          0.1643,
          0.1643
         ],
         "yaxis": "y"
        },
        {
         "hovertemplate": "<b>%{hovertext}</b><br><br>county=Saratoga<br>Scaled Heart Disease-Related Deaths=%{x}<br>Percentage of Heart Disease Deaths=%{y}<br>population=%{marker.size}<extra></extra>",
         "hovertext": [
          "Saratoga Springs",
          "Clifton Park"
         ],
         "legendgroup": "Saratoga",
         "marker": {
          "color": "#EF553B",
          "size": [
           28027,
           36705
          ],
          "sizemode": "area",
          "sizeref": 224.46555555555557,
          "symbol": "circle"
         },
         "mode": "markers",
         "name": "Saratoga",
         "orientation": "v",
         "showlegend": true,
         "type": "scatter",
         "x": [
          42.0405,
          55.05750000000001
         ],
         "xaxis": "x",
         "y": [
          0.15,
          0.15
         ],
         "yaxis": "y"
        },
        {
         "hovertemplate": "<b>%{hovertext}</b><br><br>county=Schenectady<br>Scaled Heart Disease-Related Deaths=%{x}<br>Percentage of Heart Disease Deaths=%{y}<br>population=%{marker.size}<extra></extra>",
         "hovertext": [
          "Schenectady"
         ],
         "legendgroup": "Schenectady",
         "marker": {
          "color": "#00cc96",
          "size": [
           65625
          ],
          "sizemode": "area",
          "sizeref": 224.46555555555557,
          "symbol": "circle"
         },
         "mode": "markers",
         "name": "Schenectady",
         "orientation": "v",
         "showlegend": true,
         "type": "scatter",
         "x": [
          121.275
         ],
         "xaxis": "x",
         "y": [
          0.1848
         ],
         "yaxis": "y"
        },
        {
         "hovertemplate": "<b>%{hovertext}</b><br><br>county=Broome<br>Scaled Heart Disease-Related Deaths=%{x}<br>Percentage of Heart Disease Deaths=%{y}<br>population=%{marker.size}<extra></extra>",
         "hovertext": [
          "Vestal",
          "Binghamton",
          "Endicott",
          "Endwell",
          "Johnson City"
         ],
         "legendgroup": "Broome",
         "marker": {
          "color": "#ab63fa",
          "size": [
           28043,
           45179,
           12828,
           11446,
           14508
          ],
          "sizemode": "area",
          "sizeref": 224.46555555555557,
          "symbol": "circle"
         },
         "mode": "markers",
         "name": "Broome",
         "orientation": "v",
         "showlegend": true,
         "type": "scatter",
         "x": [
          48.205917,
          77.662701,
          22.051332,
          19.675674,
          24.939252
         ],
         "xaxis": "x",
         "y": [
          0.1719,
          0.1719,
          0.17190000000000005,
          0.1719,
          0.1719
         ],
         "yaxis": "y"
        },
        {
         "hovertemplate": "<b>%{hovertext}</b><br><br>county=Ontario<br>Scaled Heart Disease-Related Deaths=%{x}<br>Percentage of Heart Disease Deaths=%{y}<br>population=%{marker.size}<extra></extra>",
         "hovertext": [
          "Canandaigua",
          "Geneva"
         ],
         "legendgroup": "Ontario",
         "marker": {
          "color": "#FFA15A",
          "size": [
           10289,
           12886
          ],
          "sizemode": "area",
          "sizeref": 224.46555555555557,
          "symbol": "circle"
         },
         "mode": "markers",
         "name": "Ontario",
         "orientation": "v",
         "showlegend": true,
         "type": "scatter",
         "x": [
          14.466334,
          18.117716
         ],
         "xaxis": "x",
         "y": [
          0.1406,
          0.1406
         ],
         "yaxis": "y"
        },
        {
         "hovertemplate": "<b>%{hovertext}</b><br><br>county=Cortland<br>Scaled Heart Disease-Related Deaths=%{x}<br>Percentage of Heart Disease Deaths=%{y}<br>population=%{marker.size}<extra></extra>",
         "hovertext": [
          "Cortland"
         ],
         "legendgroup": "Cortland",
         "marker": {
          "color": "#19d3f3",
          "size": [
           18698
          ],
          "sizemode": "area",
          "sizeref": 224.46555555555557,
          "symbol": "circle"
         },
         "mode": "markers",
         "name": "Cortland",
         "orientation": "v",
         "showlegend": true,
         "type": "scatter",
         "x": [
          29.561538
         ],
         "xaxis": "x",
         "y": [
          0.1581
         ],
         "yaxis": "y"
        },
        {
         "hovertemplate": "<b>%{hovertext}</b><br><br>county=Chemung<br>Scaled Heart Disease-Related Deaths=%{x}<br>Percentage of Heart Disease Deaths=%{y}<br>population=%{marker.size}<extra></extra>",
         "hovertext": [
          "Elmira",
          "Horseheads"
         ],
         "legendgroup": "Chemung",
         "marker": {
          "color": "#FF6692",
          "size": [
           27773,
           6460
          ],
          "sizemode": "area",
          "sizeref": 224.46555555555557,
          "symbol": "circle"
         },
         "mode": "markers",
         "name": "Chemung",
         "orientation": "v",
         "showlegend": true,
         "type": "scatter",
         "x": [
          57.240153,
          13.314060000000001
         ],
         "xaxis": "x",
         "y": [
          0.2061,
          0.2061
         ],
         "yaxis": "y"
        },
        {
         "hovertemplate": "<b>%{hovertext}</b><br><br>county=Herkimer<br>Scaled Heart Disease-Related Deaths=%{x}<br>Percentage of Heart Disease Deaths=%{y}<br>population=%{marker.size}<extra></extra>",
         "hovertext": [
          "Herkimer",
          "Ilion"
         ],
         "legendgroup": "Herkimer",
         "marker": {
          "color": "#B6E880",
          "size": [
           7380,
           7790
          ],
          "sizemode": "area",
          "sizeref": 224.46555555555557,
          "symbol": "circle"
         },
         "mode": "markers",
         "name": "Herkimer",
         "orientation": "v",
         "showlegend": true,
         "type": "scatter",
         "x": [
          12.8412,
          13.5546
         ],
         "xaxis": "x",
         "y": [
          0.174,
          0.174
         ],
         "yaxis": "y"
        },
        {
         "hovertemplate": "<b>%{hovertext}</b><br><br>county=Tompkins<br>Scaled Heart Disease-Related Deaths=%{x}<br>Percentage of Heart Disease Deaths=%{y}<br>population=%{marker.size}<extra></extra>",
         "hovertext": [
          "Ithaca"
         ],
         "legendgroup": "Tompkins",
         "marker": {
          "color": "#FF97FF",
          "size": [
           31006
          ],
          "sizemode": "area",
          "sizeref": 224.46555555555557,
          "symbol": "circle"
         },
         "mode": "markers",
         "name": "Tompkins",
         "orientation": "v",
         "showlegend": true,
         "type": "scatter",
         "x": [
          43.470412
         ],
         "xaxis": "x",
         "y": [
          0.1402
         ],
         "yaxis": "y"
        }
       ],
       "layout": {
        "autosize": true,
        "legend": {
         "itemsizing": "constant",
         "title": {
          "text": "county"
         },
         "tracegroupgap": 0
        },
        "margin": {
         "t": 60
        },
        "template": {
         "data": {
          "bar": [
           {
            "error_x": {
             "color": "#2a3f5f"
            },
            "error_y": {
             "color": "#2a3f5f"
            },
            "marker": {
             "line": {
              "color": "#E5ECF6",
              "width": 0.5
             }
            },
            "type": "bar"
           }
          ],
          "barpolar": [
           {
            "marker": {
             "line": {
              "color": "#E5ECF6",
              "width": 0.5
             }
            },
            "type": "barpolar"
           }
          ],
          "carpet": [
           {
            "aaxis": {
             "endlinecolor": "#2a3f5f",
             "gridcolor": "white",
             "linecolor": "white",
             "minorgridcolor": "white",
             "startlinecolor": "#2a3f5f"
            },
            "baxis": {
             "endlinecolor": "#2a3f5f",
             "gridcolor": "white",
             "linecolor": "white",
             "minorgridcolor": "white",
             "startlinecolor": "#2a3f5f"
            },
            "type": "carpet"
           }
          ],
          "choropleth": [
           {
            "colorbar": {
             "outlinewidth": 0,
             "ticks": ""
            },
            "type": "choropleth"
           }
          ],
          "contour": [
           {
            "colorbar": {
             "outlinewidth": 0,
             "ticks": ""
            },
            "colorscale": [
             [
              0,
              "#0d0887"
             ],
             [
              0.1111111111111111,
              "#46039f"
             ],
             [
              0.2222222222222222,
              "#7201a8"
             ],
             [
              0.3333333333333333,
              "#9c179e"
             ],
             [
              0.4444444444444444,
              "#bd3786"
             ],
             [
              0.5555555555555556,
              "#d8576b"
             ],
             [
              0.6666666666666666,
              "#ed7953"
             ],
             [
              0.7777777777777778,
              "#fb9f3a"
             ],
             [
              0.8888888888888888,
              "#fdca26"
             ],
             [
              1,
              "#f0f921"
             ]
            ],
            "type": "contour"
           }
          ],
          "contourcarpet": [
           {
            "colorbar": {
             "outlinewidth": 0,
             "ticks": ""
            },
            "type": "contourcarpet"
           }
          ],
          "heatmap": [
           {
            "colorbar": {
             "outlinewidth": 0,
             "ticks": ""
            },
            "colorscale": [
             [
              0,
              "#0d0887"
             ],
             [
              0.1111111111111111,
              "#46039f"
             ],
             [
              0.2222222222222222,
              "#7201a8"
             ],
             [
              0.3333333333333333,
              "#9c179e"
             ],
             [
              0.4444444444444444,
              "#bd3786"
             ],
             [
              0.5555555555555556,
              "#d8576b"
             ],
             [
              0.6666666666666666,
              "#ed7953"
             ],
             [
              0.7777777777777778,
              "#fb9f3a"
             ],
             [
              0.8888888888888888,
              "#fdca26"
             ],
             [
              1,
              "#f0f921"
             ]
            ],
            "type": "heatmap"
           }
          ],
          "heatmapgl": [
           {
            "colorbar": {
             "outlinewidth": 0,
             "ticks": ""
            },
            "colorscale": [
             [
              0,
              "#0d0887"
             ],
             [
              0.1111111111111111,
              "#46039f"
             ],
             [
              0.2222222222222222,
              "#7201a8"
             ],
             [
              0.3333333333333333,
              "#9c179e"
             ],
             [
              0.4444444444444444,
              "#bd3786"
             ],
             [
              0.5555555555555556,
              "#d8576b"
             ],
             [
              0.6666666666666666,
              "#ed7953"
             ],
             [
              0.7777777777777778,
              "#fb9f3a"
             ],
             [
              0.8888888888888888,
              "#fdca26"
             ],
             [
              1,
              "#f0f921"
             ]
            ],
            "type": "heatmapgl"
           }
          ],
          "histogram": [
           {
            "marker": {
             "colorbar": {
              "outlinewidth": 0,
              "ticks": ""
             }
            },
            "type": "histogram"
           }
          ],
          "histogram2d": [
           {
            "colorbar": {
             "outlinewidth": 0,
             "ticks": ""
            },
            "colorscale": [
             [
              0,
              "#0d0887"
             ],
             [
              0.1111111111111111,
              "#46039f"
             ],
             [
              0.2222222222222222,
              "#7201a8"
             ],
             [
              0.3333333333333333,
              "#9c179e"
             ],
             [
              0.4444444444444444,
              "#bd3786"
             ],
             [
              0.5555555555555556,
              "#d8576b"
             ],
             [
              0.6666666666666666,
              "#ed7953"
             ],
             [
              0.7777777777777778,
              "#fb9f3a"
             ],
             [
              0.8888888888888888,
              "#fdca26"
             ],
             [
              1,
              "#f0f921"
             ]
            ],
            "type": "histogram2d"
           }
          ],
          "histogram2dcontour": [
           {
            "colorbar": {
             "outlinewidth": 0,
             "ticks": ""
            },
            "colorscale": [
             [
              0,
              "#0d0887"
             ],
             [
              0.1111111111111111,
              "#46039f"
             ],
             [
              0.2222222222222222,
              "#7201a8"
             ],
             [
              0.3333333333333333,
              "#9c179e"
             ],
             [
              0.4444444444444444,
              "#bd3786"
             ],
             [
              0.5555555555555556,
              "#d8576b"
             ],
             [
              0.6666666666666666,
              "#ed7953"
             ],
             [
              0.7777777777777778,
              "#fb9f3a"
             ],
             [
              0.8888888888888888,
              "#fdca26"
             ],
             [
              1,
              "#f0f921"
             ]
            ],
            "type": "histogram2dcontour"
           }
          ],
          "mesh3d": [
           {
            "colorbar": {
             "outlinewidth": 0,
             "ticks": ""
            },
            "type": "mesh3d"
           }
          ],
          "parcoords": [
           {
            "line": {
             "colorbar": {
              "outlinewidth": 0,
              "ticks": ""
             }
            },
            "type": "parcoords"
           }
          ],
          "pie": [
           {
            "automargin": true,
            "type": "pie"
           }
          ],
          "scatter": [
           {
            "marker": {
             "colorbar": {
              "outlinewidth": 0,
              "ticks": ""
             }
            },
            "type": "scatter"
           }
          ],
          "scatter3d": [
           {
            "line": {
             "colorbar": {
              "outlinewidth": 0,
              "ticks": ""
             }
            },
            "marker": {
             "colorbar": {
              "outlinewidth": 0,
              "ticks": ""
             }
            },
            "type": "scatter3d"
           }
          ],
          "scattercarpet": [
           {
            "marker": {
             "colorbar": {
              "outlinewidth": 0,
              "ticks": ""
             }
            },
            "type": "scattercarpet"
           }
          ],
          "scattergeo": [
           {
            "marker": {
             "colorbar": {
              "outlinewidth": 0,
              "ticks": ""
             }
            },
            "type": "scattergeo"
           }
          ],
          "scattergl": [
           {
            "marker": {
             "colorbar": {
              "outlinewidth": 0,
              "ticks": ""
             }
            },
            "type": "scattergl"
           }
          ],
          "scattermapbox": [
           {
            "marker": {
             "colorbar": {
              "outlinewidth": 0,
              "ticks": ""
             }
            },
            "type": "scattermapbox"
           }
          ],
          "scatterpolar": [
           {
            "marker": {
             "colorbar": {
              "outlinewidth": 0,
              "ticks": ""
             }
            },
            "type": "scatterpolar"
           }
          ],
          "scatterpolargl": [
           {
            "marker": {
             "colorbar": {
              "outlinewidth": 0,
              "ticks": ""
             }
            },
            "type": "scatterpolargl"
           }
          ],
          "scatterternary": [
           {
            "marker": {
             "colorbar": {
              "outlinewidth": 0,
              "ticks": ""
             }
            },
            "type": "scatterternary"
           }
          ],
          "surface": [
           {
            "colorbar": {
             "outlinewidth": 0,
             "ticks": ""
            },
            "colorscale": [
             [
              0,
              "#0d0887"
             ],
             [
              0.1111111111111111,
              "#46039f"
             ],
             [
              0.2222222222222222,
              "#7201a8"
             ],
             [
              0.3333333333333333,
              "#9c179e"
             ],
             [
              0.4444444444444444,
              "#bd3786"
             ],
             [
              0.5555555555555556,
              "#d8576b"
             ],
             [
              0.6666666666666666,
              "#ed7953"
             ],
             [
              0.7777777777777778,
              "#fb9f3a"
             ],
             [
              0.8888888888888888,
              "#fdca26"
             ],
             [
              1,
              "#f0f921"
             ]
            ],
            "type": "surface"
           }
          ],
          "table": [
           {
            "cells": {
             "fill": {
              "color": "#EBF0F8"
             },
             "line": {
              "color": "white"
             }
            },
            "header": {
             "fill": {
              "color": "#C8D4E3"
             },
             "line": {
              "color": "white"
             }
            },
            "type": "table"
           }
          ]
         },
         "layout": {
          "annotationdefaults": {
           "arrowcolor": "#2a3f5f",
           "arrowhead": 0,
           "arrowwidth": 1
          },
          "coloraxis": {
           "colorbar": {
            "outlinewidth": 0,
            "ticks": ""
           }
          },
          "colorscale": {
           "diverging": [
            [
             0,
             "#8e0152"
            ],
            [
             0.1,
             "#c51b7d"
            ],
            [
             0.2,
             "#de77ae"
            ],
            [
             0.3,
             "#f1b6da"
            ],
            [
             0.4,
             "#fde0ef"
            ],
            [
             0.5,
             "#f7f7f7"
            ],
            [
             0.6,
             "#e6f5d0"
            ],
            [
             0.7,
             "#b8e186"
            ],
            [
             0.8,
             "#7fbc41"
            ],
            [
             0.9,
             "#4d9221"
            ],
            [
             1,
             "#276419"
            ]
           ],
           "sequential": [
            [
             0,
             "#0d0887"
            ],
            [
             0.1111111111111111,
             "#46039f"
            ],
            [
             0.2222222222222222,
             "#7201a8"
            ],
            [
             0.3333333333333333,
             "#9c179e"
            ],
            [
             0.4444444444444444,
             "#bd3786"
            ],
            [
             0.5555555555555556,
             "#d8576b"
            ],
            [
             0.6666666666666666,
             "#ed7953"
            ],
            [
             0.7777777777777778,
             "#fb9f3a"
            ],
            [
             0.8888888888888888,
             "#fdca26"
            ],
            [
             1,
             "#f0f921"
            ]
           ],
           "sequentialminus": [
            [
             0,
             "#0d0887"
            ],
            [
             0.1111111111111111,
             "#46039f"
            ],
            [
             0.2222222222222222,
             "#7201a8"
            ],
            [
             0.3333333333333333,
             "#9c179e"
            ],
            [
             0.4444444444444444,
             "#bd3786"
            ],
            [
             0.5555555555555556,
             "#d8576b"
            ],
            [
             0.6666666666666666,
             "#ed7953"
            ],
            [
             0.7777777777777778,
             "#fb9f3a"
            ],
            [
             0.8888888888888888,
             "#fdca26"
            ],
            [
             1,
             "#f0f921"
            ]
           ]
          },
          "colorway": [
           "#636efa",
           "#EF553B",
           "#00cc96",
           "#ab63fa",
           "#FFA15A",
           "#19d3f3",
           "#FF6692",
           "#B6E880",
           "#FF97FF",
           "#FECB52"
          ],
          "font": {
           "color": "#2a3f5f"
          },
          "geo": {
           "bgcolor": "white",
           "lakecolor": "white",
           "landcolor": "#E5ECF6",
           "showlakes": true,
           "showland": true,
           "subunitcolor": "white"
          },
          "hoverlabel": {
           "align": "left"
          },
          "hovermode": "closest",
          "mapbox": {
           "style": "light"
          },
          "paper_bgcolor": "white",
          "plot_bgcolor": "#E5ECF6",
          "polar": {
           "angularaxis": {
            "gridcolor": "white",
            "linecolor": "white",
            "ticks": ""
           },
           "bgcolor": "#E5ECF6",
           "radialaxis": {
            "gridcolor": "white",
            "linecolor": "white",
            "ticks": ""
           }
          },
          "scene": {
           "xaxis": {
            "backgroundcolor": "#E5ECF6",
            "gridcolor": "white",
            "gridwidth": 2,
            "linecolor": "white",
            "showbackground": true,
            "ticks": "",
            "zerolinecolor": "white"
           },
           "yaxis": {
            "backgroundcolor": "#E5ECF6",
            "gridcolor": "white",
            "gridwidth": 2,
            "linecolor": "white",
            "showbackground": true,
            "ticks": "",
            "zerolinecolor": "white"
           },
           "zaxis": {
            "backgroundcolor": "#E5ECF6",
            "gridcolor": "white",
            "gridwidth": 2,
            "linecolor": "white",
            "showbackground": true,
            "ticks": "",
            "zerolinecolor": "white"
           }
          },
          "shapedefaults": {
           "line": {
            "color": "#2a3f5f"
           }
          },
          "ternary": {
           "aaxis": {
            "gridcolor": "white",
            "linecolor": "white",
            "ticks": ""
           },
           "baxis": {
            "gridcolor": "white",
            "linecolor": "white",
            "ticks": ""
           },
           "bgcolor": "#E5ECF6",
           "caxis": {
            "gridcolor": "white",
            "linecolor": "white",
            "ticks": ""
           }
          },
          "title": {
           "x": 0.05
          },
          "xaxis": {
           "automargin": true,
           "gridcolor": "white",
           "linecolor": "white",
           "ticks": "",
           "title": {
            "standoff": 15
           },
           "zerolinecolor": "white",
           "zerolinewidth": 2
          },
          "yaxis": {
           "automargin": true,
           "gridcolor": "white",
           "linecolor": "white",
           "ticks": "",
           "title": {
            "standoff": 15
           },
           "zerolinecolor": "white",
           "zerolinewidth": 2
          }
         }
        },
        "xaxis": {
         "anchor": "y",
         "autorange": true,
         "domain": [
          0,
          1
         ],
         "range": [
          -8.535989295603585,
          319.4559741317443
         ],
         "title": {
          "text": "Scaled Heart Disease-Related Deaths"
         },
         "type": "linear"
        },
        "yaxis": {
         "anchor": "x",
         "autorange": true,
         "domain": [
          0,
          1
         ],
         "range": [
          0.1321001461138582,
          0.2333828417295575
         ],
         "title": {
          "text": "Percentage of Heart Disease Deaths"
         },
         "type": "linear"
        }
       }
      },
      "image/png": "[encoded data removed]",
      "text/html": [
       "<div>\n",
       "        \n",
       "        \n",
       "            <div id=\"1c428c06-e80e-4169-b377-73411ed1dc83\" class=\"plotly-graph-div\" style=\"height:525px; width:100%;\"></div>\n",
       "            <script type=\"text/javascript\">\n",
       "                require([\"plotly\"], function(Plotly) {\n",
       "                    window.PLOTLYENV=window.PLOTLYENV || {};\n",
       "                    \n",
       "                if (document.getElementById(\"1c428c06-e80e-4169-b377-73411ed1dc83\")) {\n",
       "                    Plotly.newPlot(\n",
       "                        '1c428c06-e80e-4169-b377-73411ed1dc83',\n",
       "                        [{\"hovertemplate\": \"<b>%{hovertext}</b><br><br>county=Niagara<br>Scaled Heart Disease-Related Deaths=%{x}<br>Percentage of Heart Disease Deaths=%{y}<br>population=%{marker.size}<extra></extra>\", \"hovertext\": [\"Niagara Falls\", \"North Tonawanda\", \"Lockport\"], \"legendgroup\": \"Niagara\", \"marker\": {\"color\": \"#636efa\", \"size\": [48460.0, 30475.0, 20569.0], \"sizemode\": \"area\", \"sizeref\": 224.46555555555557, \"symbol\": \"circle\"}, \"mode\": \"markers\", \"name\": \"Niagara\", \"orientation\": \"v\", \"showlegend\": true, \"type\": \"scatter\", \"x\": [104.23746, 65.551725, 44.24391900000001], \"xaxis\": \"x\", \"y\": [0.2151, 0.2151, 0.2151], \"yaxis\": \"y\"}, {\"hovertemplate\": \"<b>%{hovertext}</b><br><br>county=Rockland<br>Scaled Heart Disease-Related Deaths=%{x}<br>Percentage of Heart Disease Deaths=%{y}<br>population=%{marker.size}<extra></extra>\", \"hovertext\": [\"Nyack\", \"Pearl River\", \"Spring Valley\", \"Stony Point\", \"Suffern\", \"Tappan\", \"Valley Cottage\", \"West Haverstraw\", \"Congers\", \"Haverstraw\", \"Monsey\", \"Nanuet\", \"New City\"], \"legendgroup\": \"Rockland\", \"marker\": {\"color\": \"#EF553B\", \"size\": [7040.0, 15876.0, 32724.0, 12147.0, 10995.0, 6613.0, 9107.0, 10388.0, 8363.0, 12216.0, 18412.0, 17882.0, 33559.0], \"sizemode\": \"area\", \"sizeref\": 224.46555555555557, \"symbol\": \"circle\"}, \"mode\": \"markers\", \"name\": \"Rockland\", \"orientation\": \"v\", \"showlegend\": true, \"type\": \"scatter\", \"x\": [10.060160000000002, 22.686804, 46.762596, 17.358063, 15.711855000000002, 9.449977, 13.013902999999999, 14.844452000000002, 11.950727, 17.456664000000004, 26.310748000000004, 25.553378, 47.955811], \"xaxis\": \"x\", \"y\": [0.14290000000000005, 0.14290000000000005, 0.14290000000000005, 0.14290000000000005, 0.14290000000000005, 0.14290000000000005, 0.14290000000000005, 0.14290000000000005, 0.14290000000000005, 0.14290000000000005, 0.14290000000000005, 0.14290000000000005, 0.14290000000000005], \"yaxis\": \"y\"}, {\"hovertemplate\": \"<b>%{hovertext}</b><br><br>county=Cattaraugus<br>Scaled Heart Disease-Related Deaths=%{x}<br>Percentage of Heart Disease Deaths=%{y}<br>population=%{marker.size}<extra></extra>\", \"hovertext\": [\"Olean\"], \"legendgroup\": \"Cattaraugus\", \"marker\": {\"color\": \"#00cc96\", \"size\": [13711.0], \"sizemode\": \"area\", \"sizeref\": 224.46555555555557, \"symbol\": \"circle\"}, \"mode\": \"markers\", \"name\": \"Cattaraugus\", \"orientation\": \"v\", \"showlegend\": true, \"type\": \"scatter\", \"x\": [31.027993], \"xaxis\": \"x\", \"y\": [0.22630000000000006], \"yaxis\": \"y\"}, {\"hovertemplate\": \"<b>%{hovertext}</b><br><br>county=Otsego<br>Scaled Heart Disease-Related Deaths=%{x}<br>Percentage of Heart Disease Deaths=%{y}<br>population=%{marker.size}<extra></extra>\", \"hovertext\": [\"Oneonta\"], \"legendgroup\": \"Otsego\", \"marker\": {\"color\": \"#ab63fa\", \"size\": [14057.0], \"sizemode\": \"area\", \"sizeref\": 224.46555555555557, \"symbol\": \"circle\"}, \"mode\": \"markers\", \"name\": \"Otsego\", \"orientation\": \"v\", \"showlegend\": true, \"type\": \"scatter\", \"x\": [24.726263000000007], \"xaxis\": \"x\", \"y\": [0.1759], \"yaxis\": \"y\"}, {\"hovertemplate\": \"<b>%{hovertext}</b><br><br>county=Westchester<br>Scaled Heart Disease-Related Deaths=%{x}<br>Percentage of Heart Disease Deaths=%{y}<br>population=%{marker.size}<extra></extra>\", \"hovertext\": [\"Ossining\", \"Peekskill\", \"Port Chester\", \"Scarsdale\", \"Tarrytown\", \"White Plains\", \"Yonkers\", \"Briarcliff Manor\", \"Bronxville\", \"Dobbs Ferry\", \"Eastchester\", \"Larchmont\", \"Mamaroneck\", \"Mount Kisco\", \"New Rochelle\"], \"legendgroup\": \"Westchester\", \"marker\": {\"color\": \"#FFA15A\", \"size\": [25403.0, 24272.0, 29711.0, 18079.0, 11572.0, 59047.0, 202019.0, 8021.0, 6547.0, 11147.0, 19554.0, 6157.0, 19423.0, 10998.0, 79946.0], \"sizemode\": \"area\", \"sizeref\": 224.46555555555557, \"symbol\": \"circle\"}, \"mode\": \"markers\", \"name\": \"Westchester\", \"orientation\": \"v\", \"showlegend\": true, \"type\": \"scatter\", \"x\": [37.266201, 35.607023999999996, 43.586037, 26.521893, 16.976124, 86.621949, 296.361873, 11.766807, 9.604449, 16.352649, 28.685717999999998, 9.032319000000001, 28.493540999999997, 16.134066, 117.280782], \"xaxis\": \"x\", \"y\": [0.1467, 0.14670000000000002, 0.1467, 0.1467, 0.1467, 0.1467, 0.1467, 0.1467, 0.14670000000000002, 0.1467, 0.1467, 0.1467, 0.1467, 0.1467, 0.1467], \"yaxis\": \"y\"}, {\"hovertemplate\": \"<b>%{hovertext}</b><br><br>county=Oswego<br>Scaled Heart Disease-Related Deaths=%{x}<br>Percentage of Heart Disease Deaths=%{y}<br>population=%{marker.size}<extra></extra>\", \"hovertext\": [\"Oswego\", \"Fulton\", \"Hastings\"], \"legendgroup\": \"Oswego\", \"marker\": {\"color\": \"#19d3f3\", \"size\": [17465.0, 11324.0, 9450.0], \"sizemode\": \"area\", \"sizeref\": 224.46555555555557, \"symbol\": \"circle\"}, \"mode\": \"markers\", \"name\": \"Oswego\", \"orientation\": \"v\", \"showlegend\": true, \"type\": \"scatter\", \"x\": [34.598165, 22.432844000000006, 18.72045], \"xaxis\": \"x\", \"y\": [0.1981, 0.1981, 0.1981], \"yaxis\": \"y\"}, {\"hovertemplate\": \"<b>%{hovertext}</b><br><br>county=Onondaga<br>Scaled Heart Disease-Related Deaths=%{x}<br>Percentage of Heart Disease Deaths=%{y}<br>population=%{marker.size}<extra></extra>\", \"hovertext\": [\"Pompey\", \"Syracuse\", \"Baldwinsville\", \"Cicero\", \"Clay\"], \"legendgroup\": \"Onondaga\", \"marker\": {\"color\": \"#FF6692\", \"size\": [7080.0, 143396.0, 7885.0, 31632.0, 58206.0], \"sizemode\": \"area\", \"sizeref\": 224.46555555555557, \"symbol\": \"circle\"}, \"mode\": \"markers\", \"name\": \"Onondaga\", \"orientation\": \"v\", \"showlegend\": true, \"type\": \"scatter\", \"x\": [10.88904, 220.543048, 12.12713, 48.650016, 89.52082800000002], \"xaxis\": \"x\", \"y\": [0.15380000000000002, 0.15380000000000002, 0.15380000000000002, 0.15380000000000002, 0.15380000000000002], \"yaxis\": \"y\"}, {\"hovertemplate\": \"<b>%{hovertext}</b><br><br>county=St. Lawrence<br>Scaled Heart Disease-Related Deaths=%{x}<br>Percentage of Heart Disease Deaths=%{y}<br>population=%{marker.size}<extra></extra>\", \"hovertext\": [\"Potsdam\", \"Massena\"], \"legendgroup\": \"St. Lawrence\", \"marker\": {\"color\": \"#B6E880\", \"size\": [9688.0, 10368.0], \"sizemode\": \"area\", \"sizeref\": 224.46555555555557, \"symbol\": \"circle\"}, \"mode\": \"markers\", \"name\": \"St. Lawrence\", \"orientation\": \"v\", \"showlegend\": true, \"type\": \"scatter\", \"x\": [18.45564, 19.75104], \"xaxis\": \"x\", \"y\": [0.1905, 0.1905], \"yaxis\": \"y\"}, {\"hovertemplate\": \"<b>%{hovertext}</b><br><br>county=Dutchess<br>Scaled Heart Disease-Related Deaths=%{x}<br>Percentage of Heart Disease Deaths=%{y}<br>population=%{marker.size}<extra></extra>\", \"hovertext\": [\"Poughkeepsie\", \"Beacon\"], \"legendgroup\": \"Dutchess\", \"marker\": {\"color\": \"#FF97FF\", \"size\": [30614.0, 14289.0], \"sizemode\": \"area\", \"sizeref\": 224.46555555555557, \"symbol\": \"circle\"}, \"mode\": \"markers\", \"name\": \"Dutchess\", \"orientation\": \"v\", \"showlegend\": true, \"type\": \"scatter\", \"x\": [54.860288, 25.605888], \"xaxis\": \"x\", \"y\": [0.1792, 0.1792], \"yaxis\": \"y\"}, {\"hovertemplate\": \"<b>%{hovertext}</b><br><br>county=Rensselaer<br>Scaled Heart Disease-Related Deaths=%{x}<br>Percentage of Heart Disease Deaths=%{y}<br>population=%{marker.size}<extra></extra>\", \"hovertext\": [\"Rensselaer\", \"Sand Lake\", \"Hoosick\"], \"legendgroup\": \"Rensselaer\", \"marker\": {\"color\": \"#FECB52\", \"size\": [9264.0, 8530.0, 6924.0], \"sizemode\": \"area\", \"sizeref\": 224.46555555555557, \"symbol\": \"circle\"}, \"mode\": \"markers\", \"name\": \"Rensselaer\", \"orientation\": \"v\", \"showlegend\": true, \"type\": \"scatter\", \"x\": [16.434336, 15.132220000000002, 12.283176], \"xaxis\": \"x\", \"y\": [0.17739999999999995, 0.1774, 0.1774], \"yaxis\": \"y\"}, {\"hovertemplate\": \"<b>%{hovertext}</b><br><br>county=Ulster<br>Scaled Heart Disease-Related Deaths=%{x}<br>Percentage of Heart Disease Deaths=%{y}<br>population=%{marker.size}<extra></extra>\", \"hovertext\": [\"Rosendale\", \"Wawarsing\", \"Esopus\", \"New Paltz\"], \"legendgroup\": \"Ulster\", \"marker\": {\"color\": \"#636efa\", \"size\": [6075.0, 13157.0, 9041.0, 7031.0], \"sizemode\": \"area\", \"sizeref\": 224.46555555555557, \"symbol\": \"circle\"}, \"mode\": \"markers\", \"name\": \"Ulster\", \"orientation\": \"v\", \"showlegend\": true, \"type\": \"scatter\", \"x\": [9.981225, 21.616951, 14.854363, 11.551933000000002], \"xaxis\": \"x\", \"y\": [0.1643, 0.1643, 0.1643, 0.1643], \"yaxis\": \"y\"}, {\"hovertemplate\": \"<b>%{hovertext}</b><br><br>county=Saratoga<br>Scaled Heart Disease-Related Deaths=%{x}<br>Percentage of Heart Disease Deaths=%{y}<br>population=%{marker.size}<extra></extra>\", \"hovertext\": [\"Saratoga Springs\", \"Clifton Park\"], \"legendgroup\": \"Saratoga\", \"marker\": {\"color\": \"#EF553B\", \"size\": [28027.0, 36705.0], \"sizemode\": \"area\", \"sizeref\": 224.46555555555557, \"symbol\": \"circle\"}, \"mode\": \"markers\", \"name\": \"Saratoga\", \"orientation\": \"v\", \"showlegend\": true, \"type\": \"scatter\", \"x\": [42.0405, 55.05750000000001], \"xaxis\": \"x\", \"y\": [0.15, 0.15], \"yaxis\": \"y\"}, {\"hovertemplate\": \"<b>%{hovertext}</b><br><br>county=Schenectady<br>Scaled Heart Disease-Related Deaths=%{x}<br>Percentage of Heart Disease Deaths=%{y}<br>population=%{marker.size}<extra></extra>\", \"hovertext\": [\"Schenectady\"], \"legendgroup\": \"Schenectady\", \"marker\": {\"color\": \"#00cc96\", \"size\": [65625.0], \"sizemode\": \"area\", \"sizeref\": 224.46555555555557, \"symbol\": \"circle\"}, \"mode\": \"markers\", \"name\": \"Schenectady\", \"orientation\": \"v\", \"showlegend\": true, \"type\": \"scatter\", \"x\": [121.275], \"xaxis\": \"x\", \"y\": [0.1848], \"yaxis\": \"y\"}, {\"hovertemplate\": \"<b>%{hovertext}</b><br><br>county=Broome<br>Scaled Heart Disease-Related Deaths=%{x}<br>Percentage of Heart Disease Deaths=%{y}<br>population=%{marker.size}<extra></extra>\", \"hovertext\": [\"Vestal\", \"Binghamton\", \"Endicott\", \"Endwell\", \"Johnson City\"], \"legendgroup\": \"Broome\", \"marker\": {\"color\": \"#ab63fa\", \"size\": [28043.0, 45179.0, 12828.0, 11446.0, 14508.0], \"sizemode\": \"area\", \"sizeref\": 224.46555555555557, \"symbol\": \"circle\"}, \"mode\": \"markers\", \"name\": \"Broome\", \"orientation\": \"v\", \"showlegend\": true, \"type\": \"scatter\", \"x\": [48.205917, 77.662701, 22.051332, 19.675674, 24.939252], \"xaxis\": \"x\", \"y\": [0.1719, 0.1719, 0.17190000000000005, 0.1719, 0.1719], \"yaxis\": \"y\"}, {\"hovertemplate\": \"<b>%{hovertext}</b><br><br>county=Ontario<br>Scaled Heart Disease-Related Deaths=%{x}<br>Percentage of Heart Disease Deaths=%{y}<br>population=%{marker.size}<extra></extra>\", \"hovertext\": [\"Canandaigua\", \"Geneva\"], \"legendgroup\": \"Ontario\", \"marker\": {\"color\": \"#FFA15A\", \"size\": [10289.0, 12886.0], \"sizemode\": \"area\", \"sizeref\": 224.46555555555557, \"symbol\": \"circle\"}, \"mode\": \"markers\", \"name\": \"Ontario\", \"orientation\": \"v\", \"showlegend\": true, \"type\": \"scatter\", \"x\": [14.466334, 18.117716], \"xaxis\": \"x\", \"y\": [0.1406, 0.1406], \"yaxis\": \"y\"}, {\"hovertemplate\": \"<b>%{hovertext}</b><br><br>county=Cortland<br>Scaled Heart Disease-Related Deaths=%{x}<br>Percentage of Heart Disease Deaths=%{y}<br>population=%{marker.size}<extra></extra>\", \"hovertext\": [\"Cortland\"], \"legendgroup\": \"Cortland\", \"marker\": {\"color\": \"#19d3f3\", \"size\": [18698.0], \"sizemode\": \"area\", \"sizeref\": 224.46555555555557, \"symbol\": \"circle\"}, \"mode\": \"markers\", \"name\": \"Cortland\", \"orientation\": \"v\", \"showlegend\": true, \"type\": \"scatter\", \"x\": [29.561538], \"xaxis\": \"x\", \"y\": [0.1581], \"yaxis\": \"y\"}, {\"hovertemplate\": \"<b>%{hovertext}</b><br><br>county=Chemung<br>Scaled Heart Disease-Related Deaths=%{x}<br>Percentage of Heart Disease Deaths=%{y}<br>population=%{marker.size}<extra></extra>\", \"hovertext\": [\"Elmira\", \"Horseheads\"], \"legendgroup\": \"Chemung\", \"marker\": {\"color\": \"#FF6692\", \"size\": [27773.0, 6460.0], \"sizemode\": \"area\", \"sizeref\": 224.46555555555557, \"symbol\": \"circle\"}, \"mode\": \"markers\", \"name\": \"Chemung\", \"orientation\": \"v\", \"showlegend\": true, \"type\": \"scatter\", \"x\": [57.240153, 13.314060000000001], \"xaxis\": \"x\", \"y\": [0.2061, 0.2061], \"yaxis\": \"y\"}, {\"hovertemplate\": \"<b>%{hovertext}</b><br><br>county=Herkimer<br>Scaled Heart Disease-Related Deaths=%{x}<br>Percentage of Heart Disease Deaths=%{y}<br>population=%{marker.size}<extra></extra>\", \"hovertext\": [\"Herkimer\", \"Ilion\"], \"legendgroup\": \"Herkimer\", \"marker\": {\"color\": \"#B6E880\", \"size\": [7380.0, 7790.0], \"sizemode\": \"area\", \"sizeref\": 224.46555555555557, \"symbol\": \"circle\"}, \"mode\": \"markers\", \"name\": \"Herkimer\", \"orientation\": \"v\", \"showlegend\": true, \"type\": \"scatter\", \"x\": [12.8412, 13.5546], \"xaxis\": \"x\", \"y\": [0.174, 0.174], \"yaxis\": \"y\"}, {\"hovertemplate\": \"<b>%{hovertext}</b><br><br>county=Tompkins<br>Scaled Heart Disease-Related Deaths=%{x}<br>Percentage of Heart Disease Deaths=%{y}<br>population=%{marker.size}<extra></extra>\", \"hovertext\": [\"Ithaca\"], \"legendgroup\": \"Tompkins\", \"marker\": {\"color\": \"#FF97FF\", \"size\": [31006.0], \"sizemode\": \"area\", \"sizeref\": 224.46555555555557, \"symbol\": \"circle\"}, \"mode\": \"markers\", \"name\": \"Tompkins\", \"orientation\": \"v\", \"showlegend\": true, \"type\": \"scatter\", \"x\": [43.470412], \"xaxis\": \"x\", \"y\": [0.1402], \"yaxis\": \"y\"}],\n",
       "                        {\"legend\": {\"itemsizing\": \"constant\", \"title\": {\"text\": \"county\"}, \"tracegroupgap\": 0}, \"margin\": {\"t\": 60}, \"template\": {\"data\": {\"bar\": [{\"error_x\": {\"color\": \"#2a3f5f\"}, \"error_y\": {\"color\": \"#2a3f5f\"}, \"marker\": {\"line\": {\"color\": \"#E5ECF6\", \"width\": 0.5}}, \"type\": \"bar\"}], \"barpolar\": [{\"marker\": {\"line\": {\"color\": \"#E5ECF6\", \"width\": 0.5}}, \"type\": \"barpolar\"}], \"carpet\": [{\"aaxis\": {\"endlinecolor\": \"#2a3f5f\", \"gridcolor\": \"white\", \"linecolor\": \"white\", \"minorgridcolor\": \"white\", \"startlinecolor\": \"#2a3f5f\"}, \"baxis\": {\"endlinecolor\": \"#2a3f5f\", \"gridcolor\": \"white\", \"linecolor\": \"white\", \"minorgridcolor\": \"white\", \"startlinecolor\": \"#2a3f5f\"}, \"type\": \"carpet\"}], \"choropleth\": [{\"colorbar\": {\"outlinewidth\": 0, \"ticks\": \"\"}, \"type\": \"choropleth\"}], \"contour\": [{\"colorbar\": {\"outlinewidth\": 0, \"ticks\": \"\"}, \"colorscale\": [[0.0, \"#0d0887\"], [0.1111111111111111, \"#46039f\"], [0.2222222222222222, \"#7201a8\"], [0.3333333333333333, \"#9c179e\"], [0.4444444444444444, \"#bd3786\"], [0.5555555555555556, \"#d8576b\"], [0.6666666666666666, \"#ed7953\"], [0.7777777777777778, \"#fb9f3a\"], [0.8888888888888888, \"#fdca26\"], [1.0, \"#f0f921\"]], \"type\": \"contour\"}], \"contourcarpet\": [{\"colorbar\": {\"outlinewidth\": 0, \"ticks\": \"\"}, \"type\": \"contourcarpet\"}], \"heatmap\": [{\"colorbar\": {\"outlinewidth\": 0, \"ticks\": \"\"}, \"colorscale\": [[0.0, \"#0d0887\"], [0.1111111111111111, \"#46039f\"], [0.2222222222222222, \"#7201a8\"], [0.3333333333333333, \"#9c179e\"], [0.4444444444444444, \"#bd3786\"], [0.5555555555555556, \"#d8576b\"], [0.6666666666666666, \"#ed7953\"], [0.7777777777777778, \"#fb9f3a\"], [0.8888888888888888, \"#fdca26\"], [1.0, \"#f0f921\"]], \"type\": \"heatmap\"}], \"heatmapgl\": [{\"colorbar\": {\"outlinewidth\": 0, \"ticks\": \"\"}, \"colorscale\": [[0.0, \"#0d0887\"], [0.1111111111111111, \"#46039f\"], [0.2222222222222222, \"#7201a8\"], [0.3333333333333333, \"#9c179e\"], [0.4444444444444444, \"#bd3786\"], [0.5555555555555556, \"#d8576b\"], [0.6666666666666666, \"#ed7953\"], [0.7777777777777778, \"#fb9f3a\"], [0.8888888888888888, \"#fdca26\"], [1.0, \"#f0f921\"]], \"type\": \"heatmapgl\"}], \"histogram\": [{\"marker\": {\"colorbar\": {\"outlinewidth\": 0, \"ticks\": \"\"}}, \"type\": \"histogram\"}], \"histogram2d\": [{\"colorbar\": {\"outlinewidth\": 0, \"ticks\": \"\"}, \"colorscale\": [[0.0, \"#0d0887\"], [0.1111111111111111, \"#46039f\"], [0.2222222222222222, \"#7201a8\"], [0.3333333333333333, \"#9c179e\"], [0.4444444444444444, \"#bd3786\"], [0.5555555555555556, \"#d8576b\"], [0.6666666666666666, \"#ed7953\"], [0.7777777777777778, \"#fb9f3a\"], [0.8888888888888888, \"#fdca26\"], [1.0, \"#f0f921\"]], \"type\": \"histogram2d\"}], \"histogram2dcontour\": [{\"colorbar\": {\"outlinewidth\": 0, \"ticks\": \"\"}, \"colorscale\": [[0.0, \"#0d0887\"], [0.1111111111111111, \"#46039f\"], [0.2222222222222222, \"#7201a8\"], [0.3333333333333333, \"#9c179e\"], [0.4444444444444444, \"#bd3786\"], [0.5555555555555556, \"#d8576b\"], [0.6666666666666666, \"#ed7953\"], [0.7777777777777778, \"#fb9f3a\"], [0.8888888888888888, \"#fdca26\"], [1.0, \"#f0f921\"]], \"type\": \"histogram2dcontour\"}], \"mesh3d\": [{\"colorbar\": {\"outlinewidth\": 0, \"ticks\": \"\"}, \"type\": \"mesh3d\"}], \"parcoords\": [{\"line\": {\"colorbar\": {\"outlinewidth\": 0, \"ticks\": \"\"}}, \"type\": \"parcoords\"}], \"pie\": [{\"automargin\": true, \"type\": \"pie\"}], \"scatter\": [{\"marker\": {\"colorbar\": {\"outlinewidth\": 0, \"ticks\": \"\"}}, \"type\": \"scatter\"}], \"scatter3d\": [{\"line\": {\"colorbar\": {\"outlinewidth\": 0, \"ticks\": \"\"}}, \"marker\": {\"colorbar\": {\"outlinewidth\": 0, \"ticks\": \"\"}}, \"type\": \"scatter3d\"}], \"scattercarpet\": [{\"marker\": {\"colorbar\": {\"outlinewidth\": 0, \"ticks\": \"\"}}, \"type\": \"scattercarpet\"}], \"scattergeo\": [{\"marker\": {\"colorbar\": {\"outlinewidth\": 0, \"ticks\": \"\"}}, \"type\": \"scattergeo\"}], \"scattergl\": [{\"marker\": {\"colorbar\": {\"outlinewidth\": 0, \"ticks\": \"\"}}, \"type\": \"scattergl\"}], \"scattermapbox\": [{\"marker\": {\"colorbar\": {\"outlinewidth\": 0, \"ticks\": \"\"}}, \"type\": \"scattermapbox\"}], \"scatterpolar\": [{\"marker\": {\"colorbar\": {\"outlinewidth\": 0, \"ticks\": \"\"}}, \"type\": \"scatterpolar\"}], \"scatterpolargl\": [{\"marker\": {\"colorbar\": {\"outlinewidth\": 0, \"ticks\": \"\"}}, \"type\": \"scatterpolargl\"}], \"scatterternary\": [{\"marker\": {\"colorbar\": {\"outlinewidth\": 0, \"ticks\": \"\"}}, \"type\": \"scatterternary\"}], \"surface\": [{\"colorbar\": {\"outlinewidth\": 0, \"ticks\": \"\"}, \"colorscale\": [[0.0, \"#0d0887\"], [0.1111111111111111, \"#46039f\"], [0.2222222222222222, \"#7201a8\"], [0.3333333333333333, \"#9c179e\"], [0.4444444444444444, \"#bd3786\"], [0.5555555555555556, \"#d8576b\"], [0.6666666666666666, \"#ed7953\"], [0.7777777777777778, \"#fb9f3a\"], [0.8888888888888888, \"#fdca26\"], [1.0, \"#f0f921\"]], \"type\": \"surface\"}], \"table\": [{\"cells\": {\"fill\": {\"color\": \"#EBF0F8\"}, \"line\": {\"color\": \"white\"}}, \"header\": {\"fill\": {\"color\": \"#C8D4E3\"}, \"line\": {\"color\": \"white\"}}, \"type\": \"table\"}]}, \"layout\": {\"annotationdefaults\": {\"arrowcolor\": \"#2a3f5f\", \"arrowhead\": 0, \"arrowwidth\": 1}, \"coloraxis\": {\"colorbar\": {\"outlinewidth\": 0, \"ticks\": \"\"}}, \"colorscale\": {\"diverging\": [[0, \"#8e0152\"], [0.1, \"#c51b7d\"], [0.2, \"#de77ae\"], [0.3, \"#f1b6da\"], [0.4, \"#fde0ef\"], [0.5, \"#f7f7f7\"], [0.6, \"#e6f5d0\"], [0.7, \"#b8e186\"], [0.8, \"#7fbc41\"], [0.9, \"#4d9221\"], [1, \"#276419\"]], \"sequential\": [[0.0, \"#0d0887\"], [0.1111111111111111, \"#46039f\"], [0.2222222222222222, \"#7201a8\"], [0.3333333333333333, \"#9c179e\"], [0.4444444444444444, \"#bd3786\"], [0.5555555555555556, \"#d8576b\"], [0.6666666666666666, \"#ed7953\"], [0.7777777777777778, \"#fb9f3a\"], [0.8888888888888888, \"#fdca26\"], [1.0, \"#f0f921\"]], \"sequentialminus\": [[0.0, \"#0d0887\"], [0.1111111111111111, \"#46039f\"], [0.2222222222222222, \"#7201a8\"], [0.3333333333333333, \"#9c179e\"], [0.4444444444444444, \"#bd3786\"], [0.5555555555555556, \"#d8576b\"], [0.6666666666666666, \"#ed7953\"], [0.7777777777777778, \"#fb9f3a\"], [0.8888888888888888, \"#fdca26\"], [1.0, \"#f0f921\"]]}, \"colorway\": [\"#636efa\", \"#EF553B\", \"#00cc96\", \"#ab63fa\", \"#FFA15A\", \"#19d3f3\", \"#FF6692\", \"#B6E880\", \"#FF97FF\", \"#FECB52\"], \"font\": {\"color\": \"#2a3f5f\"}, \"geo\": {\"bgcolor\": \"white\", \"lakecolor\": \"white\", \"landcolor\": \"#E5ECF6\", \"showlakes\": true, \"showland\": true, \"subunitcolor\": \"white\"}, \"hoverlabel\": {\"align\": \"left\"}, \"hovermode\": \"closest\", \"mapbox\": {\"style\": \"light\"}, \"paper_bgcolor\": \"white\", \"plot_bgcolor\": \"#E5ECF6\", \"polar\": {\"angularaxis\": {\"gridcolor\": \"white\", \"linecolor\": \"white\", \"ticks\": \"\"}, \"bgcolor\": \"#E5ECF6\", \"radialaxis\": {\"gridcolor\": \"white\", \"linecolor\": \"white\", \"ticks\": \"\"}}, \"scene\": {\"xaxis\": {\"backgroundcolor\": \"#E5ECF6\", \"gridcolor\": \"white\", \"gridwidth\": 2, \"linecolor\": \"white\", \"showbackground\": true, \"ticks\": \"\", \"zerolinecolor\": \"white\"}, \"yaxis\": {\"backgroundcolor\": \"#E5ECF6\", \"gridcolor\": \"white\", \"gridwidth\": 2, \"linecolor\": \"white\", \"showbackground\": true, \"ticks\": \"\", \"zerolinecolor\": \"white\"}, \"zaxis\": {\"backgroundcolor\": \"#E5ECF6\", \"gridcolor\": \"white\", \"gridwidth\": 2, \"linecolor\": \"white\", \"showbackground\": true, \"ticks\": \"\", \"zerolinecolor\": \"white\"}}, \"shapedefaults\": {\"line\": {\"color\": \"#2a3f5f\"}}, \"ternary\": {\"aaxis\": {\"gridcolor\": \"white\", \"linecolor\": \"white\", \"ticks\": \"\"}, \"baxis\": {\"gridcolor\": \"white\", \"linecolor\": \"white\", \"ticks\": \"\"}, \"bgcolor\": \"#E5ECF6\", \"caxis\": {\"gridcolor\": \"white\", \"linecolor\": \"white\", \"ticks\": \"\"}}, \"title\": {\"x\": 0.05}, \"xaxis\": {\"automargin\": true, \"gridcolor\": \"white\", \"linecolor\": \"white\", \"ticks\": \"\", \"title\": {\"standoff\": 15}, \"zerolinecolor\": \"white\", \"zerolinewidth\": 2}, \"yaxis\": {\"automargin\": true, \"gridcolor\": \"white\", \"linecolor\": \"white\", \"ticks\": \"\", \"title\": {\"standoff\": 15}, \"zerolinecolor\": \"white\", \"zerolinewidth\": 2}}}, \"xaxis\": {\"anchor\": \"y\", \"domain\": [0.0, 1.0], \"title\": {\"text\": \"Scaled Heart Disease-Related Deaths\"}}, \"yaxis\": {\"anchor\": \"x\", \"domain\": [0.0, 1.0], \"title\": {\"text\": \"Percentage of Heart Disease Deaths\"}}},\n",
       "                        {\"responsive\": true}\n",
       "                    ).then(function(){\n",
       "                            \n",
       "var gd = document.getElementById('1c428c06-e80e-4169-b377-73411ed1dc83');\n",
       "var x = new MutationObserver(function (mutations, observer) {{\n",
       "        var display = window.getComputedStyle(gd).display;\n",
       "        if (!display || display === 'none') {{\n",
       "            console.log([gd, 'removed!']);\n",
       "            Plotly.purge(gd);\n",
       "            observer.disconnect();\n",
       "        }}\n",
       "}});\n",
       "\n",
       "// Listen for the removal of the full notebook cells\n",
       "var notebookContainer = gd.closest('#notebook-container');\n",
       "if (notebookContainer) {{\n",
       "    x.observe(notebookContainer, {childList: true});\n",
       "}}\n",
       "\n",
       "// Listen for the clearing of the current output cell\n",
       "var outputEl = gd.closest('.output');\n",
       "if (outputEl) {{\n",
       "    x.observe(outputEl, {childList: true});\n",
       "}}\n",
       "\n",
       "                        })\n",
       "                };\n",
       "                });\n",
       "            </script>\n",
       "        </div>"
      ]
     },
     "metadata": {},
     "output_type": "display_data"
    }
   ],
   "source": [
    "import plotly.express as px\n",
    "\n",
    "\n",
    "fig = px.scatter(test_ny[test_ny['scaled_heart_disease_deaths'] < 300], x='scaled_heart_disease_deaths', y='normalized_heart_disease',\n",
    "                 color='county', size='population', hover_name='City_Name', size_max=30,\n",
    "                 labels={\n",
    "                     'scaled_heart_disease_deaths': 'Scaled Heart Disease-Related Deaths',\n",
    "                     'normalized_heart_disease': 'Percentage of Heart Disease Deaths'})\n",
    "fig.show()"
   ]
  },
  {
   "cell_type": "code",
   "execution_count": 56,
   "metadata": {},
   "outputs": [],
   "source": [
    "mapbox_access_token = 'pk.eyJ1IjoiamFtZXNqYmFyY2l6IiwiYSI6ImNrYjJqcmtkajAxMHQycnA0dWYxencyMzkifQ.ov1crGyD_wQi9lwJJspeeQ'"
   ]
  },
  {
   "cell_type": "code",
   "execution_count": 57,
   "metadata": {},
   "outputs": [],
   "source": [
    "px.set_mapbox_access_token(mapbox_access_token)"
   ]
  },
  {
   "cell_type": "code",
   "execution_count": 74,
   "metadata": {},
   "outputs": [],
   "source": [
    "fig = px.scatter_mapbox(test_ny, lat='Latitude', lon='Longitude', size='scaled_heart_disease_deaths')"
   ]
  },
  {
   "cell_type": "code",
   "execution_count": null,
   "metadata": {},
   "outputs": [],
   "source": [
    "lat = test_ny['Latitude']"
   ]
  },
  {
   "cell_type": "code",
   "execution_count": 84,
   "metadata": {},
   "outputs": [
    {
     "data": {
      "application/vnd.plotly.v1+json": {
       "config": {
        "plotlyServerURL": "https://plot.ly"
       },
       "data": [
        {
         "lat": [
          43.09,
          43.04,
          41.09,
          42.08,
          42.46,
          41.17,
          43.45,
          41.06,
          41.29,
          42.93,
          41.01,
          44.67,
          41.7,
          42.65,
          41.85,
          42.63,
          43.08,
          40.99,
          42.8,
          41.11,
          41.23,
          41.11,
          43.05,
          41.03,
          41.07,
          41.12,
          42.08,
          41.74,
          41.2,
          41.02,
          40.94,
          43.16,
          41.5,
          42.1,
          41.14,
          40.94,
          40.85,
          42.89,
          43.17,
          43.15,
          42.87,
          41.15,
          42.6,
          41.01,
          40.96,
          42.09,
          42.1,
          42.11,
          41.86,
          43.32,
          42.87,
          43.31,
          41.2,
          43.03,
          42.9,
          42.17,
          43.01,
          42.44,
          42.12,
          40.93,
          43.17,
          40.95,
          44.93,
          41.12,
          41.2,
          41.1,
          41.15,
          41.75,
          40.93,
          40.7
         ],
         "lon": [
          -79.02,
          -78.87,
          -73.92,
          -78.43,
          -75.06,
          -73.86,
          -76.51,
          -74.01,
          -73.92,
          -75.98,
          -73.67,
          -74.98,
          -73.92,
          -73.73,
          -74.08,
          -73.57,
          -73.78,
          -73.79,
          -73.93,
          -74.05,
          -73.99,
          -74.15,
          -76.14,
          -73.95,
          -73.86,
          -73.94,
          -76.03,
          -74.4,
          -73.99,
          -73.76,
          -73.86,
          -76.33,
          -73.97,
          -75.91,
          -73.84,
          -73.83,
          -73.87,
          -77.28,
          -76.1,
          -76.19,
          -73.81,
          -73.94,
          -76.18,
          -73.87,
          -73.81,
          -76.81,
          -76.05,
          -76.03,
          -73.99,
          -76.41,
          -76.99,
          -76.15,
          -73.97,
          -74.99,
          -73.35,
          -76.83,
          -75.04,
          -76.5,
          -75.96,
          -73.75,
          -78.69,
          -73.73,
          -74.89,
          -74.07,
          -73.73,
          -74.02,
          -73.99,
          -74.08,
          -73.78,
          -73.92
         ],
         "marker": {
          "size": 9
         },
         "mode": "markers",
         "text": [
          [
           "Niagara Falls",
           104.23746
          ],
          [
           "North Tonawanda",
           65.551725
          ],
          [
           "Nyack",
           10.060160000000002
          ],
          [
           "Olean",
           31.027993
          ],
          [
           "Oneonta",
           24.726263000000007
          ],
          [
           "Ossining",
           37.266201
          ],
          [
           "Oswego",
           34.598165
          ],
          [
           "Pearl River",
           22.686804
          ],
          [
           "Peekskill",
           35.607023999999996
          ],
          [
           "Pompey",
           10.88904
          ],
          [
           "Port Chester",
           43.586037
          ],
          [
           "Potsdam",
           18.45564
          ],
          [
           "Poughkeepsie",
           54.860288
          ],
          [
           "Rensselaer",
           16.434336
          ],
          [
           "Rosendale",
           9.981225
          ],
          [
           "Sand Lake",
           15.132220000000002
          ],
          [
           "Saratoga Springs",
           42.0405
          ],
          [
           "Scarsdale",
           26.521893
          ],
          [
           "Schenectady",
           121.275
          ],
          [
           "Spring Valley",
           46.762596
          ],
          [
           "Stony Point",
           17.358063
          ],
          [
           "Suffern",
           15.711855000000002
          ],
          [
           "Syracuse",
           220.543048
          ],
          [
           "Tappan",
           9.449977
          ],
          [
           "Tarrytown",
           16.976124
          ],
          [
           "Valley Cottage",
           13.013902999999999
          ],
          [
           "Vestal",
           48.205917
          ],
          [
           "Wawarsing",
           21.616951
          ],
          [
           "West Haverstraw",
           14.844452000000002
          ],
          [
           "White Plains",
           86.621949
          ],
          [
           "Yonkers",
           296.361873
          ],
          [
           "Baldwinsville",
           12.12713
          ],
          [
           "Beacon",
           25.605888
          ],
          [
           "Binghamton",
           77.662701
          ],
          [
           "Briarcliff Manor",
           11.766807
          ],
          [
           "Bronxville",
           9.604449
          ],
          [
           "Bronx",
           2676.4065140000002
          ],
          [
           "Canandaigua",
           14.466334
          ],
          [
           "Cicero",
           48.650016
          ],
          [
           "Clay",
           89.52082800000002
          ],
          [
           "Clifton Park",
           55.05750000000001
          ],
          [
           "Congers",
           11.950727
          ],
          [
           "Cortland",
           29.561538
          ],
          [
           "Dobbs Ferry",
           16.352649
          ],
          [
           "Eastchester",
           28.685717999999998
          ],
          [
           "Elmira",
           57.240153
          ],
          [
           "Endicott",
           22.051332
          ],
          [
           "Endwell",
           19.675674
          ],
          [
           "Esopus",
           14.854363
          ],
          [
           "Fulton",
           22.432844000000006
          ],
          [
           "Geneva",
           18.117716
          ],
          [
           "Hastings",
           18.72045
          ],
          [
           "Haverstraw",
           17.456664000000004
          ],
          [
           "Herkimer",
           12.8412
          ],
          [
           "Hoosick",
           12.283176
          ],
          [
           "Horseheads",
           13.314060000000001
          ],
          [
           "Ilion",
           13.5546
          ],
          [
           "Ithaca",
           43.470412
          ],
          [
           "Johnson City",
           24.939252
          ],
          [
           "Larchmont",
           9.032319000000001
          ],
          [
           "Lockport",
           44.24391900000001
          ],
          [
           "Mamaroneck",
           28.493540999999997
          ],
          [
           "Massena",
           19.75104
          ],
          [
           "Monsey",
           26.310748000000004
          ],
          [
           "Mount Kisco",
           16.134066
          ],
          [
           "Nanuet",
           25.553378
          ],
          [
           "New City",
           47.955811
          ],
          [
           "New Paltz",
           11.551933000000002
          ],
          [
           "New Rochelle",
           117.280782
          ],
          [
           "New York",
           11821.718958
          ]
         ],
         "type": "scattermapbox"
        }
       ],
       "layout": {
        "autosize": true,
        "hovermode": "closest",
        "mapbox": {
         "accesstoken": "pk.eyJ1IjoiamFtZXNqYmFyY2l6IiwiYSI6ImNrYjJqcmtkajAxMHQycnA0dWYxencyMzkifQ.ov1crGyD_wQi9lwJJspeeQ",
         "bearing": 0,
         "center": {
          "lat": 46.27614608669376,
          "lon": 103.52223260235496
         },
         "pitch": 0,
         "zoom": 1.0497510620752795
        },
        "template": {
         "data": {
          "bar": [
           {
            "error_x": {
             "color": "#2a3f5f"
            },
            "error_y": {
             "color": "#2a3f5f"
            },
            "marker": {
             "line": {
              "color": "#E5ECF6",
              "width": 0.5
             }
            },
            "type": "bar"
           }
          ],
          "barpolar": [
           {
            "marker": {
             "line": {
              "color": "#E5ECF6",
              "width": 0.5
             }
            },
            "type": "barpolar"
           }
          ],
          "carpet": [
           {
            "aaxis": {
             "endlinecolor": "#2a3f5f",
             "gridcolor": "white",
             "linecolor": "white",
             "minorgridcolor": "white",
             "startlinecolor": "#2a3f5f"
            },
            "baxis": {
             "endlinecolor": "#2a3f5f",
             "gridcolor": "white",
             "linecolor": "white",
             "minorgridcolor": "white",
             "startlinecolor": "#2a3f5f"
            },
            "type": "carpet"
           }
          ],
          "choropleth": [
           {
            "colorbar": {
             "outlinewidth": 0,
             "ticks": ""
            },
            "type": "choropleth"
           }
          ],
          "contour": [
           {
            "colorbar": {
             "outlinewidth": 0,
             "ticks": ""
            },
            "colorscale": [
             [
              0,
              "#0d0887"
             ],
             [
              0.1111111111111111,
              "#46039f"
             ],
             [
              0.2222222222222222,
              "#7201a8"
             ],
             [
              0.3333333333333333,
              "#9c179e"
             ],
             [
              0.4444444444444444,
              "#bd3786"
             ],
             [
              0.5555555555555556,
              "#d8576b"
             ],
             [
              0.6666666666666666,
              "#ed7953"
             ],
             [
              0.7777777777777778,
              "#fb9f3a"
             ],
             [
              0.8888888888888888,
              "#fdca26"
             ],
             [
              1,
              "#f0f921"
             ]
            ],
            "type": "contour"
           }
          ],
          "contourcarpet": [
           {
            "colorbar": {
             "outlinewidth": 0,
             "ticks": ""
            },
            "type": "contourcarpet"
           }
          ],
          "heatmap": [
           {
            "colorbar": {
             "outlinewidth": 0,
             "ticks": ""
            },
            "colorscale": [
             [
              0,
              "#0d0887"
             ],
             [
              0.1111111111111111,
              "#46039f"
             ],
             [
              0.2222222222222222,
              "#7201a8"
             ],
             [
              0.3333333333333333,
              "#9c179e"
             ],
             [
              0.4444444444444444,
              "#bd3786"
             ],
             [
              0.5555555555555556,
              "#d8576b"
             ],
             [
              0.6666666666666666,
              "#ed7953"
             ],
             [
              0.7777777777777778,
              "#fb9f3a"
             ],
             [
              0.8888888888888888,
              "#fdca26"
             ],
             [
              1,
              "#f0f921"
             ]
            ],
            "type": "heatmap"
           }
          ],
          "heatmapgl": [
           {
            "colorbar": {
             "outlinewidth": 0,
             "ticks": ""
            },
            "colorscale": [
             [
              0,
              "#0d0887"
             ],
             [
              0.1111111111111111,
              "#46039f"
             ],
             [
              0.2222222222222222,
              "#7201a8"
             ],
             [
              0.3333333333333333,
              "#9c179e"
             ],
             [
              0.4444444444444444,
              "#bd3786"
             ],
             [
              0.5555555555555556,
              "#d8576b"
             ],
             [
              0.6666666666666666,
              "#ed7953"
             ],
             [
              0.7777777777777778,
              "#fb9f3a"
             ],
             [
              0.8888888888888888,
              "#fdca26"
             ],
             [
              1,
              "#f0f921"
             ]
            ],
            "type": "heatmapgl"
           }
          ],
          "histogram": [
           {
            "marker": {
             "colorbar": {
              "outlinewidth": 0,
              "ticks": ""
             }
            },
            "type": "histogram"
           }
          ],
          "histogram2d": [
           {
            "colorbar": {
             "outlinewidth": 0,
             "ticks": ""
            },
            "colorscale": [
             [
              0,
              "#0d0887"
             ],
             [
              0.1111111111111111,
              "#46039f"
             ],
             [
              0.2222222222222222,
              "#7201a8"
             ],
             [
              0.3333333333333333,
              "#9c179e"
             ],
             [
              0.4444444444444444,
              "#bd3786"
             ],
             [
              0.5555555555555556,
              "#d8576b"
             ],
             [
              0.6666666666666666,
              "#ed7953"
             ],
             [
              0.7777777777777778,
              "#fb9f3a"
             ],
             [
              0.8888888888888888,
              "#fdca26"
             ],
             [
              1,
              "#f0f921"
             ]
            ],
            "type": "histogram2d"
           }
          ],
          "histogram2dcontour": [
           {
            "colorbar": {
             "outlinewidth": 0,
             "ticks": ""
            },
            "colorscale": [
             [
              0,
              "#0d0887"
             ],
             [
              0.1111111111111111,
              "#46039f"
             ],
             [
              0.2222222222222222,
              "#7201a8"
             ],
             [
              0.3333333333333333,
              "#9c179e"
             ],
             [
              0.4444444444444444,
              "#bd3786"
             ],
             [
              0.5555555555555556,
              "#d8576b"
             ],
             [
              0.6666666666666666,
              "#ed7953"
             ],
             [
              0.7777777777777778,
              "#fb9f3a"
             ],
             [
              0.8888888888888888,
              "#fdca26"
             ],
             [
              1,
              "#f0f921"
             ]
            ],
            "type": "histogram2dcontour"
           }
          ],
          "mesh3d": [
           {
            "colorbar": {
             "outlinewidth": 0,
             "ticks": ""
            },
            "type": "mesh3d"
           }
          ],
          "parcoords": [
           {
            "line": {
             "colorbar": {
              "outlinewidth": 0,
              "ticks": ""
             }
            },
            "type": "parcoords"
           }
          ],
          "pie": [
           {
            "automargin": true,
            "type": "pie"
           }
          ],
          "scatter": [
           {
            "marker": {
             "colorbar": {
              "outlinewidth": 0,
              "ticks": ""
             }
            },
            "type": "scatter"
           }
          ],
          "scatter3d": [
           {
            "line": {
             "colorbar": {
              "outlinewidth": 0,
              "ticks": ""
             }
            },
            "marker": {
             "colorbar": {
              "outlinewidth": 0,
              "ticks": ""
             }
            },
            "type": "scatter3d"
           }
          ],
          "scattercarpet": [
           {
            "marker": {
             "colorbar": {
              "outlinewidth": 0,
              "ticks": ""
             }
            },
            "type": "scattercarpet"
           }
          ],
          "scattergeo": [
           {
            "marker": {
             "colorbar": {
              "outlinewidth": 0,
              "ticks": ""
             }
            },
            "type": "scattergeo"
           }
          ],
          "scattergl": [
           {
            "marker": {
             "colorbar": {
              "outlinewidth": 0,
              "ticks": ""
             }
            },
            "type": "scattergl"
           }
          ],
          "scattermapbox": [
           {
            "marker": {
             "colorbar": {
              "outlinewidth": 0,
              "ticks": ""
             }
            },
            "type": "scattermapbox"
           }
          ],
          "scatterpolar": [
           {
            "marker": {
             "colorbar": {
              "outlinewidth": 0,
              "ticks": ""
             }
            },
            "type": "scatterpolar"
           }
          ],
          "scatterpolargl": [
           {
            "marker": {
             "colorbar": {
              "outlinewidth": 0,
              "ticks": ""
             }
            },
            "type": "scatterpolargl"
           }
          ],
          "scatterternary": [
           {
            "marker": {
             "colorbar": {
              "outlinewidth": 0,
              "ticks": ""
             }
            },
            "type": "scatterternary"
           }
          ],
          "surface": [
           {
            "colorbar": {
             "outlinewidth": 0,
             "ticks": ""
            },
            "colorscale": [
             [
              0,
              "#0d0887"
             ],
             [
              0.1111111111111111,
              "#46039f"
             ],
             [
              0.2222222222222222,
              "#7201a8"
             ],
             [
              0.3333333333333333,
              "#9c179e"
             ],
             [
              0.4444444444444444,
              "#bd3786"
             ],
             [
              0.5555555555555556,
              "#d8576b"
             ],
             [
              0.6666666666666666,
              "#ed7953"
             ],
             [
              0.7777777777777778,
              "#fb9f3a"
             ],
             [
              0.8888888888888888,
              "#fdca26"
             ],
             [
              1,
              "#f0f921"
             ]
            ],
            "type": "surface"
           }
          ],
          "table": [
           {
            "cells": {
             "fill": {
              "color": "#EBF0F8"
             },
             "line": {
              "color": "white"
             }
            },
            "header": {
             "fill": {
              "color": "#C8D4E3"
             },
             "line": {
              "color": "white"
             }
            },
            "type": "table"
           }
          ]
         },
         "layout": {
          "annotationdefaults": {
           "arrowcolor": "#2a3f5f",
           "arrowhead": 0,
           "arrowwidth": 1
          },
          "coloraxis": {
           "colorbar": {
            "outlinewidth": 0,
            "ticks": ""
           }
          },
          "colorscale": {
           "diverging": [
            [
             0,
             "#8e0152"
            ],
            [
             0.1,
             "#c51b7d"
            ],
            [
             0.2,
             "#de77ae"
            ],
            [
             0.3,
             "#f1b6da"
            ],
            [
             0.4,
             "#fde0ef"
            ],
            [
             0.5,
             "#f7f7f7"
            ],
            [
             0.6,
             "#e6f5d0"
            ],
            [
             0.7,
             "#b8e186"
            ],
            [
             0.8,
             "#7fbc41"
            ],
            [
             0.9,
             "#4d9221"
            ],
            [
             1,
             "#276419"
            ]
           ],
           "sequential": [
            [
             0,
             "#0d0887"
            ],
            [
             0.1111111111111111,
             "#46039f"
            ],
            [
             0.2222222222222222,
             "#7201a8"
            ],
            [
             0.3333333333333333,
             "#9c179e"
            ],
            [
             0.4444444444444444,
             "#bd3786"
            ],
            [
             0.5555555555555556,
             "#d8576b"
            ],
            [
             0.6666666666666666,
             "#ed7953"
            ],
            [
             0.7777777777777778,
             "#fb9f3a"
            ],
            [
             0.8888888888888888,
             "#fdca26"
            ],
            [
             1,
             "#f0f921"
            ]
           ],
           "sequentialminus": [
            [
             0,
             "#0d0887"
            ],
            [
             0.1111111111111111,
             "#46039f"
            ],
            [
             0.2222222222222222,
             "#7201a8"
            ],
            [
             0.3333333333333333,
             "#9c179e"
            ],
            [
             0.4444444444444444,
             "#bd3786"
            ],
            [
             0.5555555555555556,
             "#d8576b"
            ],
            [
             0.6666666666666666,
             "#ed7953"
            ],
            [
             0.7777777777777778,
             "#fb9f3a"
            ],
            [
             0.8888888888888888,
             "#fdca26"
            ],
            [
             1,
             "#f0f921"
            ]
           ]
          },
          "colorway": [
           "#636efa",
           "#EF553B",
           "#00cc96",
           "#ab63fa",
           "#FFA15A",
           "#19d3f3",
           "#FF6692",
           "#B6E880",
           "#FF97FF",
           "#FECB52"
          ],
          "font": {
           "color": "#2a3f5f"
          },
          "geo": {
           "bgcolor": "white",
           "lakecolor": "white",
           "landcolor": "#E5ECF6",
           "showlakes": true,
           "showland": true,
           "subunitcolor": "white"
          },
          "hoverlabel": {
           "align": "left"
          },
          "hovermode": "closest",
          "mapbox": {
           "style": "light"
          },
          "paper_bgcolor": "white",
          "plot_bgcolor": "#E5ECF6",
          "polar": {
           "angularaxis": {
            "gridcolor": "white",
            "linecolor": "white",
            "ticks": ""
           },
           "bgcolor": "#E5ECF6",
           "radialaxis": {
            "gridcolor": "white",
            "linecolor": "white",
            "ticks": ""
           }
          },
          "scene": {
           "xaxis": {
            "backgroundcolor": "#E5ECF6",
            "gridcolor": "white",
            "gridwidth": 2,
            "linecolor": "white",
            "showbackground": true,
            "ticks": "",
            "zerolinecolor": "white"
           },
           "yaxis": {
            "backgroundcolor": "#E5ECF6",
            "gridcolor": "white",
            "gridwidth": 2,
            "linecolor": "white",
            "showbackground": true,
            "ticks": "",
            "zerolinecolor": "white"
           },
           "zaxis": {
            "backgroundcolor": "#E5ECF6",
            "gridcolor": "white",
            "gridwidth": 2,
            "linecolor": "white",
            "showbackground": true,
            "ticks": "",
            "zerolinecolor": "white"
           }
          },
          "shapedefaults": {
           "line": {
            "color": "#2a3f5f"
           }
          },
          "ternary": {
           "aaxis": {
            "gridcolor": "white",
            "linecolor": "white",
            "ticks": ""
           },
           "baxis": {
            "gridcolor": "white",
            "linecolor": "white",
            "ticks": ""
           },
           "bgcolor": "#E5ECF6",
           "caxis": {
            "gridcolor": "white",
            "linecolor": "white",
            "ticks": ""
           }
          },
          "title": {
           "x": 0.05
          },
          "xaxis": {
           "automargin": true,
           "gridcolor": "white",
           "linecolor": "white",
           "ticks": "",
           "title": {
            "standoff": 15
           },
           "zerolinecolor": "white",
           "zerolinewidth": 2
          },
          "yaxis": {
           "automargin": true,
           "gridcolor": "white",
           "linecolor": "white",
           "ticks": "",
           "title": {
            "standoff": 15
           },
           "zerolinecolor": "white",
           "zerolinewidth": 2
          }
         }
        }
       }
      },
      "image/png": "[encoded data removed]",
      "text/html": [
       "<div>\n",
       "        \n",
       "        \n",
       "            <div id=\"5a23cc06-7e95-4bd3-acee-678432e760e4\" class=\"plotly-graph-div\" style=\"height:525px; width:100%;\"></div>\n",
       "            <script type=\"text/javascript\">\n",
       "                require([\"plotly\"], function(Plotly) {\n",
       "                    window.PLOTLYENV=window.PLOTLYENV || {};\n",
       "                    \n",
       "                if (document.getElementById(\"5a23cc06-7e95-4bd3-acee-678432e760e4\")) {\n",
       "                    Plotly.newPlot(\n",
       "                        '5a23cc06-7e95-4bd3-acee-678432e760e4',\n",
       "                        [{\"lat\": [43.09, 43.04, 41.09, 42.08, 42.46, 41.17, 43.45, 41.06, 41.29, 42.93, 41.01, 44.67, 41.7, 42.65, 41.85, 42.63, 43.08, 40.99, 42.8, 41.11, 41.23, 41.11, 43.05, 41.03, 41.07, 41.12, 42.08, 41.74, 41.2, 41.02, 40.94, 43.16, 41.5, 42.1, 41.14, 40.94, 40.85, 42.89, 43.17, 43.15, 42.87, 41.15, 42.6, 41.01, 40.96, 42.09, 42.1, 42.11, 41.86, 43.32, 42.87, 43.31, 41.2, 43.03, 42.9, 42.17, 43.01, 42.44, 42.12, 40.93, 43.17, 40.95, 44.93, 41.12, 41.2, 41.1, 41.15, 41.75, 40.93, 40.7], \"lon\": [-79.02, -78.87, -73.92, -78.43, -75.06, -73.86, -76.51, -74.01, -73.92, -75.98, -73.67, -74.98, -73.92, -73.73, -74.08, -73.57, -73.78, -73.79, -73.93, -74.05, -73.99, -74.15, -76.14, -73.95, -73.86, -73.94, -76.03, -74.4, -73.99, -73.76, -73.86, -76.33, -73.97, -75.91, -73.84, -73.83, -73.87, -77.28, -76.1, -76.19, -73.81, -73.94, -76.18, -73.87, -73.81, -76.81, -76.05, -76.03, -73.99, -76.41, -76.99, -76.15, -73.97, -74.99, -73.35, -76.83, -75.04, -76.5, -75.96, -73.75, -78.69, -73.73, -74.89, -74.07, -73.73, -74.02, -73.99, -74.08, -73.78, -73.92], \"marker\": {\"size\": 9}, \"mode\": \"markers\", \"text\": [[\"Niagara Falls\", 104.23746], [\"North Tonawanda\", 65.551725], [\"Nyack\", 10.060160000000002], [\"Olean\", 31.027993], [\"Oneonta\", 24.726263000000007], [\"Ossining\", 37.266201], [\"Oswego\", 34.598165], [\"Pearl River\", 22.686804], [\"Peekskill\", 35.607023999999996], [\"Pompey\", 10.88904], [\"Port Chester\", 43.586037], [\"Potsdam\", 18.45564], [\"Poughkeepsie\", 54.860288], [\"Rensselaer\", 16.434336], [\"Rosendale\", 9.981225], [\"Sand Lake\", 15.132220000000002], [\"Saratoga Springs\", 42.0405], [\"Scarsdale\", 26.521893], [\"Schenectady\", 121.275], [\"Spring Valley\", 46.762596], [\"Stony Point\", 17.358063], [\"Suffern\", 15.711855000000002], [\"Syracuse\", 220.543048], [\"Tappan\", 9.449977], [\"Tarrytown\", 16.976124], [\"Valley Cottage\", 13.013902999999999], [\"Vestal\", 48.205917], [\"Wawarsing\", 21.616951], [\"West Haverstraw\", 14.844452000000002], [\"White Plains\", 86.621949], [\"Yonkers\", 296.361873], [\"Baldwinsville\", 12.12713], [\"Beacon\", 25.605888], [\"Binghamton\", 77.662701], [\"Briarcliff Manor\", 11.766807], [\"Bronxville\", 9.604449], [\"Bronx\", 2676.4065140000002], [\"Canandaigua\", 14.466334], [\"Cicero\", 48.650016], [\"Clay\", 89.52082800000002], [\"Clifton Park\", 55.05750000000001], [\"Congers\", 11.950727], [\"Cortland\", 29.561538], [\"Dobbs Ferry\", 16.352649], [\"Eastchester\", 28.685717999999998], [\"Elmira\", 57.240153], [\"Endicott\", 22.051332], [\"Endwell\", 19.675674], [\"Esopus\", 14.854363], [\"Fulton\", 22.432844000000006], [\"Geneva\", 18.117716], [\"Hastings\", 18.72045], [\"Haverstraw\", 17.456664000000004], [\"Herkimer\", 12.8412], [\"Hoosick\", 12.283176], [\"Horseheads\", 13.314060000000001], [\"Ilion\", 13.5546], [\"Ithaca\", 43.470412], [\"Johnson City\", 24.939252], [\"Larchmont\", 9.032319000000001], [\"Lockport\", 44.24391900000001], [\"Mamaroneck\", 28.493540999999997], [\"Massena\", 19.75104], [\"Monsey\", 26.310748000000004], [\"Mount Kisco\", 16.134066], [\"Nanuet\", 25.553378], [\"New City\", 47.955811], [\"New Paltz\", 11.551933000000002], [\"New Rochelle\", 117.280782], [\"New York\", 11821.718958]], \"type\": \"scattermapbox\"}],\n",
       "                        {\"autosize\": true, \"hovermode\": \"closest\", \"mapbox\": {\"accesstoken\": \"pk.eyJ1IjoiamFtZXNqYmFyY2l6IiwiYSI6ImNrYjJqcmtkajAxMHQycnA0dWYxencyMzkifQ.ov1crGyD_wQi9lwJJspeeQ\", \"bearing\": 0, \"center\": {\"lat\": 42.740005, \"lon\": -75.57423}, \"pitch\": 0, \"zoom\": 10}, \"template\": {\"data\": {\"bar\": [{\"error_x\": {\"color\": \"#2a3f5f\"}, \"error_y\": {\"color\": \"#2a3f5f\"}, \"marker\": {\"line\": {\"color\": \"#E5ECF6\", \"width\": 0.5}}, \"type\": \"bar\"}], \"barpolar\": [{\"marker\": {\"line\": {\"color\": \"#E5ECF6\", \"width\": 0.5}}, \"type\": \"barpolar\"}], \"carpet\": [{\"aaxis\": {\"endlinecolor\": \"#2a3f5f\", \"gridcolor\": \"white\", \"linecolor\": \"white\", \"minorgridcolor\": \"white\", \"startlinecolor\": \"#2a3f5f\"}, \"baxis\": {\"endlinecolor\": \"#2a3f5f\", \"gridcolor\": \"white\", \"linecolor\": \"white\", \"minorgridcolor\": \"white\", \"startlinecolor\": \"#2a3f5f\"}, \"type\": \"carpet\"}], \"choropleth\": [{\"colorbar\": {\"outlinewidth\": 0, \"ticks\": \"\"}, \"type\": \"choropleth\"}], \"contour\": [{\"colorbar\": {\"outlinewidth\": 0, \"ticks\": \"\"}, \"colorscale\": [[0.0, \"#0d0887\"], [0.1111111111111111, \"#46039f\"], [0.2222222222222222, \"#7201a8\"], [0.3333333333333333, \"#9c179e\"], [0.4444444444444444, \"#bd3786\"], [0.5555555555555556, \"#d8576b\"], [0.6666666666666666, \"#ed7953\"], [0.7777777777777778, \"#fb9f3a\"], [0.8888888888888888, \"#fdca26\"], [1.0, \"#f0f921\"]], \"type\": \"contour\"}], \"contourcarpet\": [{\"colorbar\": {\"outlinewidth\": 0, \"ticks\": \"\"}, \"type\": \"contourcarpet\"}], \"heatmap\": [{\"colorbar\": {\"outlinewidth\": 0, \"ticks\": \"\"}, \"colorscale\": [[0.0, \"#0d0887\"], [0.1111111111111111, \"#46039f\"], [0.2222222222222222, \"#7201a8\"], [0.3333333333333333, \"#9c179e\"], [0.4444444444444444, \"#bd3786\"], [0.5555555555555556, \"#d8576b\"], [0.6666666666666666, \"#ed7953\"], [0.7777777777777778, \"#fb9f3a\"], [0.8888888888888888, \"#fdca26\"], [1.0, \"#f0f921\"]], \"type\": \"heatmap\"}], \"heatmapgl\": [{\"colorbar\": {\"outlinewidth\": 0, \"ticks\": \"\"}, \"colorscale\": [[0.0, \"#0d0887\"], [0.1111111111111111, \"#46039f\"], [0.2222222222222222, \"#7201a8\"], [0.3333333333333333, \"#9c179e\"], [0.4444444444444444, \"#bd3786\"], [0.5555555555555556, \"#d8576b\"], [0.6666666666666666, \"#ed7953\"], [0.7777777777777778, \"#fb9f3a\"], [0.8888888888888888, \"#fdca26\"], [1.0, \"#f0f921\"]], \"type\": \"heatmapgl\"}], \"histogram\": [{\"marker\": {\"colorbar\": {\"outlinewidth\": 0, \"ticks\": \"\"}}, \"type\": \"histogram\"}], \"histogram2d\": [{\"colorbar\": {\"outlinewidth\": 0, \"ticks\": \"\"}, \"colorscale\": [[0.0, \"#0d0887\"], [0.1111111111111111, \"#46039f\"], [0.2222222222222222, \"#7201a8\"], [0.3333333333333333, \"#9c179e\"], [0.4444444444444444, \"#bd3786\"], [0.5555555555555556, \"#d8576b\"], [0.6666666666666666, \"#ed7953\"], [0.7777777777777778, \"#fb9f3a\"], [0.8888888888888888, \"#fdca26\"], [1.0, \"#f0f921\"]], \"type\": \"histogram2d\"}], \"histogram2dcontour\": [{\"colorbar\": {\"outlinewidth\": 0, \"ticks\": \"\"}, \"colorscale\": [[0.0, \"#0d0887\"], [0.1111111111111111, \"#46039f\"], [0.2222222222222222, \"#7201a8\"], [0.3333333333333333, \"#9c179e\"], [0.4444444444444444, \"#bd3786\"], [0.5555555555555556, \"#d8576b\"], [0.6666666666666666, \"#ed7953\"], [0.7777777777777778, \"#fb9f3a\"], [0.8888888888888888, \"#fdca26\"], [1.0, \"#f0f921\"]], \"type\": \"histogram2dcontour\"}], \"mesh3d\": [{\"colorbar\": {\"outlinewidth\": 0, \"ticks\": \"\"}, \"type\": \"mesh3d\"}], \"parcoords\": [{\"line\": {\"colorbar\": {\"outlinewidth\": 0, \"ticks\": \"\"}}, \"type\": \"parcoords\"}], \"pie\": [{\"automargin\": true, \"type\": \"pie\"}], \"scatter\": [{\"marker\": {\"colorbar\": {\"outlinewidth\": 0, \"ticks\": \"\"}}, \"type\": \"scatter\"}], \"scatter3d\": [{\"line\": {\"colorbar\": {\"outlinewidth\": 0, \"ticks\": \"\"}}, \"marker\": {\"colorbar\": {\"outlinewidth\": 0, \"ticks\": \"\"}}, \"type\": \"scatter3d\"}], \"scattercarpet\": [{\"marker\": {\"colorbar\": {\"outlinewidth\": 0, \"ticks\": \"\"}}, \"type\": \"scattercarpet\"}], \"scattergeo\": [{\"marker\": {\"colorbar\": {\"outlinewidth\": 0, \"ticks\": \"\"}}, \"type\": \"scattergeo\"}], \"scattergl\": [{\"marker\": {\"colorbar\": {\"outlinewidth\": 0, \"ticks\": \"\"}}, \"type\": \"scattergl\"}], \"scattermapbox\": [{\"marker\": {\"colorbar\": {\"outlinewidth\": 0, \"ticks\": \"\"}}, \"type\": \"scattermapbox\"}], \"scatterpolar\": [{\"marker\": {\"colorbar\": {\"outlinewidth\": 0, \"ticks\": \"\"}}, \"type\": \"scatterpolar\"}], \"scatterpolargl\": [{\"marker\": {\"colorbar\": {\"outlinewidth\": 0, \"ticks\": \"\"}}, \"type\": \"scatterpolargl\"}], \"scatterternary\": [{\"marker\": {\"colorbar\": {\"outlinewidth\": 0, \"ticks\": \"\"}}, \"type\": \"scatterternary\"}], \"surface\": [{\"colorbar\": {\"outlinewidth\": 0, \"ticks\": \"\"}, \"colorscale\": [[0.0, \"#0d0887\"], [0.1111111111111111, \"#46039f\"], [0.2222222222222222, \"#7201a8\"], [0.3333333333333333, \"#9c179e\"], [0.4444444444444444, \"#bd3786\"], [0.5555555555555556, \"#d8576b\"], [0.6666666666666666, \"#ed7953\"], [0.7777777777777778, \"#fb9f3a\"], [0.8888888888888888, \"#fdca26\"], [1.0, \"#f0f921\"]], \"type\": \"surface\"}], \"table\": [{\"cells\": {\"fill\": {\"color\": \"#EBF0F8\"}, \"line\": {\"color\": \"white\"}}, \"header\": {\"fill\": {\"color\": \"#C8D4E3\"}, \"line\": {\"color\": \"white\"}}, \"type\": \"table\"}]}, \"layout\": {\"annotationdefaults\": {\"arrowcolor\": \"#2a3f5f\", \"arrowhead\": 0, \"arrowwidth\": 1}, \"coloraxis\": {\"colorbar\": {\"outlinewidth\": 0, \"ticks\": \"\"}}, \"colorscale\": {\"diverging\": [[0, \"#8e0152\"], [0.1, \"#c51b7d\"], [0.2, \"#de77ae\"], [0.3, \"#f1b6da\"], [0.4, \"#fde0ef\"], [0.5, \"#f7f7f7\"], [0.6, \"#e6f5d0\"], [0.7, \"#b8e186\"], [0.8, \"#7fbc41\"], [0.9, \"#4d9221\"], [1, \"#276419\"]], \"sequential\": [[0.0, \"#0d0887\"], [0.1111111111111111, \"#46039f\"], [0.2222222222222222, \"#7201a8\"], [0.3333333333333333, \"#9c179e\"], [0.4444444444444444, \"#bd3786\"], [0.5555555555555556, \"#d8576b\"], [0.6666666666666666, \"#ed7953\"], [0.7777777777777778, \"#fb9f3a\"], [0.8888888888888888, \"#fdca26\"], [1.0, \"#f0f921\"]], \"sequentialminus\": [[0.0, \"#0d0887\"], [0.1111111111111111, \"#46039f\"], [0.2222222222222222, \"#7201a8\"], [0.3333333333333333, \"#9c179e\"], [0.4444444444444444, \"#bd3786\"], [0.5555555555555556, \"#d8576b\"], [0.6666666666666666, \"#ed7953\"], [0.7777777777777778, \"#fb9f3a\"], [0.8888888888888888, \"#fdca26\"], [1.0, \"#f0f921\"]]}, \"colorway\": [\"#636efa\", \"#EF553B\", \"#00cc96\", \"#ab63fa\", \"#FFA15A\", \"#19d3f3\", \"#FF6692\", \"#B6E880\", \"#FF97FF\", \"#FECB52\"], \"font\": {\"color\": \"#2a3f5f\"}, \"geo\": {\"bgcolor\": \"white\", \"lakecolor\": \"white\", \"landcolor\": \"#E5ECF6\", \"showlakes\": true, \"showland\": true, \"subunitcolor\": \"white\"}, \"hoverlabel\": {\"align\": \"left\"}, \"hovermode\": \"closest\", \"mapbox\": {\"style\": \"light\"}, \"paper_bgcolor\": \"white\", \"plot_bgcolor\": \"#E5ECF6\", \"polar\": {\"angularaxis\": {\"gridcolor\": \"white\", \"linecolor\": \"white\", \"ticks\": \"\"}, \"bgcolor\": \"#E5ECF6\", \"radialaxis\": {\"gridcolor\": \"white\", \"linecolor\": \"white\", \"ticks\": \"\"}}, \"scene\": {\"xaxis\": {\"backgroundcolor\": \"#E5ECF6\", \"gridcolor\": \"white\", \"gridwidth\": 2, \"linecolor\": \"white\", \"showbackground\": true, \"ticks\": \"\", \"zerolinecolor\": \"white\"}, \"yaxis\": {\"backgroundcolor\": \"#E5ECF6\", \"gridcolor\": \"white\", \"gridwidth\": 2, \"linecolor\": \"white\", \"showbackground\": true, \"ticks\": \"\", \"zerolinecolor\": \"white\"}, \"zaxis\": {\"backgroundcolor\": \"#E5ECF6\", \"gridcolor\": \"white\", \"gridwidth\": 2, \"linecolor\": \"white\", \"showbackground\": true, \"ticks\": \"\", \"zerolinecolor\": \"white\"}}, \"shapedefaults\": {\"line\": {\"color\": \"#2a3f5f\"}}, \"ternary\": {\"aaxis\": {\"gridcolor\": \"white\", \"linecolor\": \"white\", \"ticks\": \"\"}, \"baxis\": {\"gridcolor\": \"white\", \"linecolor\": \"white\", \"ticks\": \"\"}, \"bgcolor\": \"#E5ECF6\", \"caxis\": {\"gridcolor\": \"white\", \"linecolor\": \"white\", \"ticks\": \"\"}}, \"title\": {\"x\": 0.05}, \"xaxis\": {\"automargin\": true, \"gridcolor\": \"white\", \"linecolor\": \"white\", \"ticks\": \"\", \"title\": {\"standoff\": 15}, \"zerolinecolor\": \"white\", \"zerolinewidth\": 2}, \"yaxis\": {\"automargin\": true, \"gridcolor\": \"white\", \"linecolor\": \"white\", \"ticks\": \"\", \"title\": {\"standoff\": 15}, \"zerolinecolor\": \"white\", \"zerolinewidth\": 2}}}},\n",
       "                        {\"responsive\": true}\n",
       "                    ).then(function(){\n",
       "                            \n",
       "var gd = document.getElementById('5a23cc06-7e95-4bd3-acee-678432e760e4');\n",
       "var x = new MutationObserver(function (mutations, observer) {{\n",
       "        var display = window.getComputedStyle(gd).display;\n",
       "        if (!display || display === 'none') {{\n",
       "            console.log([gd, 'removed!']);\n",
       "            Plotly.purge(gd);\n",
       "            observer.disconnect();\n",
       "        }}\n",
       "}});\n",
       "\n",
       "// Listen for the removal of the full notebook cells\n",
       "var notebookContainer = gd.closest('#notebook-container');\n",
       "if (notebookContainer) {{\n",
       "    x.observe(notebookContainer, {childList: true});\n",
       "}}\n",
       "\n",
       "// Listen for the clearing of the current output cell\n",
       "var outputEl = gd.closest('.output');\n",
       "if (outputEl) {{\n",
       "    x.observe(outputEl, {childList: true});\n",
       "}}\n",
       "\n",
       "                        })\n",
       "                };\n",
       "                });\n",
       "            </script>\n",
       "        </div>"
      ]
     },
     "metadata": {},
     "output_type": "display_data"
    }
   ],
   "source": [
    "fig = go.Figure(go.Scattermapbox(lat=test_ny['Latitude'], lon=test_ny['Longitude'], mode='markers',\n",
    "                marker=go.scattermapbox.Marker(size=9), text=test_ny[['City_Name','scaled_heart_disease_deaths']]))\n",
    "fig.update_layout(\n",
    "    autosize=True,\n",
    "    hovermode='closest',\n",
    "    mapbox=dict(\n",
    "        accesstoken=mapbox_access_token,\n",
    "        bearing=0,\n",
    "        center=dict(\n",
    "            lat=42.740005,\n",
    "            lon=-75.574230\n",
    "        ),\n",
    "        pitch=0,\n",
    "        zoom=10\n",
    "    )\n",
    ")\n",
    "fig.update_layout(\n",
    "    autosize=True,\n",
    "    hovermode='closest',\n",
    "    mapbox=dict(\n",
    "        accesstoken=mapbox_access_token,\n",
    "        bearing=0,\n",
    "        center=dict(\n",
    "            lat=42.740005,\n",
    "            lon=-75.574230\n",
    "        ),\n",
    "        pitch=0,\n",
    "        zoom=10\n",
    "    )\n",
    ")\n",
    "fig.show()"
   ]
  },
  {
   "cell_type": "code",
   "execution_count": null,
   "metadata": {},
   "outputs": [],
   "source": []
  },
  {
   "cell_type": "code",
   "execution_count": null,
   "metadata": {},
   "outputs": [],
   "source": []
  },
  {
   "cell_type": "code",
   "execution_count": null,
   "metadata": {},
   "outputs": [],
   "source": []
  }
 ],
 "metadata": {
  "kernelspec": {
   "display_name": "juxta (Python3)",
   "language": "python",
   "name": "juxta"
  },
  "language_info": {
   "codemirror_mode": {
    "name": "ipython",
    "version": 3
   },
   "file_extension": ".py",
   "mimetype": "text/x-python",
   "name": "python",
   "nbconvert_exporter": "python",
   "pygments_lexer": "ipython3",
   "version": "3.7.0"
  }
 },
 "nbformat": 4,
 "nbformat_minor": 4
}
