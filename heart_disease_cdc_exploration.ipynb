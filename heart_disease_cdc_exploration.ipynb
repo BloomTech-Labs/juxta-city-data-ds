{
 "cells": [
  {
   "cell_type": "code",
   "execution_count": 1,
   "metadata": {},
   "outputs": [],
   "source": [
    "import pandas as pd\n",
    "import numpy as np\n",
    "import seaborn as sns"
   ]
  },
  {
   "cell_type": "code",
   "execution_count": 2,
   "metadata": {},
   "outputs": [],
   "source": [
    "# cnty_fips = Federal Information Processing Standard code for county"
   ]
  },
  {
   "cell_type": "code",
   "execution_count": 3,
   "metadata": {},
   "outputs": [
    {
     "name": "stdout",
     "output_type": "stream",
     "text": [
      "(3226, 4)\n",
      "   cnty_fips            display_name  Value          theme_range\n",
      "0       2013  \"Aleutians East, (AK)\"   -1.0                  NaN\n",
      "1       2016  \"Aleutians West, (AK)\"   -1.0                  NaN\n",
      "2       2020       \"Anchorage, (AK)\"  125.4   45.8 - 145.3 (616)\n",
      "3       2050          \"Bethel, (AK)\"  191.4  190.3 - 224.5 (614)\n",
      "4       2060     \"Bristol Bay, (AK)\"   -1.0                  NaN\n"
     ]
    }
   ],
   "source": [
    "df = pd.read_csv('./report.csv')\n",
    "print(df.shape)\n",
    "print(df.head())"
   ]
  },
  {
   "cell_type": "code",
   "execution_count": 4,
   "metadata": {},
   "outputs": [],
   "source": [
    "subset = df[['display_name', 'Value']]"
   ]
  },
  {
   "cell_type": "code",
   "execution_count": 5,
   "metadata": {},
   "outputs": [
    {
     "data": {
      "text/plain": [
       "'Aleutians East'"
      ]
     },
     "execution_count": 5,
     "metadata": {},
     "output_type": "execute_result"
    }
   ],
   "source": [
    "def rm_state(display_name):\n",
    "    return display_name.strip('\"')[:-6]\n",
    "\n",
    "rm_state(subset['display_name'][0])"
   ]
  },
  {
   "cell_type": "code",
   "execution_count": 6,
   "metadata": {},
   "outputs": [
    {
     "data": {
      "text/plain": [
       "'AK'"
      ]
     },
     "execution_count": 6,
     "metadata": {},
     "output_type": "execute_result"
    }
   ],
   "source": [
    "def rm_county(display_name):\n",
    "    return display_name.strip('\"')[-4:].strip('()')\n",
    "\n",
    "rm_county(subset['display_name'][0])"
   ]
  },
  {
   "cell_type": "code",
   "execution_count": 7,
   "metadata": {},
   "outputs": [
    {
     "name": "stderr",
     "output_type": "stream",
     "text": [
      "/home/jamesjbarciz/anaconda3/envs/Juxta/lib/python3.7/site-packages/ipykernel_launcher.py:1: SettingWithCopyWarning: \n",
      "A value is trying to be set on a copy of a slice from a DataFrame.\n",
      "Try using .loc[row_indexer,col_indexer] = value instead\n",
      "\n",
      "See the caveats in the documentation: https://pandas.pydata.org/pandas-docs/stable/user_guide/indexing.html#returning-a-view-versus-a-copy\n",
      "  \"\"\"Entry point for launching an IPython kernel.\n"
     ]
    }
   ],
   "source": [
    "subset['county'] = subset['display_name'].apply(rm_state)\n",
    "subset['state'] = subset['display_name'].apply(rm_county)"
   ]
  },
  {
   "cell_type": "code",
   "execution_count": 8,
   "metadata": {},
   "outputs": [
    {
     "data": {
      "text/html": [
       "<div>\n",
       "<style scoped>\n",
       "    .dataframe tbody tr th:only-of-type {\n",
       "        vertical-align: middle;\n",
       "    }\n",
       "\n",
       "    .dataframe tbody tr th {\n",
       "        vertical-align: top;\n",
       "    }\n",
       "\n",
       "    .dataframe thead th {\n",
       "        text-align: right;\n",
       "    }\n",
       "</style>\n",
       "<table border=\"1\" class=\"dataframe\">\n",
       "  <thead>\n",
       "    <tr style=\"text-align: right;\">\n",
       "      <th></th>\n",
       "      <th>display_name</th>\n",
       "      <th>Value</th>\n",
       "      <th>county</th>\n",
       "      <th>state</th>\n",
       "    </tr>\n",
       "  </thead>\n",
       "  <tbody>\n",
       "    <tr>\n",
       "      <th>0</th>\n",
       "      <td>\"Aleutians East, (AK)\"</td>\n",
       "      <td>-1.0</td>\n",
       "      <td>Aleutians East</td>\n",
       "      <td>AK</td>\n",
       "    </tr>\n",
       "    <tr>\n",
       "      <th>1</th>\n",
       "      <td>\"Aleutians West, (AK)\"</td>\n",
       "      <td>-1.0</td>\n",
       "      <td>Aleutians West</td>\n",
       "      <td>AK</td>\n",
       "    </tr>\n",
       "    <tr>\n",
       "      <th>2</th>\n",
       "      <td>\"Anchorage, (AK)\"</td>\n",
       "      <td>125.4</td>\n",
       "      <td>Anchorage</td>\n",
       "      <td>AK</td>\n",
       "    </tr>\n",
       "    <tr>\n",
       "      <th>3</th>\n",
       "      <td>\"Bethel, (AK)\"</td>\n",
       "      <td>191.4</td>\n",
       "      <td>Bethel</td>\n",
       "      <td>AK</td>\n",
       "    </tr>\n",
       "    <tr>\n",
       "      <th>4</th>\n",
       "      <td>\"Bristol Bay, (AK)\"</td>\n",
       "      <td>-1.0</td>\n",
       "      <td>Bristol Bay</td>\n",
       "      <td>AK</td>\n",
       "    </tr>\n",
       "  </tbody>\n",
       "</table>\n",
       "</div>"
      ],
      "text/plain": [
       "             display_name  Value          county state\n",
       "0  \"Aleutians East, (AK)\"   -1.0  Aleutians East    AK\n",
       "1  \"Aleutians West, (AK)\"   -1.0  Aleutians West    AK\n",
       "2       \"Anchorage, (AK)\"  125.4       Anchorage    AK\n",
       "3          \"Bethel, (AK)\"  191.4          Bethel    AK\n",
       "4     \"Bristol Bay, (AK)\"   -1.0     Bristol Bay    AK"
      ]
     },
     "execution_count": 8,
     "metadata": {},
     "output_type": "execute_result"
    }
   ],
   "source": [
    "subset.head()"
   ]
  },
  {
   "cell_type": "code",
   "execution_count": 9,
   "metadata": {},
   "outputs": [
    {
     "data": {
      "text/plain": [
       "count    3226.000000\n",
       "mean      177.082238\n",
       "std        63.318414\n",
       "min        -1.000000\n",
       "25%       146.825000\n",
       "50%       176.050000\n",
       "75%       210.700000\n",
       "max       515.400000\n",
       "Name: Value, dtype: float64"
      ]
     },
     "execution_count": 9,
     "metadata": {},
     "output_type": "execute_result"
    }
   ],
   "source": [
    "subset['Value'].describe()"
   ]
  },
  {
   "cell_type": "code",
   "execution_count": 10,
   "metadata": {},
   "outputs": [
    {
     "data": {
      "text/html": [
       "<div>\n",
       "<style scoped>\n",
       "    .dataframe tbody tr th:only-of-type {\n",
       "        vertical-align: middle;\n",
       "    }\n",
       "\n",
       "    .dataframe tbody tr th {\n",
       "        vertical-align: top;\n",
       "    }\n",
       "\n",
       "    .dataframe thead th {\n",
       "        text-align: right;\n",
       "    }\n",
       "</style>\n",
       "<table border=\"1\" class=\"dataframe\">\n",
       "  <thead>\n",
       "    <tr style=\"text-align: right;\">\n",
       "      <th></th>\n",
       "      <th>display_name</th>\n",
       "      <th>Value</th>\n",
       "      <th>county</th>\n",
       "      <th>state</th>\n",
       "    </tr>\n",
       "  </thead>\n",
       "  <tbody>\n",
       "    <tr>\n",
       "      <th>0</th>\n",
       "      <td>\"Aleutians East, (AK)\"</td>\n",
       "      <td>0.0</td>\n",
       "      <td>Aleutians East</td>\n",
       "      <td>AK</td>\n",
       "    </tr>\n",
       "    <tr>\n",
       "      <th>1</th>\n",
       "      <td>\"Aleutians West, (AK)\"</td>\n",
       "      <td>0.0</td>\n",
       "      <td>Aleutians West</td>\n",
       "      <td>AK</td>\n",
       "    </tr>\n",
       "    <tr>\n",
       "      <th>2</th>\n",
       "      <td>\"Anchorage, (AK)\"</td>\n",
       "      <td>125.4</td>\n",
       "      <td>Anchorage</td>\n",
       "      <td>AK</td>\n",
       "    </tr>\n",
       "    <tr>\n",
       "      <th>3</th>\n",
       "      <td>\"Bethel, (AK)\"</td>\n",
       "      <td>191.4</td>\n",
       "      <td>Bethel</td>\n",
       "      <td>AK</td>\n",
       "    </tr>\n",
       "    <tr>\n",
       "      <th>4</th>\n",
       "      <td>\"Bristol Bay, (AK)\"</td>\n",
       "      <td>0.0</td>\n",
       "      <td>Bristol Bay</td>\n",
       "      <td>AK</td>\n",
       "    </tr>\n",
       "  </tbody>\n",
       "</table>\n",
       "</div>"
      ],
      "text/plain": [
       "             display_name  Value          county state\n",
       "0  \"Aleutians East, (AK)\"    0.0  Aleutians East    AK\n",
       "1  \"Aleutians West, (AK)\"    0.0  Aleutians West    AK\n",
       "2       \"Anchorage, (AK)\"  125.4       Anchorage    AK\n",
       "3          \"Bethel, (AK)\"  191.4          Bethel    AK\n",
       "4     \"Bristol Bay, (AK)\"    0.0     Bristol Bay    AK"
      ]
     },
     "execution_count": 10,
     "metadata": {},
     "output_type": "execute_result"
    }
   ],
   "source": [
    "# We are going to replace -1 with 0 as it represents insufficient data\n",
    "subset['Value'] = subset['Value'].replace(-1, 0)\n",
    "subset.head()"
   ]
  },
  {
   "cell_type": "code",
   "execution_count": 11,
   "metadata": {},
   "outputs": [
    {
     "data": {
      "text/html": [
       "<div>\n",
       "<style scoped>\n",
       "    .dataframe tbody tr th:only-of-type {\n",
       "        vertical-align: middle;\n",
       "    }\n",
       "\n",
       "    .dataframe tbody tr th {\n",
       "        vertical-align: top;\n",
       "    }\n",
       "\n",
       "    .dataframe thead th {\n",
       "        text-align: right;\n",
       "    }\n",
       "</style>\n",
       "<table border=\"1\" class=\"dataframe\">\n",
       "  <thead>\n",
       "    <tr style=\"text-align: right;\">\n",
       "      <th></th>\n",
       "      <th>display_name</th>\n",
       "      <th>Value</th>\n",
       "      <th>county</th>\n",
       "      <th>state</th>\n",
       "    </tr>\n",
       "  </thead>\n",
       "  <tbody>\n",
       "    <tr>\n",
       "      <th>2783</th>\n",
       "      <td>\"District of Columbia, (DC)\"</td>\n",
       "      <td>195.7</td>\n",
       "      <td>District of Columbia</td>\n",
       "      <td>DC</td>\n",
       "    </tr>\n",
       "  </tbody>\n",
       "</table>\n",
       "</div>"
      ],
      "text/plain": [
       "                      display_name  Value                county state\n",
       "2783  \"District of Columbia, (DC)\"  195.7  District of Columbia    DC"
      ]
     },
     "execution_count": 11,
     "metadata": {},
     "output_type": "execute_result"
    }
   ],
   "source": [
    "subset[subset['county'].str.contains(\"Dis\")]"
   ]
  },
  {
   "cell_type": "code",
   "execution_count": 12,
   "metadata": {},
   "outputs": [],
   "source": [
    "final = subset[['Value', 'county', 'state']]\n",
    "# final.to_csv('heart_data.csv')"
   ]
  },
  {
   "cell_type": "code",
   "execution_count": 13,
   "metadata": {},
   "outputs": [],
   "source": [
    "import geonamescache"
   ]
  },
  {
   "cell_type": "code",
   "execution_count": 14,
   "metadata": {},
   "outputs": [
    {
     "data": {
      "text/plain": [
       "['GeonamesCache',\n",
       " '__author__',\n",
       " '__builtins__',\n",
       " '__cached__',\n",
       " '__doc__',\n",
       " '__file__',\n",
       " '__license__',\n",
       " '__loader__',\n",
       " '__name__',\n",
       " '__package__',\n",
       " '__path__',\n",
       " '__spec__',\n",
       " '__title__',\n",
       " '__version__',\n",
       " 'geonamesdata',\n",
       " 'json',\n",
       " 'os']"
      ]
     },
     "execution_count": 14,
     "metadata": {},
     "output_type": "execute_result"
    }
   ],
   "source": [
    "dir(geonamescache)"
   ]
  },
  {
   "cell_type": "code",
   "execution_count": 15,
   "metadata": {},
   "outputs": [
    {
     "name": "stdout",
     "output_type": "stream",
     "text": [
      "Help on package geonamescache:\n",
      "\n",
      "NAME\n",
      "    geonamescache\n",
      "\n",
      "DESCRIPTION\n",
      "    geonamescache\n",
      "    =============\n",
      "    \n",
      "    :copyright: (c) 2018 by Ramiro Gómez.\n",
      "    :license: ISC, see LICENSE for more details.\n",
      "\n",
      "PACKAGE CONTENTS\n",
      "    geonamesdata\n",
      "    mappers\n",
      "    mappings\n",
      "\n",
      "CLASSES\n",
      "    builtins.object\n",
      "        GeonamesCache\n",
      "    \n",
      "    class GeonamesCache(builtins.object)\n",
      "     |  Methods defined here:\n",
      "     |  \n",
      "     |  get_cities(self)\n",
      "     |      Get a dictionary of cities keyed by geonameid.\n",
      "     |  \n",
      "     |  get_cities_by_name(self, name)\n",
      "     |      Get a list of city dictionaries with the given name.\n",
      "     |      \n",
      "     |      City names cannot be used as keys, as they are not unique.\n",
      "     |  \n",
      "     |  get_continents(self)\n",
      "     |  \n",
      "     |  get_countries(self)\n",
      "     |  \n",
      "     |  get_countries_by_names(self)\n",
      "     |  \n",
      "     |  get_dataset_by_key(self, dataset, key)\n",
      "     |  \n",
      "     |  get_us_counties(self)\n",
      "     |  \n",
      "     |  get_us_states(self)\n",
      "     |  \n",
      "     |  get_us_states_by_names(self)\n",
      "     |  \n",
      "     |  ----------------------------------------------------------------------\n",
      "     |  Data descriptors defined here:\n",
      "     |  \n",
      "     |  __dict__\n",
      "     |      dictionary for instance variables (if defined)\n",
      "     |  \n",
      "     |  __weakref__\n",
      "     |      list of weak references to the object (if defined)\n",
      "     |  \n",
      "     |  ----------------------------------------------------------------------\n",
      "     |  Data and other attributes defined here:\n",
      "     |  \n",
      "     |  cities = None\n",
      "     |  \n",
      "     |  cities_by_names = {}\n",
      "     |  \n",
      "     |  cities_items = None\n",
      "     |  \n",
      "     |  continents = None\n",
      "     |  \n",
      "     |  countries = None\n",
      "     |  \n",
      "     |  datadir = '/home/jamesjbarciz/anaconda3/envs/Juxta/lib/python3.7/site-...\n",
      "     |  \n",
      "     |  us_counties = None\n",
      "     |  \n",
      "     |  us_states = {'AK': {'code': 'AK', 'fips': '02', 'geonameid': 5879092, ...\n",
      "\n",
      "DATA\n",
      "    __license__ = 'MIT'\n",
      "    __title__ = 'geonamescache'\n",
      "\n",
      "VERSION\n",
      "    1.1.0\n",
      "\n",
      "AUTHOR\n",
      "    Ramiro Gómez\n",
      "\n",
      "FILE\n",
      "    /home/jamesjbarciz/anaconda3/envs/Juxta/lib/python3.7/site-packages/geonamescache/__init__.py\n",
      "\n",
      "\n"
     ]
    }
   ],
   "source": [
    "help(geonamescache)"
   ]
  },
  {
   "cell_type": "code",
   "execution_count": 16,
   "metadata": {},
   "outputs": [
    {
     "data": {
      "text/plain": [
       "['__builtins__',\n",
       " '__cached__',\n",
       " '__doc__',\n",
       " '__file__',\n",
       " '__loader__',\n",
       " '__name__',\n",
       " '__package__',\n",
       " '__spec__',\n",
       " 'us_states']"
      ]
     },
     "execution_count": 16,
     "metadata": {},
     "output_type": "execute_result"
    }
   ],
   "source": [
    "dir(geonamescache.geonamesdata)"
   ]
  },
  {
   "cell_type": "code",
   "execution_count": 17,
   "metadata": {},
   "outputs": [],
   "source": [
    "state_list = list(geonamescache.geonamesdata.us_states.keys())"
   ]
  },
  {
   "cell_type": "code",
   "execution_count": 18,
   "metadata": {},
   "outputs": [
    {
     "data": {
      "text/plain": [
       "{'code': 'AK', 'name': 'Alaska', 'fips': '02', 'geonameid': 5879092}"
      ]
     },
     "execution_count": 18,
     "metadata": {},
     "output_type": "execute_result"
    }
   ],
   "source": [
    "list(geonamescache.geonamesdata.us_states.values())[0]"
   ]
  },
  {
   "cell_type": "code",
   "execution_count": 19,
   "metadata": {},
   "outputs": [
    {
     "data": {
      "text/plain": [
       "['__class__',\n",
       " '__delattr__',\n",
       " '__dict__',\n",
       " '__dir__',\n",
       " '__doc__',\n",
       " '__eq__',\n",
       " '__format__',\n",
       " '__ge__',\n",
       " '__getattribute__',\n",
       " '__gt__',\n",
       " '__hash__',\n",
       " '__init__',\n",
       " '__init_subclass__',\n",
       " '__le__',\n",
       " '__lt__',\n",
       " '__module__',\n",
       " '__ne__',\n",
       " '__new__',\n",
       " '__reduce__',\n",
       " '__reduce_ex__',\n",
       " '__repr__',\n",
       " '__setattr__',\n",
       " '__sizeof__',\n",
       " '__str__',\n",
       " '__subclasshook__',\n",
       " '__weakref__',\n",
       " '_load_data',\n",
       " 'cities',\n",
       " 'cities_by_names',\n",
       " 'cities_items',\n",
       " 'continents',\n",
       " 'countries',\n",
       " 'datadir',\n",
       " 'get_cities',\n",
       " 'get_cities_by_name',\n",
       " 'get_continents',\n",
       " 'get_countries',\n",
       " 'get_countries_by_names',\n",
       " 'get_dataset_by_key',\n",
       " 'get_us_counties',\n",
       " 'get_us_states',\n",
       " 'get_us_states_by_names',\n",
       " 'us_counties',\n",
       " 'us_states']"
      ]
     },
     "execution_count": 19,
     "metadata": {},
     "output_type": "execute_result"
    }
   ],
   "source": [
    "dir(geonamescache.GeonamesCache())"
   ]
  },
  {
   "cell_type": "code",
   "execution_count": 35,
   "metadata": {},
   "outputs": [],
   "source": [
    "gc = geonamescache.GeonamesCache()\n",
    "c = gc.get_cities()\n",
    "\n",
    "cities = [c[key]['name'] for key in list(c.keys())\n",
    "             if c[key]['countrycode'] == 'US']\n",
    "state = [c[key]['admin1code'] for key in list(c.keys())\n",
    "             if c[key]['countrycode'] == 'US']"
   ]
  },
  {
   "cell_type": "code",
   "execution_count": null,
   "metadata": {},
   "outputs": [],
   "source": [
    "[c[key] for key in list(c.keys())\n",
    "             if c[key]['countrycode'] == 'US']"
   ]
  },
  {
   "cell_type": "code",
   "execution_count": 36,
   "metadata": {},
   "outputs": [],
   "source": [
    "city = pd.DataFrame({\"city\": cities, \"state\": state})"
   ]
  },
  {
   "cell_type": "code",
   "execution_count": 21,
   "metadata": {},
   "outputs": [],
   "source": [
    "county_names = []\n",
    "for name in gc.get_us_counties():\n",
    "    county_names.append(name['name'][:-7])\n",
    "    \n",
    "county_states = []\n",
    "for state in gc.get_us_counties():\n",
    "    county_states.append(state['state'])"
   ]
  },
  {
   "cell_type": "code",
   "execution_count": 37,
   "metadata": {},
   "outputs": [],
   "source": [
    "city_state = pd.DataFrame({\"county\": county_names, \"state\": county_states})"
   ]
  },
  {
   "cell_type": "code",
   "execution_count": 23,
   "metadata": {},
   "outputs": [
    {
     "name": "stdout",
     "output_type": "stream",
     "text": [
      "3249 3234 3234\n"
     ]
    }
   ],
   "source": [
    "print(len(cities), len(county_names), len(county_states))"
   ]
  },
  {
   "cell_type": "code",
   "execution_count": 24,
   "metadata": {},
   "outputs": [],
   "source": [
    "assert(len(county_names)==len(county_states))"
   ]
  },
  {
   "cell_type": "code",
   "execution_count": 25,
   "metadata": {},
   "outputs": [
    {
     "data": {
      "text/html": [
       "<div>\n",
       "<style scoped>\n",
       "    .dataframe tbody tr th:only-of-type {\n",
       "        vertical-align: middle;\n",
       "    }\n",
       "\n",
       "    .dataframe tbody tr th {\n",
       "        vertical-align: top;\n",
       "    }\n",
       "\n",
       "    .dataframe thead th {\n",
       "        text-align: right;\n",
       "    }\n",
       "</style>\n",
       "<table border=\"1\" class=\"dataframe\">\n",
       "  <thead>\n",
       "    <tr style=\"text-align: right;\">\n",
       "      <th></th>\n",
       "      <th>county</th>\n",
       "      <th>state</th>\n",
       "    </tr>\n",
       "  </thead>\n",
       "  <tbody>\n",
       "    <tr>\n",
       "      <th>0</th>\n",
       "      <td>Baldwin</td>\n",
       "      <td>AL</td>\n",
       "    </tr>\n",
       "    <tr>\n",
       "      <th>1</th>\n",
       "      <td>Barbour</td>\n",
       "      <td>AL</td>\n",
       "    </tr>\n",
       "    <tr>\n",
       "      <th>2</th>\n",
       "      <td>Bibb</td>\n",
       "      <td>AL</td>\n",
       "    </tr>\n",
       "    <tr>\n",
       "      <th>3</th>\n",
       "      <td>Blount</td>\n",
       "      <td>AL</td>\n",
       "    </tr>\n",
       "    <tr>\n",
       "      <th>4</th>\n",
       "      <td>Bullock</td>\n",
       "      <td>AL</td>\n",
       "    </tr>\n",
       "  </tbody>\n",
       "</table>\n",
       "</div>"
      ],
      "text/plain": [
       "    county state\n",
       "0  Baldwin    AL\n",
       "1  Barbour    AL\n",
       "2     Bibb    AL\n",
       "3   Blount    AL\n",
       "4  Bullock    AL"
      ]
     },
     "execution_count": 25,
     "metadata": {},
     "output_type": "execute_result"
    }
   ],
   "source": [
    "city_state.head()"
   ]
  },
  {
   "cell_type": "code",
   "execution_count": null,
   "metadata": {},
   "outputs": [],
   "source": [
    "sorted(city_state['state'].unique())"
   ]
  },
  {
   "cell_type": "code",
   "execution_count": 27,
   "metadata": {},
   "outputs": [],
   "source": [
    "not_cont_state = ['AS', 'GU', 'MP', 'PR', 'UM']"
   ]
  },
  {
   "cell_type": "code",
   "execution_count": 28,
   "metadata": {},
   "outputs": [
    {
     "data": {
      "text/html": [
       "<div>\n",
       "<style scoped>\n",
       "    .dataframe tbody tr th:only-of-type {\n",
       "        vertical-align: middle;\n",
       "    }\n",
       "\n",
       "    .dataframe tbody tr th {\n",
       "        vertical-align: top;\n",
       "    }\n",
       "\n",
       "    .dataframe thead th {\n",
       "        text-align: right;\n",
       "    }\n",
       "</style>\n",
       "<table border=\"1\" class=\"dataframe\">\n",
       "  <thead>\n",
       "    <tr style=\"text-align: right;\">\n",
       "      <th></th>\n",
       "      <th>county</th>\n",
       "      <th>state</th>\n",
       "    </tr>\n",
       "  </thead>\n",
       "  <tbody>\n",
       "    <tr>\n",
       "      <th>318</th>\n",
       "      <td>District of C</td>\n",
       "      <td>DC</td>\n",
       "    </tr>\n",
       "  </tbody>\n",
       "</table>\n",
       "</div>"
      ],
      "text/plain": [
       "            county state\n",
       "318  District of C    DC"
      ]
     },
     "execution_count": 28,
     "metadata": {},
     "output_type": "execute_result"
    }
   ],
   "source": [
    "city_state[city_state['state']=='DC']"
   ]
  },
  {
   "cell_type": "code",
   "execution_count": 42,
   "metadata": {},
   "outputs": [
    {
     "name": "stdout",
     "output_type": "stream",
     "text": [
      "           city state\n",
      "0     Fort Hunt    VA\n",
      "1      Bessemer    AL\n",
      "2       Paducah    KY\n",
      "3    Birmingham    AL\n",
      "4  Center Point    AL\n"
     ]
    }
   ],
   "source": [
    "print(city.head())"
   ]
  },
  {
   "cell_type": "code",
   "execution_count": 63,
   "metadata": {},
   "outputs": [],
   "source": [
    "county_state_cleaned = city_state[(city_state['state'] != 'AS') | (city_state['state'] != 'GU')\n",
    "                                | (city_state['state'] != 'MP') | (city_state['state'] != 'PR')\n",
    "                                | (city_state['state'] != 'UM')]"
   ]
  },
  {
   "cell_type": "code",
   "execution_count": 71,
   "metadata": {},
   "outputs": [
    {
     "name": "stdout",
     "output_type": "stream",
     "text": [
      "(3249, 2) (3234, 2) (3226, 3)\n"
     ]
    }
   ],
   "source": [
    "print(city.shape, county_state_cleaned.shape, final.shape)"
   ]
  },
  {
   "cell_type": "code",
   "execution_count": 73,
   "metadata": {},
   "outputs": [
    {
     "data": {
      "text/html": [
       "<div>\n",
       "<style scoped>\n",
       "    .dataframe tbody tr th:only-of-type {\n",
       "        vertical-align: middle;\n",
       "    }\n",
       "\n",
       "    .dataframe tbody tr th {\n",
       "        vertical-align: top;\n",
       "    }\n",
       "\n",
       "    .dataframe thead th {\n",
       "        text-align: right;\n",
       "    }\n",
       "</style>\n",
       "<table border=\"1\" class=\"dataframe\">\n",
       "  <thead>\n",
       "    <tr style=\"text-align: right;\">\n",
       "      <th></th>\n",
       "      <th>Value</th>\n",
       "      <th>county</th>\n",
       "      <th>state</th>\n",
       "    </tr>\n",
       "  </thead>\n",
       "  <tbody>\n",
       "    <tr>\n",
       "      <th>0</th>\n",
       "      <td>0.0</td>\n",
       "      <td>Aleutians East</td>\n",
       "      <td>AK</td>\n",
       "    </tr>\n",
       "    <tr>\n",
       "      <th>1</th>\n",
       "      <td>0.0</td>\n",
       "      <td>Aleutians West</td>\n",
       "      <td>AK</td>\n",
       "    </tr>\n",
       "    <tr>\n",
       "      <th>2</th>\n",
       "      <td>125.4</td>\n",
       "      <td>Anchorage</td>\n",
       "      <td>AK</td>\n",
       "    </tr>\n",
       "    <tr>\n",
       "      <th>3</th>\n",
       "      <td>191.4</td>\n",
       "      <td>Bethel</td>\n",
       "      <td>AK</td>\n",
       "    </tr>\n",
       "    <tr>\n",
       "      <th>4</th>\n",
       "      <td>0.0</td>\n",
       "      <td>Bristol Bay</td>\n",
       "      <td>AK</td>\n",
       "    </tr>\n",
       "  </tbody>\n",
       "</table>\n",
       "</div>"
      ],
      "text/plain": [
       "   Value          county state\n",
       "0    0.0  Aleutians East    AK\n",
       "1    0.0  Aleutians West    AK\n",
       "2  125.4       Anchorage    AK\n",
       "3  191.4          Bethel    AK\n",
       "4    0.0     Bristol Bay    AK"
      ]
     },
     "execution_count": 73,
     "metadata": {},
     "output_type": "execute_result"
    }
   ],
   "source": [
    "final.head()"
   ]
  },
  {
   "cell_type": "code",
   "execution_count": 74,
   "metadata": {},
   "outputs": [],
   "source": [
    "city_county_merged = county_state_cleaned.merge(city, on='state')"
   ]
  },
  {
   "cell_type": "code",
   "execution_count": 77,
   "metadata": {},
   "outputs": [
    {
     "data": {
      "text/html": [
       "<div>\n",
       "<style scoped>\n",
       "    .dataframe tbody tr th:only-of-type {\n",
       "        vertical-align: middle;\n",
       "    }\n",
       "\n",
       "    .dataframe tbody tr th {\n",
       "        vertical-align: top;\n",
       "    }\n",
       "\n",
       "    .dataframe thead th {\n",
       "        text-align: right;\n",
       "    }\n",
       "</style>\n",
       "<table border=\"1\" class=\"dataframe\">\n",
       "  <thead>\n",
       "    <tr style=\"text-align: right;\">\n",
       "      <th></th>\n",
       "      <th>Value</th>\n",
       "      <th>county</th>\n",
       "      <th>state</th>\n",
       "      <th>city</th>\n",
       "    </tr>\n",
       "  </thead>\n",
       "  <tbody>\n",
       "    <tr>\n",
       "      <th>0</th>\n",
       "      <td>112.2</td>\n",
       "      <td>Alameda</td>\n",
       "      <td>CA</td>\n",
       "      <td>Fillmore</td>\n",
       "    </tr>\n",
       "    <tr>\n",
       "      <th>1</th>\n",
       "      <td>112.2</td>\n",
       "      <td>Alameda</td>\n",
       "      <td>CA</td>\n",
       "      <td>Adelanto</td>\n",
       "    </tr>\n",
       "    <tr>\n",
       "      <th>2</th>\n",
       "      <td>112.2</td>\n",
       "      <td>Alameda</td>\n",
       "      <td>CA</td>\n",
       "      <td>Agoura</td>\n",
       "    </tr>\n",
       "    <tr>\n",
       "      <th>3</th>\n",
       "      <td>112.2</td>\n",
       "      <td>Alameda</td>\n",
       "      <td>CA</td>\n",
       "      <td>Agoura Hills</td>\n",
       "    </tr>\n",
       "    <tr>\n",
       "      <th>4</th>\n",
       "      <td>112.2</td>\n",
       "      <td>Alameda</td>\n",
       "      <td>CA</td>\n",
       "      <td>Alameda</td>\n",
       "    </tr>\n",
       "    <tr>\n",
       "      <th>...</th>\n",
       "      <td>...</td>\n",
       "      <td>...</td>\n",
       "      <td>...</td>\n",
       "      <td>...</td>\n",
       "    </tr>\n",
       "    <tr>\n",
       "      <th>246121</th>\n",
       "      <td>183.7</td>\n",
       "      <td>Washburn</td>\n",
       "      <td>WI</td>\n",
       "      <td>West Allis</td>\n",
       "    </tr>\n",
       "    <tr>\n",
       "      <th>246122</th>\n",
       "      <td>183.7</td>\n",
       "      <td>Washburn</td>\n",
       "      <td>WI</td>\n",
       "      <td>West Bend</td>\n",
       "    </tr>\n",
       "    <tr>\n",
       "      <th>246123</th>\n",
       "      <td>183.7</td>\n",
       "      <td>Washburn</td>\n",
       "      <td>WI</td>\n",
       "      <td>Weston</td>\n",
       "    </tr>\n",
       "    <tr>\n",
       "      <th>246124</th>\n",
       "      <td>183.7</td>\n",
       "      <td>Washburn</td>\n",
       "      <td>WI</td>\n",
       "      <td>Wisconsin Rapids</td>\n",
       "    </tr>\n",
       "    <tr>\n",
       "      <th>246125</th>\n",
       "      <td>183.7</td>\n",
       "      <td>Washburn</td>\n",
       "      <td>WI</td>\n",
       "      <td>Mount Pleasant</td>\n",
       "    </tr>\n",
       "  </tbody>\n",
       "</table>\n",
       "<p>246126 rows × 4 columns</p>\n",
       "</div>"
      ],
      "text/plain": [
       "        Value    county state              city\n",
       "0       112.2   Alameda    CA          Fillmore\n",
       "1       112.2   Alameda    CA          Adelanto\n",
       "2       112.2   Alameda    CA            Agoura\n",
       "3       112.2   Alameda    CA      Agoura Hills\n",
       "4       112.2   Alameda    CA           Alameda\n",
       "...       ...       ...   ...               ...\n",
       "246121  183.7  Washburn    WI        West Allis\n",
       "246122  183.7  Washburn    WI         West Bend\n",
       "246123  183.7  Washburn    WI            Weston\n",
       "246124  183.7  Washburn    WI  Wisconsin Rapids\n",
       "246125  183.7  Washburn    WI    Mount Pleasant\n",
       "\n",
       "[246126 rows x 4 columns]"
      ]
     },
     "execution_count": 77,
     "metadata": {},
     "output_type": "execute_result"
    }
   ],
   "source": [
    "final.merge(city_county_merged, on=['county', 'state'])"
   ]
  },
  {
   "cell_type": "code",
   "execution_count": 79,
   "metadata": {},
   "outputs": [],
   "source": [
    "final_merged = final.merge(city_county_merged, on=['county', 'state'])"
   ]
  },
  {
   "cell_type": "code",
   "execution_count": 80,
   "metadata": {},
   "outputs": [],
   "source": [
    "# final_merged.to_csv('city_county_state.csv')"
   ]
  },
  {
   "cell_type": "code",
   "execution_count": 81,
   "metadata": {},
   "outputs": [
    {
     "data": {
      "text/plain": [
       "Value     0\n",
       "county    0\n",
       "state     0\n",
       "city      0\n",
       "dtype: int64"
      ]
     },
     "execution_count": 81,
     "metadata": {},
     "output_type": "execute_result"
    }
   ],
   "source": [
    "final_merged.isna().sum()"
   ]
  },
  {
   "cell_type": "code",
   "execution_count": null,
   "metadata": {},
   "outputs": [],
   "source": []
  }
 ],
 "metadata": {
  "kernelspec": {
   "display_name": "Juxta (Python3)",
   "language": "python",
   "name": "juxta"
  },
  "language_info": {
   "codemirror_mode": {
    "name": "ipython",
    "version": 3
   },
   "file_extension": ".py",
   "mimetype": "text/x-python",
   "name": "python",
   "nbconvert_exporter": "python",
   "pygments_lexer": "ipython3",
   "version": "3.7.0"
  }
 },
 "nbformat": 4,
 "nbformat_minor": 4
}
